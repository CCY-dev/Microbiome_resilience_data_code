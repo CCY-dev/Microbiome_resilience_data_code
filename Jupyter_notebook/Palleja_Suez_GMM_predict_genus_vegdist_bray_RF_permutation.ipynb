{
 "cells": [
  {
   "cell_type": "markdown",
   "metadata": {},
   "source": [
    "# Palleja & Suez GMM at baseline v.s. V1-V2 distance of Kegg module random forest permutation + a full part of LOOCV"
   ]
  },
  {
   "cell_type": "markdown",
   "metadata": {},
   "source": [
    "## 1. Read in data"
   ]
  },
  {
   "cell_type": "code",
   "execution_count": 15,
   "metadata": {},
   "outputs": [],
   "source": [
    "import pandas as pd\n",
    "import numpy as np\n",
    "import matplotlib.pyplot as plt\n",
    "import seaborn as sns"
   ]
  },
  {
   "cell_type": "code",
   "execution_count": 16,
   "metadata": {},
   "outputs": [],
   "source": [
    "genus = pd.read_csv('/Users/Jessica/Documents/Lab/Multiple_longitudinal/Microbe_resilience/Palleja_Suez_GMM_predict_genus_vegdist_bray_forML.txt',\n",
    "                   delimiter = \"\\t\")"
   ]
  },
  {
   "cell_type": "code",
   "execution_count": 17,
   "metadata": {},
   "outputs": [
    {
     "data": {
      "text/html": [
       "<div>\n",
       "<style scoped>\n",
       "    .dataframe tbody tr th:only-of-type {\n",
       "        vertical-align: middle;\n",
       "    }\n",
       "\n",
       "    .dataframe tbody tr th {\n",
       "        vertical-align: top;\n",
       "    }\n",
       "\n",
       "    .dataframe thead th {\n",
       "        text-align: right;\n",
       "    }\n",
       "</style>\n",
       "<table border=\"1\" class=\"dataframe\">\n",
       "  <thead>\n",
       "    <tr style=\"text-align: right;\">\n",
       "      <th></th>\n",
       "      <th>Study</th>\n",
       "      <th>ID</th>\n",
       "      <th>Dist_V1V2</th>\n",
       "      <th>Timepoint</th>\n",
       "      <th>Run</th>\n",
       "      <th>MF0001</th>\n",
       "      <th>MF0002</th>\n",
       "      <th>MF0003</th>\n",
       "      <th>MF0004</th>\n",
       "      <th>MF0005</th>\n",
       "      <th>...</th>\n",
       "      <th>MF0124</th>\n",
       "      <th>MF0125</th>\n",
       "      <th>MF0126</th>\n",
       "      <th>MF0127</th>\n",
       "      <th>MF0128</th>\n",
       "      <th>MF0129</th>\n",
       "      <th>MF0130</th>\n",
       "      <th>MF0131</th>\n",
       "      <th>MF0132</th>\n",
       "      <th>MF0133</th>\n",
       "    </tr>\n",
       "  </thead>\n",
       "  <tbody>\n",
       "    <tr>\n",
       "      <th>0</th>\n",
       "      <td>Suez</td>\n",
       "      <td>603</td>\n",
       "      <td>0.547619</td>\n",
       "      <td>Baseline</td>\n",
       "      <td>ERR2749744</td>\n",
       "      <td>121</td>\n",
       "      <td>83</td>\n",
       "      <td>103</td>\n",
       "      <td>3</td>\n",
       "      <td>26</td>\n",
       "      <td>...</td>\n",
       "      <td>156</td>\n",
       "      <td>64</td>\n",
       "      <td>48</td>\n",
       "      <td>81</td>\n",
       "      <td>0</td>\n",
       "      <td>20</td>\n",
       "      <td>19</td>\n",
       "      <td>12</td>\n",
       "      <td>77</td>\n",
       "      <td>25</td>\n",
       "    </tr>\n",
       "    <tr>\n",
       "      <th>1</th>\n",
       "      <td>Suez</td>\n",
       "      <td>604</td>\n",
       "      <td>0.760218</td>\n",
       "      <td>Baseline</td>\n",
       "      <td>ERR2749783</td>\n",
       "      <td>73</td>\n",
       "      <td>44</td>\n",
       "      <td>88</td>\n",
       "      <td>4</td>\n",
       "      <td>22</td>\n",
       "      <td>...</td>\n",
       "      <td>161</td>\n",
       "      <td>113</td>\n",
       "      <td>29</td>\n",
       "      <td>100</td>\n",
       "      <td>6</td>\n",
       "      <td>29</td>\n",
       "      <td>24</td>\n",
       "      <td>9</td>\n",
       "      <td>86</td>\n",
       "      <td>56</td>\n",
       "    </tr>\n",
       "    <tr>\n",
       "      <th>2</th>\n",
       "      <td>Suez</td>\n",
       "      <td>605</td>\n",
       "      <td>0.883333</td>\n",
       "      <td>Baseline</td>\n",
       "      <td>ERR2749816</td>\n",
       "      <td>79</td>\n",
       "      <td>45</td>\n",
       "      <td>99</td>\n",
       "      <td>2</td>\n",
       "      <td>30</td>\n",
       "      <td>...</td>\n",
       "      <td>160</td>\n",
       "      <td>88</td>\n",
       "      <td>26</td>\n",
       "      <td>92</td>\n",
       "      <td>7</td>\n",
       "      <td>6</td>\n",
       "      <td>19</td>\n",
       "      <td>3</td>\n",
       "      <td>100</td>\n",
       "      <td>60</td>\n",
       "    </tr>\n",
       "    <tr>\n",
       "      <th>3</th>\n",
       "      <td>Suez</td>\n",
       "      <td>606</td>\n",
       "      <td>0.989071</td>\n",
       "      <td>Baseline</td>\n",
       "      <td>ERR2749856</td>\n",
       "      <td>75</td>\n",
       "      <td>47</td>\n",
       "      <td>96</td>\n",
       "      <td>3</td>\n",
       "      <td>25</td>\n",
       "      <td>...</td>\n",
       "      <td>150</td>\n",
       "      <td>83</td>\n",
       "      <td>22</td>\n",
       "      <td>83</td>\n",
       "      <td>1</td>\n",
       "      <td>16</td>\n",
       "      <td>29</td>\n",
       "      <td>7</td>\n",
       "      <td>58</td>\n",
       "      <td>60</td>\n",
       "    </tr>\n",
       "    <tr>\n",
       "      <th>4</th>\n",
       "      <td>Suez</td>\n",
       "      <td>704</td>\n",
       "      <td>0.968379</td>\n",
       "      <td>Baseline</td>\n",
       "      <td>ERR2750073</td>\n",
       "      <td>77</td>\n",
       "      <td>46</td>\n",
       "      <td>101</td>\n",
       "      <td>3</td>\n",
       "      <td>23</td>\n",
       "      <td>...</td>\n",
       "      <td>154</td>\n",
       "      <td>101</td>\n",
       "      <td>30</td>\n",
       "      <td>91</td>\n",
       "      <td>2</td>\n",
       "      <td>24</td>\n",
       "      <td>25</td>\n",
       "      <td>7</td>\n",
       "      <td>85</td>\n",
       "      <td>55</td>\n",
       "    </tr>\n",
       "  </tbody>\n",
       "</table>\n",
       "<p>5 rows × 136 columns</p>\n",
       "</div>"
      ],
      "text/plain": [
       "  Study   ID  Dist_V1V2 Timepoint         Run  MF0001  MF0002  MF0003  MF0004  \\\n",
       "0  Suez  603   0.547619  Baseline  ERR2749744     121      83     103       3   \n",
       "1  Suez  604   0.760218  Baseline  ERR2749783      73      44      88       4   \n",
       "2  Suez  605   0.883333  Baseline  ERR2749816      79      45      99       2   \n",
       "3  Suez  606   0.989071  Baseline  ERR2749856      75      47      96       3   \n",
       "4  Suez  704   0.968379  Baseline  ERR2750073      77      46     101       3   \n",
       "\n",
       "   MF0005  ...  MF0124  MF0125  MF0126  MF0127  MF0128  MF0129  MF0130  \\\n",
       "0      26  ...     156      64      48      81       0      20      19   \n",
       "1      22  ...     161     113      29     100       6      29      24   \n",
       "2      30  ...     160      88      26      92       7       6      19   \n",
       "3      25  ...     150      83      22      83       1      16      29   \n",
       "4      23  ...     154     101      30      91       2      24      25   \n",
       "\n",
       "   MF0131  MF0132  MF0133  \n",
       "0      12      77      25  \n",
       "1       9      86      56  \n",
       "2       3     100      60  \n",
       "3       7      58      60  \n",
       "4       7      85      55  \n",
       "\n",
       "[5 rows x 136 columns]"
      ]
     },
     "execution_count": 17,
     "metadata": {},
     "output_type": "execute_result"
    }
   ],
   "source": [
    "genus.head()"
   ]
  },
  {
   "cell_type": "markdown",
   "metadata": {},
   "source": [
    "## 2. Set up evaluation environment. Use stratified 5-fold CV"
   ]
  },
  {
   "cell_type": "code",
   "execution_count": 18,
   "metadata": {},
   "outputs": [],
   "source": [
    "my_data = genus.drop(columns=['Timepoint', 'Study', \"Run\"])"
   ]
  },
  {
   "cell_type": "code",
   "execution_count": 19,
   "metadata": {},
   "outputs": [
    {
     "data": {
      "text/html": [
       "<div>\n",
       "<style scoped>\n",
       "    .dataframe tbody tr th:only-of-type {\n",
       "        vertical-align: middle;\n",
       "    }\n",
       "\n",
       "    .dataframe tbody tr th {\n",
       "        vertical-align: top;\n",
       "    }\n",
       "\n",
       "    .dataframe thead th {\n",
       "        text-align: right;\n",
       "    }\n",
       "</style>\n",
       "<table border=\"1\" class=\"dataframe\">\n",
       "  <thead>\n",
       "    <tr style=\"text-align: right;\">\n",
       "      <th></th>\n",
       "      <th>ID</th>\n",
       "      <th>Dist_V1V2</th>\n",
       "      <th>MF0001</th>\n",
       "      <th>MF0002</th>\n",
       "      <th>MF0003</th>\n",
       "      <th>MF0004</th>\n",
       "      <th>MF0005</th>\n",
       "      <th>MF0006</th>\n",
       "      <th>MF0007</th>\n",
       "      <th>MF0008</th>\n",
       "      <th>...</th>\n",
       "      <th>MF0124</th>\n",
       "      <th>MF0125</th>\n",
       "      <th>MF0126</th>\n",
       "      <th>MF0127</th>\n",
       "      <th>MF0128</th>\n",
       "      <th>MF0129</th>\n",
       "      <th>MF0130</th>\n",
       "      <th>MF0131</th>\n",
       "      <th>MF0132</th>\n",
       "      <th>MF0133</th>\n",
       "    </tr>\n",
       "  </thead>\n",
       "  <tbody>\n",
       "    <tr>\n",
       "      <th>0</th>\n",
       "      <td>603</td>\n",
       "      <td>0.547619</td>\n",
       "      <td>121</td>\n",
       "      <td>83</td>\n",
       "      <td>103</td>\n",
       "      <td>3</td>\n",
       "      <td>26</td>\n",
       "      <td>20</td>\n",
       "      <td>86</td>\n",
       "      <td>86</td>\n",
       "      <td>...</td>\n",
       "      <td>156</td>\n",
       "      <td>64</td>\n",
       "      <td>48</td>\n",
       "      <td>81</td>\n",
       "      <td>0</td>\n",
       "      <td>20</td>\n",
       "      <td>19</td>\n",
       "      <td>12</td>\n",
       "      <td>77</td>\n",
       "      <td>25</td>\n",
       "    </tr>\n",
       "    <tr>\n",
       "      <th>1</th>\n",
       "      <td>604</td>\n",
       "      <td>0.760218</td>\n",
       "      <td>73</td>\n",
       "      <td>44</td>\n",
       "      <td>88</td>\n",
       "      <td>4</td>\n",
       "      <td>22</td>\n",
       "      <td>19</td>\n",
       "      <td>112</td>\n",
       "      <td>112</td>\n",
       "      <td>...</td>\n",
       "      <td>161</td>\n",
       "      <td>113</td>\n",
       "      <td>29</td>\n",
       "      <td>100</td>\n",
       "      <td>6</td>\n",
       "      <td>29</td>\n",
       "      <td>24</td>\n",
       "      <td>9</td>\n",
       "      <td>86</td>\n",
       "      <td>56</td>\n",
       "    </tr>\n",
       "    <tr>\n",
       "      <th>2</th>\n",
       "      <td>605</td>\n",
       "      <td>0.883333</td>\n",
       "      <td>79</td>\n",
       "      <td>45</td>\n",
       "      <td>99</td>\n",
       "      <td>2</td>\n",
       "      <td>30</td>\n",
       "      <td>18</td>\n",
       "      <td>107</td>\n",
       "      <td>108</td>\n",
       "      <td>...</td>\n",
       "      <td>160</td>\n",
       "      <td>88</td>\n",
       "      <td>26</td>\n",
       "      <td>92</td>\n",
       "      <td>7</td>\n",
       "      <td>6</td>\n",
       "      <td>19</td>\n",
       "      <td>3</td>\n",
       "      <td>100</td>\n",
       "      <td>60</td>\n",
       "    </tr>\n",
       "    <tr>\n",
       "      <th>3</th>\n",
       "      <td>606</td>\n",
       "      <td>0.989071</td>\n",
       "      <td>75</td>\n",
       "      <td>47</td>\n",
       "      <td>96</td>\n",
       "      <td>3</td>\n",
       "      <td>25</td>\n",
       "      <td>14</td>\n",
       "      <td>106</td>\n",
       "      <td>106</td>\n",
       "      <td>...</td>\n",
       "      <td>150</td>\n",
       "      <td>83</td>\n",
       "      <td>22</td>\n",
       "      <td>83</td>\n",
       "      <td>1</td>\n",
       "      <td>16</td>\n",
       "      <td>29</td>\n",
       "      <td>7</td>\n",
       "      <td>58</td>\n",
       "      <td>60</td>\n",
       "    </tr>\n",
       "    <tr>\n",
       "      <th>4</th>\n",
       "      <td>704</td>\n",
       "      <td>0.968379</td>\n",
       "      <td>77</td>\n",
       "      <td>46</td>\n",
       "      <td>101</td>\n",
       "      <td>3</td>\n",
       "      <td>23</td>\n",
       "      <td>15</td>\n",
       "      <td>103</td>\n",
       "      <td>104</td>\n",
       "      <td>...</td>\n",
       "      <td>154</td>\n",
       "      <td>101</td>\n",
       "      <td>30</td>\n",
       "      <td>91</td>\n",
       "      <td>2</td>\n",
       "      <td>24</td>\n",
       "      <td>25</td>\n",
       "      <td>7</td>\n",
       "      <td>85</td>\n",
       "      <td>55</td>\n",
       "    </tr>\n",
       "  </tbody>\n",
       "</table>\n",
       "<p>5 rows × 133 columns</p>\n",
       "</div>"
      ],
      "text/plain": [
       "    ID  Dist_V1V2  MF0001  MF0002  MF0003  MF0004  MF0005  MF0006  MF0007  \\\n",
       "0  603   0.547619     121      83     103       3      26      20      86   \n",
       "1  604   0.760218      73      44      88       4      22      19     112   \n",
       "2  605   0.883333      79      45      99       2      30      18     107   \n",
       "3  606   0.989071      75      47      96       3      25      14     106   \n",
       "4  704   0.968379      77      46     101       3      23      15     103   \n",
       "\n",
       "   MF0008  ...  MF0124  MF0125  MF0126  MF0127  MF0128  MF0129  MF0130  \\\n",
       "0      86  ...     156      64      48      81       0      20      19   \n",
       "1     112  ...     161     113      29     100       6      29      24   \n",
       "2     108  ...     160      88      26      92       7       6      19   \n",
       "3     106  ...     150      83      22      83       1      16      29   \n",
       "4     104  ...     154     101      30      91       2      24      25   \n",
       "\n",
       "   MF0131  MF0132  MF0133  \n",
       "0      12      77      25  \n",
       "1       9      86      56  \n",
       "2       3     100      60  \n",
       "3       7      58      60  \n",
       "4       7      85      55  \n",
       "\n",
       "[5 rows x 133 columns]"
      ]
     },
     "execution_count": 19,
     "metadata": {},
     "output_type": "execute_result"
    }
   ],
   "source": [
    "my_data.head()"
   ]
  },
  {
   "cell_type": "code",
   "execution_count": 20,
   "metadata": {},
   "outputs": [],
   "source": [
    "from sklearn.model_selection import StratifiedKFold\n",
    "skf = StratifiedKFold(n_splits=5)"
   ]
  },
  {
   "cell_type": "markdown",
   "metadata": {},
   "source": [
    "## Step 3: Try out Random Forest (within the 5 - Fold CV setup)"
   ]
  },
  {
   "cell_type": "code",
   "execution_count": 21,
   "metadata": {},
   "outputs": [],
   "source": [
    "from sklearn.model_selection import cross_val_predict\n",
    "from sklearn.metrics import accuracy_score\n",
    "from sklearn.metrics import roc_auc_score\n",
    "from sklearn.ensemble import RandomForestRegressor\n",
    "import matplotlib.pyplot as plt\n",
    "from collections import OrderedDict"
   ]
  },
  {
   "cell_type": "code",
   "execution_count": 22,
   "metadata": {},
   "outputs": [],
   "source": [
    "seed = 42"
   ]
  },
  {
   "cell_type": "code",
   "execution_count": 23,
   "metadata": {},
   "outputs": [],
   "source": [
    "X, y = my_data.drop(columns=['ID','Dist_V1V2']), my_data.Dist_V1V2"
   ]
  },
  {
   "cell_type": "code",
   "execution_count": 24,
   "metadata": {},
   "outputs": [
    {
     "data": {
      "text/html": [
       "<div>\n",
       "<style scoped>\n",
       "    .dataframe tbody tr th:only-of-type {\n",
       "        vertical-align: middle;\n",
       "    }\n",
       "\n",
       "    .dataframe tbody tr th {\n",
       "        vertical-align: top;\n",
       "    }\n",
       "\n",
       "    .dataframe thead th {\n",
       "        text-align: right;\n",
       "    }\n",
       "</style>\n",
       "<table border=\"1\" class=\"dataframe\">\n",
       "  <thead>\n",
       "    <tr style=\"text-align: right;\">\n",
       "      <th></th>\n",
       "      <th>MF0001</th>\n",
       "      <th>MF0002</th>\n",
       "      <th>MF0003</th>\n",
       "      <th>MF0004</th>\n",
       "      <th>MF0005</th>\n",
       "      <th>MF0006</th>\n",
       "      <th>MF0007</th>\n",
       "      <th>MF0008</th>\n",
       "      <th>MF0009</th>\n",
       "      <th>MF0010</th>\n",
       "      <th>...</th>\n",
       "      <th>MF0124</th>\n",
       "      <th>MF0125</th>\n",
       "      <th>MF0126</th>\n",
       "      <th>MF0127</th>\n",
       "      <th>MF0128</th>\n",
       "      <th>MF0129</th>\n",
       "      <th>MF0130</th>\n",
       "      <th>MF0131</th>\n",
       "      <th>MF0132</th>\n",
       "      <th>MF0133</th>\n",
       "    </tr>\n",
       "  </thead>\n",
       "  <tbody>\n",
       "    <tr>\n",
       "      <th>0</th>\n",
       "      <td>121</td>\n",
       "      <td>83</td>\n",
       "      <td>103</td>\n",
       "      <td>3</td>\n",
       "      <td>26</td>\n",
       "      <td>20</td>\n",
       "      <td>86</td>\n",
       "      <td>86</td>\n",
       "      <td>15</td>\n",
       "      <td>0</td>\n",
       "      <td>...</td>\n",
       "      <td>156</td>\n",
       "      <td>64</td>\n",
       "      <td>48</td>\n",
       "      <td>81</td>\n",
       "      <td>0</td>\n",
       "      <td>20</td>\n",
       "      <td>19</td>\n",
       "      <td>12</td>\n",
       "      <td>77</td>\n",
       "      <td>25</td>\n",
       "    </tr>\n",
       "    <tr>\n",
       "      <th>1</th>\n",
       "      <td>73</td>\n",
       "      <td>44</td>\n",
       "      <td>88</td>\n",
       "      <td>4</td>\n",
       "      <td>22</td>\n",
       "      <td>19</td>\n",
       "      <td>112</td>\n",
       "      <td>112</td>\n",
       "      <td>5</td>\n",
       "      <td>0</td>\n",
       "      <td>...</td>\n",
       "      <td>161</td>\n",
       "      <td>113</td>\n",
       "      <td>29</td>\n",
       "      <td>100</td>\n",
       "      <td>6</td>\n",
       "      <td>29</td>\n",
       "      <td>24</td>\n",
       "      <td>9</td>\n",
       "      <td>86</td>\n",
       "      <td>56</td>\n",
       "    </tr>\n",
       "    <tr>\n",
       "      <th>2</th>\n",
       "      <td>79</td>\n",
       "      <td>45</td>\n",
       "      <td>99</td>\n",
       "      <td>2</td>\n",
       "      <td>30</td>\n",
       "      <td>18</td>\n",
       "      <td>107</td>\n",
       "      <td>108</td>\n",
       "      <td>3</td>\n",
       "      <td>0</td>\n",
       "      <td>...</td>\n",
       "      <td>160</td>\n",
       "      <td>88</td>\n",
       "      <td>26</td>\n",
       "      <td>92</td>\n",
       "      <td>7</td>\n",
       "      <td>6</td>\n",
       "      <td>19</td>\n",
       "      <td>3</td>\n",
       "      <td>100</td>\n",
       "      <td>60</td>\n",
       "    </tr>\n",
       "    <tr>\n",
       "      <th>3</th>\n",
       "      <td>75</td>\n",
       "      <td>47</td>\n",
       "      <td>96</td>\n",
       "      <td>3</td>\n",
       "      <td>25</td>\n",
       "      <td>14</td>\n",
       "      <td>106</td>\n",
       "      <td>106</td>\n",
       "      <td>12</td>\n",
       "      <td>0</td>\n",
       "      <td>...</td>\n",
       "      <td>150</td>\n",
       "      <td>83</td>\n",
       "      <td>22</td>\n",
       "      <td>83</td>\n",
       "      <td>1</td>\n",
       "      <td>16</td>\n",
       "      <td>29</td>\n",
       "      <td>7</td>\n",
       "      <td>58</td>\n",
       "      <td>60</td>\n",
       "    </tr>\n",
       "    <tr>\n",
       "      <th>4</th>\n",
       "      <td>77</td>\n",
       "      <td>46</td>\n",
       "      <td>101</td>\n",
       "      <td>3</td>\n",
       "      <td>23</td>\n",
       "      <td>15</td>\n",
       "      <td>103</td>\n",
       "      <td>104</td>\n",
       "      <td>7</td>\n",
       "      <td>0</td>\n",
       "      <td>...</td>\n",
       "      <td>154</td>\n",
       "      <td>101</td>\n",
       "      <td>30</td>\n",
       "      <td>91</td>\n",
       "      <td>2</td>\n",
       "      <td>24</td>\n",
       "      <td>25</td>\n",
       "      <td>7</td>\n",
       "      <td>85</td>\n",
       "      <td>55</td>\n",
       "    </tr>\n",
       "  </tbody>\n",
       "</table>\n",
       "<p>5 rows × 131 columns</p>\n",
       "</div>"
      ],
      "text/plain": [
       "   MF0001  MF0002  MF0003  MF0004  MF0005  MF0006  MF0007  MF0008  MF0009  \\\n",
       "0     121      83     103       3      26      20      86      86      15   \n",
       "1      73      44      88       4      22      19     112     112       5   \n",
       "2      79      45      99       2      30      18     107     108       3   \n",
       "3      75      47      96       3      25      14     106     106      12   \n",
       "4      77      46     101       3      23      15     103     104       7   \n",
       "\n",
       "   MF0010  ...  MF0124  MF0125  MF0126  MF0127  MF0128  MF0129  MF0130  \\\n",
       "0       0  ...     156      64      48      81       0      20      19   \n",
       "1       0  ...     161     113      29     100       6      29      24   \n",
       "2       0  ...     160      88      26      92       7       6      19   \n",
       "3       0  ...     150      83      22      83       1      16      29   \n",
       "4       0  ...     154     101      30      91       2      24      25   \n",
       "\n",
       "   MF0131  MF0132  MF0133  \n",
       "0      12      77      25  \n",
       "1       9      86      56  \n",
       "2       3     100      60  \n",
       "3       7      58      60  \n",
       "4       7      85      55  \n",
       "\n",
       "[5 rows x 131 columns]"
      ]
     },
     "execution_count": 24,
     "metadata": {},
     "output_type": "execute_result"
    }
   ],
   "source": [
    "X.head()"
   ]
  },
  {
   "cell_type": "code",
   "execution_count": 25,
   "metadata": {},
   "outputs": [],
   "source": [
    "from sklearn.model_selection import cross_val_score\n",
    "from sklearn.model_selection import KFold\n",
    "from sklearn.model_selection import cross_validate\n",
    "import random\n",
    "import math\n",
    "seed = 42\n",
    "X, y = my_data.drop(columns=['ID','Dist_V1V2']), my_data.Dist_V1V2\n",
    "kf = KFold(n_splits=5)"
   ]
  },
  {
   "cell_type": "code",
   "execution_count": 26,
   "metadata": {},
   "outputs": [
    {
     "name": "stdout",
     "output_type": "stream",
     "text": [
      "Avg kfold neg MSE: -0.140316878359536\n"
     ]
    }
   ],
   "source": [
    "# Max_depth = 10, max_features = \"sqrt\"\n",
    "RF_1 = RandomForestRegressor(random_state=seed, max_depth=10, n_estimators= 1550, \n",
    "                            oob_score=True, max_features = \"sqrt\")\n",
    "result_negMSE_1 = cross_val_score(RF_1, X, y, cv = kf, scoring=\"neg_mean_absolute_error\")\n",
    "print(\"Avg kfold neg MSE: {}\".format(result_negMSE_1.mean())) #Print average accuracy\n",
    "output = cross_validate(RF_1, X, y, cv=kf, scoring = 'neg_mean_absolute_error', return_estimator =True)"
   ]
  },
  {
   "cell_type": "code",
   "execution_count": 27,
   "metadata": {},
   "outputs": [
    {
     "name": "stdout",
     "output_type": "stream",
     "text": [
      "Avg kfold R2 Score: -37.393\n"
     ]
    }
   ],
   "source": [
    "# R-squared (R2) score for the regression\n",
    "result_r2 = cross_val_score(RF_1, X, y, cv=kf, scoring=\"r2\")\n",
    "avg_r2 = round(result_r2.mean(), 3)\n",
    "print(\"Avg kfold R2 Score: {}\".format(avg_r2))"
   ]
  },
  {
   "cell_type": "code",
   "execution_count": 28,
   "metadata": {},
   "outputs": [
    {
     "name": "stdout",
     "output_type": "stream",
     "text": [
      "Feature: MF0099, Mean Spearman's rho ± std on Training Data: -0.52 ± 0.10 (-0.62, -0.42)\n",
      "Feature: MF0048, Mean Spearman's rho ± std on Training Data: 0.56 ± 0.15 (0.41, 0.72)\n",
      "Feature: MF0039, Mean Spearman's rho ± std on Training Data: 0.17 ± 0.12 (0.05, 0.29)\n",
      "Feature: MF0097, Mean Spearman's rho ± std on Training Data: -0.55 ± 0.05 (-0.61, -0.50)\n",
      "Feature: MF0116, Mean Spearman's rho ± std on Training Data: 0.16 ± 0.12 (0.04, 0.29)\n",
      "Feature: MF0089, Mean Spearman's rho ± std on Training Data: 0.54 ± 0.15 (0.39, 0.68)\n",
      "Feature: MF0085, Mean Spearman's rho ± std on Training Data: -0.50 ± 0.11 (-0.61, -0.40)\n",
      "Feature: MF0042, Mean Spearman's rho ± std on Training Data: -0.52 ± 0.16 (-0.68, -0.36)\n",
      "Feature: MF0022, Mean Spearman's rho ± std on Training Data: 0.45 ± 0.15 (0.29, 0.60)\n",
      "Feature: MF0030, Mean Spearman's rho ± std on Training Data: -0.43 ± 0.11 (-0.54, -0.31)\n"
     ]
    }
   ],
   "source": [
    "# Get the Spearman's rho for the training data in each cross-validation fold\n",
    "# Correlating V1-V2 distance and feature baseline abundance\n",
    "from sklearn.model_selection import KFold\n",
    "from scipy.stats import spearmanr\n",
    "import numpy as np\n",
    "\n",
    "seed = 42\n",
    "X, y = my_data.drop(columns=['ID','Dist_V1V2']), my_data.Dist_V1V2\n",
    "kf = KFold(n_splits=5, random_state=seed, shuffle=True)\n",
    "\n",
    "# Specify the top 10 features \n",
    "selected_features = ['MF0099', 'MF0048', 'MF0039', 'MF0097',\n",
    "                    'MF0116', 'MF0089', 'MF0085', 'MF0042',\n",
    "                    'MF0022', 'MF0030']\n",
    "\n",
    "# Initialize lists to store Spearman's rho values for selected features\n",
    "# Initializes a dictionary where each feature in selected_features is a key, and the corresponding value is an empty list \n",
    "spearman_rho_per_feature = {feature: [] for feature in selected_features}\n",
    "\n",
    "for train_index, test_index in kf.split(X):\n",
    "    X_train, X_test = X.iloc[train_index], X.iloc[test_index]\n",
    "    y_train, y_test = y.iloc[train_index], y.iloc[test_index]\n",
    "\n",
    "    for feature in selected_features:\n",
    "        rho, _ = spearmanr(X_train[feature], y_train)\n",
    "        spearman_rho_per_feature[feature].append(rho)\n",
    "\n",
    "# Print mean, std, and range for each selected feature\n",
    "for feature in selected_features:\n",
    "    mean_rho = np.mean(spearman_rho_per_feature[feature])\n",
    "    std_rho = np.std(spearman_rho_per_feature[feature])\n",
    "    range_str = \"({:.2f}, {:.2f})\".format(mean_rho - std_rho, mean_rho + std_rho)\n",
    "    print(\"Feature: {}, Mean Spearman's rho ± std on Training Data: {:.2f} ± {:.2f} {}\".format(feature, mean_rho, std_rho, range_str))"
   ]
  },
  {
   "cell_type": "markdown",
   "metadata": {},
   "source": [
    "### Correlate real Dist_V1V2 and preidicted Dist_V1V2 to check model performance"
   ]
  },
  {
   "cell_type": "code",
   "execution_count": 13,
   "metadata": {},
   "outputs": [],
   "source": [
    "from sklearn.model_selection import cross_val_predict\n",
    "from scipy.stats import spearmanr\n",
    "#from scipy.stats import pearsonr"
   ]
  },
  {
   "cell_type": "code",
   "execution_count": 14,
   "metadata": {},
   "outputs": [],
   "source": [
    "# Get cross-validated predictions for each data point\n",
    "y_pred = cross_val_predict(RF_1, X, y, cv=kf)"
   ]
  },
  {
   "cell_type": "code",
   "execution_count": 15,
   "metadata": {},
   "outputs": [],
   "source": [
    "#y_pred"
   ]
  },
  {
   "cell_type": "code",
   "execution_count": 16,
   "metadata": {},
   "outputs": [],
   "source": [
    "#y"
   ]
  },
  {
   "cell_type": "code",
   "execution_count": 17,
   "metadata": {},
   "outputs": [],
   "source": [
    "# Calculate the Spearman correlation coefficient for the actual vs. predicted across all individuals\n",
    "correlation, p_value = spearmanr(y, y_pred)"
   ]
  },
  {
   "cell_type": "code",
   "execution_count": 18,
   "metadata": {},
   "outputs": [
    {
     "name": "stdout",
     "output_type": "stream",
     "text": [
      "Spearman correlation coefficient for all individuals: 0.280\n",
      "P-value for the Spearman correlation: 0.261\n"
     ]
    }
   ],
   "source": [
    "print(f\"Spearman correlation coefficient for all individuals: {correlation:.3f}\")\n",
    "print(f\"P-value for the Spearman correlation: {p_value:.3f}\")"
   ]
  },
  {
   "cell_type": "code",
   "execution_count": 19,
   "metadata": {},
   "outputs": [
    {
     "data": {
      "text/plain": [
       "Text(0.32967032967033, 0.8800140911816171, 'Spearman correlation: 0.28')"
      ]
     },
     "execution_count": 19,
     "metadata": {},
     "output_type": "execute_result"
    },
    {
     "data": {
      "image/png": "[encoded data removed]",
      "text/plain": [
       "<Figure size 720x576 with 1 Axes>"
      ]
     },
     "metadata": {
      "needs_background": "light"
     },
     "output_type": "display_data"
    }
   ],
   "source": [
    "plt.figure(figsize=(10, 8))  # Set the size of the plot\n",
    "plt.scatter(y, y_pred, alpha=0.5)  # Plot y vs. y_pred\n",
    "\n",
    "plt.title('Actual vs. Predicted Values')\n",
    "plt.xlabel('Actual Values')\n",
    "plt.ylabel('Predicted Values')\n",
    "\n",
    "# Optionally, you can annotate the Spearman correlation on the plot\n",
    "corr, _ = spearmanr(y, y_pred)\n",
    "plt.text(min(y), max(y_pred), f'Spearman correlation: {corr:.2f}', fontsize=12)\n"
   ]
  },
  {
   "cell_type": "markdown",
   "metadata": {},
   "source": [
    "## Step 4: Permutation\n",
    "**First shuffle Dist_V1V2 against other columns, and then do random forest. Repeat this 1000 times**"
   ]
  },
  {
   "cell_type": "code",
   "execution_count": 13,
   "metadata": {},
   "outputs": [],
   "source": [
    "# Permutation\n",
    "from collections import OrderedDict\n",
    "\n",
    "seed=42\n",
    "kf = KFold(n_splits=5)\n",
    "# Max_depth = 10, max_features = \"sqrt\", n_estimators=1550, the same setting as the one above\n",
    "RF_shuffle = RandomForestRegressor(random_state=seed, max_depth=10, n_estimators= 1550, \n",
    "                            oob_score=False, max_features = \"sqrt\")\n",
    "\n",
    "permu_times = 1000\n",
    "\n",
    "#Create an empty array first\n",
    "#https://stackoverflow.com/questions/568962/how-do-i-create-an-empty-array-matrix-in-numpy\n",
    "permutation_negMSE=a = np.empty(shape=(permu_times,1))\n",
    "\n",
    "for i in range(1, permu_times + 1):\n",
    "        #First copy my_data using pandas.DataFrame.copy (the correct way to do this!)\n",
    "        #https://moonbooks.org/Articles/How-to-copy-a-dataframe-with-pandas-in-python-/\n",
    "        shuffled_data = my_data.copy()\n",
    "\n",
    "        #Then shuffle data\n",
    "        shuffled_data['Dist_V1V2'] = shuffled_data['Dist_V1V2'].sample(frac=1, random_state=i).reset_index(drop=True)\n",
    "        \n",
    "        #Then run random forest\n",
    "        X_shuffle, y_shuffle = shuffled_data.drop(columns=['ID','Dist_V1V2']), shuffled_data.Dist_V1V2\n",
    "        result_negMSE_shuffle = cross_val_score(RF_shuffle, X_shuffle, y_shuffle, cv = kf, scoring=\"neg_mean_absolute_error\")\n",
    "        \n",
    "        # Record the neg MSE for each permutation\n",
    "        negMSE=result_negMSE_shuffle.mean() #Print average negMSE\n",
    "        permutation_negMSE[i-1]=negMSE"
   ]
  },
  {
   "cell_type": "code",
   "execution_count": 14,
   "metadata": {},
   "outputs": [
    {
     "data": {
      "text/plain": [
       "1000"
      ]
     },
     "execution_count": 14,
     "metadata": {},
     "output_type": "execute_result"
    }
   ],
   "source": [
    "len(permutation_negMSE)"
   ]
  },
  {
   "cell_type": "code",
   "execution_count": 15,
   "metadata": {},
   "outputs": [
    {
     "data": {
      "text/plain": [
       "Text(0.5, 1.0, 'Permutation negative MSE histogram')"
      ]
     },
     "execution_count": 15,
     "metadata": {},
     "output_type": "execute_result"
    },
    {
     "data": {
      "image/png": "[encoded data removed]",
      "text/plain": [
       "<Figure size 432x288 with 1 Axes>"
      ]
     },
     "metadata": {
      "needs_background": "light"
     },
     "output_type": "display_data"
    }
   ],
   "source": [
    "# Plot a histogram\n",
    "binwidth=0.005\n",
    "plt.hist(permutation_negMSE, bins=np.arange(min(permutation_negMSE), max(permutation_negMSE) \n",
    "                                            + binwidth, binwidth))\n",
    "plt.title(\"Permutation negative MSE histogram\") "
   ]
  },
  {
   "cell_type": "code",
   "execution_count": 16,
   "metadata": {},
   "outputs": [
    {
     "data": {
      "image/png": "[encoded data removed]",
      "text/plain": [
       "<Figure size 432x288 with 1 Axes>"
      ]
     },
     "metadata": {
      "needs_background": "light"
     },
     "output_type": "display_data"
    }
   ],
   "source": [
    "# Calculate area under histogram to get (some sort of) p value\n",
    "values, bins, _ = plt.hist(permutation_negMSE)\n",
    "plt.title(\"Permutation negative MSE histogram\") \n",
    "area = sum(np.diff(bins)*values)"
   ]
  },
  {
   "cell_type": "code",
   "execution_count": 17,
   "metadata": {},
   "outputs": [
    {
     "data": {
      "text/plain": [
       "-0.13945223895187597"
      ]
     },
     "execution_count": 17,
     "metadata": {},
     "output_type": "execute_result"
    }
   ],
   "source": [
    "# What is the p = 0.05 threshold?\n",
    "np.percentile(permutation_negMSE, 95)"
   ]
  },
  {
   "cell_type": "markdown",
   "metadata": {},
   "source": [
    "## Step 5: Random Forest (using leave-one-out cross-validation)"
   ]
  },
  {
   "cell_type": "code",
   "execution_count": 29,
   "metadata": {},
   "outputs": [],
   "source": [
    "from sklearn.model_selection import LeaveOneOut\n",
    "from sklearn.ensemble import RandomForestRegressor\n",
    "from sklearn.metrics import mean_absolute_error\n",
    "import numpy as np\n",
    "\n",
    "seed = 42\n",
    "X, y = my_data.drop(columns=['ID','Dist_V1V2']), my_data.Dist_V1V2\n",
    "\n",
    "# Initialize LeaveOneOut object\n",
    "loo = LeaveOneOut()\n",
    "\n",
    "# Initialize an array of zeros to hold feature importances\n",
    "# X.shape[1]: This is the number of columns (features)\n",
    "# loo.get_n_splits(X): This is the number of splits in LOOCV\n",
    "individual_feature_importances = np.zeros((X.shape[1], loo.get_n_splits(X)))\n",
    "\n",
    "# Initialize an empty list to hold the negative MAE scores\n",
    "neg_mae_scores_loo = []\n",
    "\n",
    "# Initialize an array to store all LOOCV predictions (for correlation of y and y_pred later)\n",
    "y_preds_array = np.zeros(len(y))\n",
    "\n",
    "# Loop over the LOOCV folds\n",
    "for fold, (train_index, test_index) in enumerate(loo.split(X)):\n",
    "    # Split data\n",
    "    X_train, X_test = X.iloc[train_index], X.iloc[test_index]\n",
    "    y_train, y_test = y.iloc[train_index], y.iloc[test_index]\n",
    "    \n",
    "    # Initialize the model with the same hyperparameters\n",
    "    RF = RandomForestRegressor(random_state=seed, max_depth=10, n_estimators=1550,\n",
    "                               oob_score=True, max_features=\"sqrt\")\n",
    "    # Fit the model\n",
    "    RF.fit(X_train, y_train)\n",
    "    \n",
    "    # Predict on the test set\n",
    "    y_pred = RF.predict(X_test)\n",
    "    y_preds_array[test_index] = y_pred\n",
    "    \n",
    "    # Calculate the MAE for the current fold and append it to the list\n",
    "    mae = mean_absolute_error(y_test, y_pred)\n",
    "    neg_mae_scores_loo.append(-mae)  # We negate the MAE to follow your requirement\n",
    "    \n",
    "    # Accumulate feature importances for this fold\n",
    "    individual_feature_importances[:, fold] = RF.feature_importances_\n",
    "\n",
    "# Calculate median of feature importances\n",
    "median_importances = np.median(individual_feature_importances, axis=1)\n",
    "\n",
    "# Sort the mean feature importances in descending order and get the indices\n",
    "sorted_median_idx = np.argsort(median_importances)[::-1]\n",
    "\n",
    "# Get the names of the top 10 features based on mean importance\n",
    "top_10_median_feature_names = X.columns[sorted_median_idx][:10]\n",
    "\n",
    "# Get the mean importance scores of the top 10 features\n",
    "top_10_median_importances = median_importances[sorted_median_idx][:10]\n",
    "\n",
    "# After collecting all predictions, calculate the Spearman correlation\n",
    "correlation, p_value = spearmanr(y, y_preds_array)"
   ]
  },
  {
   "cell_type": "code",
   "execution_count": 30,
   "metadata": {},
   "outputs": [
    {
     "name": "stdout",
     "output_type": "stream",
     "text": [
      "Average negative MAE:  -0.13734237576968045\n"
     ]
    }
   ],
   "source": [
    "# Print out the negative MAE scores for each fold\n",
    "#print(\"Negative MAE scores for each fold: \", neg_mae_scores_loo)\n",
    "\n",
    "# The average negative MAE score across all folds\n",
    "print(\"Average negative MAE: \", np.mean(neg_mae_scores_loo))"
   ]
  },
  {
   "cell_type": "code",
   "execution_count": 31,
   "metadata": {},
   "outputs": [
    {
     "data": {
      "text/plain": [
       "(131, 18)"
      ]
     },
     "execution_count": 31,
     "metadata": {},
     "output_type": "execute_result"
    }
   ],
   "source": [
    "individual_feature_importances.shape"
   ]
  },
  {
   "cell_type": "code",
   "execution_count": 32,
   "metadata": {},
   "outputs": [
    {
     "name": "stdout",
     "output_type": "stream",
     "text": [
      "MF0099: 0.033033183660088936\n",
      "MF0042: 0.025690243440833895\n",
      "MF0048: 0.02497721560387478\n",
      "MF0039: 0.024190469167009454\n",
      "MF0116: 0.023422100282945665\n",
      "MF0022: 0.02258316532250733\n",
      "MF0097: 0.019150427283536074\n",
      "MF0089: 0.019137499934807206\n",
      "MF0085: 0.01876571655896621\n",
      "MF0030: 0.018421120917368083\n"
     ]
    }
   ],
   "source": [
    "# Print the top 10 features and their importances\n",
    "# Use zip because top_10_feature_names and top_10_importances are two iterables that we want to loop over simultaneously.\n",
    "for name, importance in zip(top_10_median_feature_names, top_10_median_importances):\n",
    "    print(f\"{name}: {importance}\")"
   ]
  },
  {
   "cell_type": "code",
   "execution_count": 33,
   "metadata": {},
   "outputs": [
    {
     "name": "stdout",
     "output_type": "stream",
     "text": [
      "Spearman correlation: 0.360\n",
      "P-value: 0.142\n"
     ]
    }
   ],
   "source": [
    "#Print the correlation rho and p-value\n",
    "print(f\"Spearman correlation: {correlation:.3f}\")\n",
    "print(f\"P-value: {p_value:.3f}\")\n"
   ]
  },
  {
   "cell_type": "markdown",
   "metadata": {},
   "source": [
    "## Step 4: Permutation for LOOCV\n",
    "**First shuffle Dist_V1V2 against other columns, and then do random forest. Repeat this 1000 times**"
   ]
  },
  {
   "cell_type": "code",
   "execution_count": 34,
   "metadata": {},
   "outputs": [
    {
     "name": "stdout",
     "output_type": "stream",
     "text": [
      "Current iteration: 0\n",
      "Current iteration: 50\n",
      "Current iteration: 100\n",
      "Current iteration: 150\n",
      "Current iteration: 200\n",
      "Current iteration: 250\n",
      "Current iteration: 300\n",
      "Current iteration: 350\n",
      "Current iteration: 400\n",
      "Current iteration: 450\n",
      "Current iteration: 500\n",
      "Current iteration: 550\n",
      "Current iteration: 600\n",
      "Current iteration: 650\n",
      "Current iteration: 700\n",
      "Current iteration: 750\n",
      "Current iteration: 800\n",
      "Current iteration: 850\n",
      "Current iteration: 900\n",
      "Current iteration: 950\n"
     ]
    }
   ],
   "source": [
    "# Define the number of permutations\n",
    "permu_times = 1000\n",
    "\n",
    "# Create an empty array to store the neg MAE for each permutation\n",
    "permutation_negMAE_loo = np.empty(permu_times)\n",
    "\n",
    "# Initialize LOO cross-validation\n",
    "loo = LeaveOneOut()\n",
    "\n",
    "# Initialize the random forest with the specified settings\n",
    "RF_shuffle_loo = RandomForestRegressor(random_state=seed, max_depth=10, n_estimators=1550,\n",
    "                                       oob_score=False, max_features=\"sqrt\")\n",
    "\n",
    "# Run the permutation test with LOO CV\n",
    "for i in range(permu_times):\n",
    "    \n",
    "    # Print the value of i at every 50th iteration so that I know the progress\n",
    "    # % is modulo calculation\n",
    "    if i % 50 == 0:\n",
    "        print(f\"Current iteration: {i}\")\n",
    "    \n",
    "    # Shuffle the 'Dist_V1V2' column\n",
    "    shuffled_target = my_data['Dist_V1V2'].sample(frac=1, random_state=i).reset_index(drop=True)\n",
    "    \n",
    "    # Prepare the data for cross-validation\n",
    "    X, y_shuffled = my_data.drop(columns=['ID','Dist_V1V2']), shuffled_target\n",
    "    \n",
    "    # Variable to accumulate the mean absolute error\n",
    "    mae_sum = 0\n",
    "    \n",
    "    # Perform LOO cross-validation\n",
    "    for train_index, test_index in loo.split(X):\n",
    "        # Split the data into train and test for the current fold\n",
    "        X_train, X_test = X.iloc[train_index], X.iloc[test_index]\n",
    "        y_train, y_test = y_shuffled.iloc[train_index], y_shuffled.iloc[test_index]\n",
    "        \n",
    "        # Fit the model\n",
    "        RF_shuffle_loo.fit(X_train, y_train)\n",
    "        \n",
    "        # Make predictions\n",
    "        y_pred = RF_shuffle_loo.predict(X_test)\n",
    "        \n",
    "        # Calculate the MAE for the current fold and accumulate it\n",
    "        mae_sum += mean_absolute_error(y_test, y_pred)\n",
    "    \n",
    "    # Calculate the average MAE over all folds and store the negative value\n",
    "    permutation_negMAE_loo[i] = -mae_sum / loo.get_n_splits(X)"
   ]
  },
  {
   "cell_type": "code",
   "execution_count": 35,
   "metadata": {},
   "outputs": [
    {
     "data": {
      "text/plain": [
       "1000"
      ]
     },
     "execution_count": 35,
     "metadata": {},
     "output_type": "execute_result"
    }
   ],
   "source": [
    "len(permutation_negMAE_loo)"
   ]
  },
  {
   "cell_type": "code",
   "execution_count": 36,
   "metadata": {},
   "outputs": [
    {
     "data": {
      "image/png": "[encoded data removed]",
      "text/plain": [
       "<Figure size 432x288 with 1 Axes>"
      ]
     },
     "metadata": {
      "needs_background": "light"
     },
     "output_type": "display_data"
    }
   ],
   "source": [
    "# Calculate area under histogram to get (some sort of) p value\n",
    "values, bins, _ = plt.hist(permutation_negMAE_loo)\n",
    "plt.title(\"Permutation negative MSE histogram\") \n",
    "area = sum(np.diff(bins)*values)"
   ]
  },
  {
   "cell_type": "code",
   "execution_count": 37,
   "metadata": {},
   "outputs": [
    {
     "data": {
      "text/plain": [
       "-0.14204091337949645"
      ]
     },
     "execution_count": 37,
     "metadata": {},
     "output_type": "execute_result"
    }
   ],
   "source": [
    "# What is the p = 0.05 threshold?\n",
    "np.percentile(permutation_negMAE_loo, 95)"
   ]
  },
  {
   "cell_type": "markdown",
   "metadata": {},
   "source": [
    "#### See if the RF (LOOCV) is significant"
   ]
  },
  {
   "cell_type": "code",
   "execution_count": 38,
   "metadata": {},
   "outputs": [
    {
     "name": "stdout",
     "output_type": "stream",
     "text": [
      "Actual neg MAE (-0.13734237576968045) is larger than 95% of the neg MAE from permutation (-0.14204091337949645)\n",
      "\u001b[1mRF is significant\u001b[0m\n"
     ]
    }
   ],
   "source": [
    "# Calculate the mean of the negative MAE scores from the actual LOOCV\n",
    "actual_neg_mae_mean = np.mean(neg_mae_scores_loo)\n",
    "\n",
    "# Calculate the 95th percentile of the negative MAE scores from the permutation test\n",
    "percentile_95_loo = np.percentile(permutation_negMAE_loo, 95)\n",
    "\n",
    "# Compare and print the result\n",
    "if actual_neg_mae_mean > percentile_95_loo: #sig\n",
    "    print(f\"Actual neg MAE ({actual_neg_mae_mean}) is larger than 95% of the neg MAE from permutation ({percentile_95_loo})\")\n",
    "    print(\"\\033[1mRF is significant\\033[0m\") #bold text\n",
    "else: #Nonsig\n",
    "    print(f\"Actual neg MAE ({actual_neg_mae_mean}) is smaller than 95% of the neg MAE from permutation ({percentile_95_loo})\")\n",
    "    print(\"\\033[1mRF is nonsignificant\\033[0m\") #bold text"
   ]
  },
  {
   "cell_type": "code",
   "execution_count": 39,
   "metadata": {},
   "outputs": [
    {
     "name": "stdout",
     "output_type": "stream",
     "text": [
      "The actual_neg_mae_mean is in the 0.027% percentile of the permutation distribution, so the p value is 0.027\n"
     ]
    }
   ],
   "source": [
    "# Calculate the percentage of permutation_negMAE_loo that is less than or equal to actual_neg_mae_mean\n",
    "percentage_loo = np.mean(permutation_negMAE_loo <= actual_neg_mae_mean) * 100\n",
    "p_value_loo = round(1 - percentage_loo/100, 3)\n",
    "print(f\"The actual_neg_mae_mean is in the {p_value_loo}% percentile of the permutation distribution, so the p value is {p_value_loo}\")\n"
   ]
  },
  {
   "cell_type": "code",
   "execution_count": null,
   "metadata": {},
   "outputs": [],
   "source": []
  }
 ],
 "metadata": {
  "kernelspec": {
   "display_name": "Python 3",
   "language": "python",
   "name": "python3"
  },
  "language_info": {
   "codemirror_mode": {
    "name": "ipython",
    "version": 3
   },
   "file_extension": ".py",
   "mimetype": "text/x-python",
   "name": "python",
   "nbconvert_exporter": "python",
   "pygments_lexer": "ipython3",
   "version": "3.7.3"
  }
 },
 "nbformat": 4,
 "nbformat_minor": 5
}
