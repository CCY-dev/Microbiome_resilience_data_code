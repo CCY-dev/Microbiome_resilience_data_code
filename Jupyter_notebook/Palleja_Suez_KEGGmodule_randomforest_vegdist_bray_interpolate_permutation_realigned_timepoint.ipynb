{
 "cells": [
  {
   "cell_type": "markdown",
   "metadata": {},
   "source": [
    "# Permutation + a full part of LOOCV\n",
    "# Palleja & Suez KEGG module baseline random forest permutation, using interpolated data!!!\n",
    "## Using vegdist (Bray-Curtis)\n",
    "## LHS is \"distance * day\", not distance!!\n",
    "## Time points are realgined between Suez and Palleja!!"
   ]
  },
  {
   "cell_type": "markdown",
   "metadata": {},
   "source": [
    "## 1. Exploratory Data Analysis"
   ]
  },
  {
   "cell_type": "code",
   "execution_count": 22,
   "metadata": {},
   "outputs": [],
   "source": [
    "import pandas as pd\n",
    "import numpy as np\n",
    "import matplotlib.pyplot as plt\n",
    "import seaborn as sns"
   ]
  },
  {
   "cell_type": "code",
   "execution_count": 23,
   "metadata": {},
   "outputs": [],
   "source": [
    "species = pd.read_csv(\"/Users/Jessica/Documents/Lab/Multiple_longitudinal/Microbe_resilience/Interpolate_missing_timepoint/Palleja_Suez_KEGGmodule_baseline_vegdist_bray_interpolated_realigned_timepoint_forML.txt\",\n",
    "                   delimiter = \"\\t\")"
   ]
  },
  {
   "cell_type": "code",
   "execution_count": 24,
   "metadata": {},
   "outputs": [
    {
     "data": {
      "text/html": [
       "<div>\n",
       "<style scoped>\n",
       "    .dataframe tbody tr th:only-of-type {\n",
       "        vertical-align: middle;\n",
       "    }\n",
       "\n",
       "    .dataframe tbody tr th {\n",
       "        vertical-align: top;\n",
       "    }\n",
       "\n",
       "    .dataframe thead th {\n",
       "        text-align: right;\n",
       "    }\n",
       "</style>\n",
       "<table border=\"1\" class=\"dataframe\">\n",
       "  <thead>\n",
       "    <tr style=\"text-align: right;\">\n",
       "      <th></th>\n",
       "      <th>Sample_id</th>\n",
       "      <th>recovered_realigned_day</th>\n",
       "      <th>lowest_dist</th>\n",
       "      <th>DistxDay</th>\n",
       "      <th>Timepoint_realign</th>\n",
       "      <th>Study</th>\n",
       "      <th>Perturbance_scale</th>\n",
       "      <th>M00001</th>\n",
       "      <th>M00002</th>\n",
       "      <th>M00003</th>\n",
       "      <th>...</th>\n",
       "      <th>M00836</th>\n",
       "      <th>M00837</th>\n",
       "      <th>M00838</th>\n",
       "      <th>M00839</th>\n",
       "      <th>M00840</th>\n",
       "      <th>M00841</th>\n",
       "      <th>M00842</th>\n",
       "      <th>M00843</th>\n",
       "      <th>M00844</th>\n",
       "      <th>M00845</th>\n",
       "    </tr>\n",
       "  </thead>\n",
       "  <tbody>\n",
       "    <tr>\n",
       "      <th>0</th>\n",
       "      <td>801</td>\n",
       "      <td>54</td>\n",
       "      <td>0.059793</td>\n",
       "      <td>3.228803</td>\n",
       "      <td>Baseline</td>\n",
       "      <td>Suez</td>\n",
       "      <td>0.142747</td>\n",
       "      <td>3099</td>\n",
       "      <td>1676</td>\n",
       "      <td>2036</td>\n",
       "      <td>...</td>\n",
       "      <td>33</td>\n",
       "      <td>1</td>\n",
       "      <td>2</td>\n",
       "      <td>68</td>\n",
       "      <td>442</td>\n",
       "      <td>663</td>\n",
       "      <td>147</td>\n",
       "      <td>148</td>\n",
       "      <td>545</td>\n",
       "      <td>737</td>\n",
       "    </tr>\n",
       "    <tr>\n",
       "      <th>1</th>\n",
       "      <td>802</td>\n",
       "      <td>25</td>\n",
       "      <td>0.041151</td>\n",
       "      <td>1.028776</td>\n",
       "      <td>Baseline</td>\n",
       "      <td>Suez</td>\n",
       "      <td>0.172027</td>\n",
       "      <td>2863</td>\n",
       "      <td>1582</td>\n",
       "      <td>2056</td>\n",
       "      <td>...</td>\n",
       "      <td>0</td>\n",
       "      <td>7</td>\n",
       "      <td>1</td>\n",
       "      <td>67</td>\n",
       "      <td>401</td>\n",
       "      <td>667</td>\n",
       "      <td>129</td>\n",
       "      <td>149</td>\n",
       "      <td>507</td>\n",
       "      <td>791</td>\n",
       "    </tr>\n",
       "    <tr>\n",
       "      <th>2</th>\n",
       "      <td>803</td>\n",
       "      <td>33</td>\n",
       "      <td>0.041119</td>\n",
       "      <td>1.356918</td>\n",
       "      <td>Baseline</td>\n",
       "      <td>Suez</td>\n",
       "      <td>0.069490</td>\n",
       "      <td>3042</td>\n",
       "      <td>1521</td>\n",
       "      <td>1936</td>\n",
       "      <td>...</td>\n",
       "      <td>11</td>\n",
       "      <td>0</td>\n",
       "      <td>4</td>\n",
       "      <td>89</td>\n",
       "      <td>463</td>\n",
       "      <td>697</td>\n",
       "      <td>126</td>\n",
       "      <td>133</td>\n",
       "      <td>579</td>\n",
       "      <td>821</td>\n",
       "    </tr>\n",
       "    <tr>\n",
       "      <th>3</th>\n",
       "      <td>804</td>\n",
       "      <td>14</td>\n",
       "      <td>0.037455</td>\n",
       "      <td>0.524372</td>\n",
       "      <td>Baseline</td>\n",
       "      <td>Suez</td>\n",
       "      <td>0.063865</td>\n",
       "      <td>2702</td>\n",
       "      <td>1515</td>\n",
       "      <td>1917</td>\n",
       "      <td>...</td>\n",
       "      <td>4</td>\n",
       "      <td>0</td>\n",
       "      <td>1</td>\n",
       "      <td>69</td>\n",
       "      <td>527</td>\n",
       "      <td>683</td>\n",
       "      <td>137</td>\n",
       "      <td>161</td>\n",
       "      <td>627</td>\n",
       "      <td>831</td>\n",
       "    </tr>\n",
       "    <tr>\n",
       "      <th>4</th>\n",
       "      <td>805</td>\n",
       "      <td>56</td>\n",
       "      <td>0.059268</td>\n",
       "      <td>3.319021</td>\n",
       "      <td>Baseline</td>\n",
       "      <td>Suez</td>\n",
       "      <td>0.141843</td>\n",
       "      <td>2818</td>\n",
       "      <td>1573</td>\n",
       "      <td>1970</td>\n",
       "      <td>...</td>\n",
       "      <td>3</td>\n",
       "      <td>8</td>\n",
       "      <td>10</td>\n",
       "      <td>54</td>\n",
       "      <td>432</td>\n",
       "      <td>724</td>\n",
       "      <td>155</td>\n",
       "      <td>142</td>\n",
       "      <td>498</td>\n",
       "      <td>688</td>\n",
       "    </tr>\n",
       "  </tbody>\n",
       "</table>\n",
       "<p>5 rows × 704 columns</p>\n",
       "</div>"
      ],
      "text/plain": [
       "  Sample_id  recovered_realigned_day  lowest_dist  DistxDay Timepoint_realign  \\\n",
       "0       801                       54     0.059793  3.228803          Baseline   \n",
       "1       802                       25     0.041151  1.028776          Baseline   \n",
       "2       803                       33     0.041119  1.356918          Baseline   \n",
       "3       804                       14     0.037455  0.524372          Baseline   \n",
       "4       805                       56     0.059268  3.319021          Baseline   \n",
       "\n",
       "  Study  Perturbance_scale  M00001  M00002  M00003  ...  M00836  M00837  \\\n",
       "0  Suez           0.142747    3099    1676    2036  ...      33       1   \n",
       "1  Suez           0.172027    2863    1582    2056  ...       0       7   \n",
       "2  Suez           0.069490    3042    1521    1936  ...      11       0   \n",
       "3  Suez           0.063865    2702    1515    1917  ...       4       0   \n",
       "4  Suez           0.141843    2818    1573    1970  ...       3       8   \n",
       "\n",
       "   M00838  M00839  M00840  M00841  M00842  M00843  M00844  M00845  \n",
       "0       2      68     442     663     147     148     545     737  \n",
       "1       1      67     401     667     129     149     507     791  \n",
       "2       4      89     463     697     126     133     579     821  \n",
       "3       1      69     527     683     137     161     627     831  \n",
       "4      10      54     432     724     155     142     498     688  \n",
       "\n",
       "[5 rows x 704 columns]"
      ]
     },
     "execution_count": 24,
     "metadata": {},
     "output_type": "execute_result"
    }
   ],
   "source": [
    "species.head()"
   ]
  },
  {
   "cell_type": "code",
   "execution_count": 25,
   "metadata": {},
   "outputs": [
    {
     "data": {
      "text/plain": [
       "0     0\n",
       "1     0\n",
       "2     0\n",
       "3     0\n",
       "4     0\n",
       "5     0\n",
       "6     0\n",
       "7     0\n",
       "8     0\n",
       "9     0\n",
       "10    0\n",
       "11    0\n",
       "12    1\n",
       "13    0\n",
       "14    0\n",
       "15    0\n",
       "16    0\n",
       "17    0\n",
       "18    0\n",
       "Name: M00383, dtype: int64"
      ]
     },
     "execution_count": 25,
     "metadata": {},
     "output_type": "execute_result"
    }
   ],
   "source": [
    "species[\"M00383\"]"
   ]
  },
  {
   "cell_type": "markdown",
   "metadata": {},
   "source": [
    "## 2. Set up evaluation environment. Use stratified 5-fold CV to determine the accuracy of the model"
   ]
  },
  {
   "cell_type": "code",
   "execution_count": 26,
   "metadata": {},
   "outputs": [],
   "source": [
    "my_data = species.drop(columns=['recovered_realigned_day', 'lowest_dist', 'Timepoint_realign', 'Study'])"
   ]
  },
  {
   "cell_type": "code",
   "execution_count": 27,
   "metadata": {},
   "outputs": [
    {
     "data": {
      "text/html": [
       "<div>\n",
       "<style scoped>\n",
       "    .dataframe tbody tr th:only-of-type {\n",
       "        vertical-align: middle;\n",
       "    }\n",
       "\n",
       "    .dataframe tbody tr th {\n",
       "        vertical-align: top;\n",
       "    }\n",
       "\n",
       "    .dataframe thead th {\n",
       "        text-align: right;\n",
       "    }\n",
       "</style>\n",
       "<table border=\"1\" class=\"dataframe\">\n",
       "  <thead>\n",
       "    <tr style=\"text-align: right;\">\n",
       "      <th></th>\n",
       "      <th>Sample_id</th>\n",
       "      <th>DistxDay</th>\n",
       "      <th>Perturbance_scale</th>\n",
       "      <th>M00001</th>\n",
       "      <th>M00002</th>\n",
       "      <th>M00003</th>\n",
       "      <th>M00004</th>\n",
       "      <th>M00005</th>\n",
       "      <th>M00006</th>\n",
       "      <th>M00007</th>\n",
       "      <th>...</th>\n",
       "      <th>M00836</th>\n",
       "      <th>M00837</th>\n",
       "      <th>M00838</th>\n",
       "      <th>M00839</th>\n",
       "      <th>M00840</th>\n",
       "      <th>M00841</th>\n",
       "      <th>M00842</th>\n",
       "      <th>M00843</th>\n",
       "      <th>M00844</th>\n",
       "      <th>M00845</th>\n",
       "    </tr>\n",
       "  </thead>\n",
       "  <tbody>\n",
       "    <tr>\n",
       "      <th>0</th>\n",
       "      <td>801</td>\n",
       "      <td>3.228803</td>\n",
       "      <td>0.142747</td>\n",
       "      <td>3099</td>\n",
       "      <td>1676</td>\n",
       "      <td>2036</td>\n",
       "      <td>1487</td>\n",
       "      <td>254</td>\n",
       "      <td>235</td>\n",
       "      <td>912</td>\n",
       "      <td>...</td>\n",
       "      <td>33</td>\n",
       "      <td>1</td>\n",
       "      <td>2</td>\n",
       "      <td>68</td>\n",
       "      <td>442</td>\n",
       "      <td>663</td>\n",
       "      <td>147</td>\n",
       "      <td>148</td>\n",
       "      <td>545</td>\n",
       "      <td>737</td>\n",
       "    </tr>\n",
       "    <tr>\n",
       "      <th>1</th>\n",
       "      <td>802</td>\n",
       "      <td>1.028776</td>\n",
       "      <td>0.172027</td>\n",
       "      <td>2863</td>\n",
       "      <td>1582</td>\n",
       "      <td>2056</td>\n",
       "      <td>1293</td>\n",
       "      <td>191</td>\n",
       "      <td>315</td>\n",
       "      <td>729</td>\n",
       "      <td>...</td>\n",
       "      <td>0</td>\n",
       "      <td>7</td>\n",
       "      <td>1</td>\n",
       "      <td>67</td>\n",
       "      <td>401</td>\n",
       "      <td>667</td>\n",
       "      <td>129</td>\n",
       "      <td>149</td>\n",
       "      <td>507</td>\n",
       "      <td>791</td>\n",
       "    </tr>\n",
       "    <tr>\n",
       "      <th>2</th>\n",
       "      <td>803</td>\n",
       "      <td>1.356918</td>\n",
       "      <td>0.069490</td>\n",
       "      <td>3042</td>\n",
       "      <td>1521</td>\n",
       "      <td>1936</td>\n",
       "      <td>1488</td>\n",
       "      <td>240</td>\n",
       "      <td>352</td>\n",
       "      <td>871</td>\n",
       "      <td>...</td>\n",
       "      <td>11</td>\n",
       "      <td>0</td>\n",
       "      <td>4</td>\n",
       "      <td>89</td>\n",
       "      <td>463</td>\n",
       "      <td>697</td>\n",
       "      <td>126</td>\n",
       "      <td>133</td>\n",
       "      <td>579</td>\n",
       "      <td>821</td>\n",
       "    </tr>\n",
       "    <tr>\n",
       "      <th>3</th>\n",
       "      <td>804</td>\n",
       "      <td>0.524372</td>\n",
       "      <td>0.063865</td>\n",
       "      <td>2702</td>\n",
       "      <td>1515</td>\n",
       "      <td>1917</td>\n",
       "      <td>1378</td>\n",
       "      <td>220</td>\n",
       "      <td>289</td>\n",
       "      <td>759</td>\n",
       "      <td>...</td>\n",
       "      <td>4</td>\n",
       "      <td>0</td>\n",
       "      <td>1</td>\n",
       "      <td>69</td>\n",
       "      <td>527</td>\n",
       "      <td>683</td>\n",
       "      <td>137</td>\n",
       "      <td>161</td>\n",
       "      <td>627</td>\n",
       "      <td>831</td>\n",
       "    </tr>\n",
       "    <tr>\n",
       "      <th>4</th>\n",
       "      <td>805</td>\n",
       "      <td>3.319021</td>\n",
       "      <td>0.141843</td>\n",
       "      <td>2818</td>\n",
       "      <td>1573</td>\n",
       "      <td>1970</td>\n",
       "      <td>1414</td>\n",
       "      <td>195</td>\n",
       "      <td>325</td>\n",
       "      <td>729</td>\n",
       "      <td>...</td>\n",
       "      <td>3</td>\n",
       "      <td>8</td>\n",
       "      <td>10</td>\n",
       "      <td>54</td>\n",
       "      <td>432</td>\n",
       "      <td>724</td>\n",
       "      <td>155</td>\n",
       "      <td>142</td>\n",
       "      <td>498</td>\n",
       "      <td>688</td>\n",
       "    </tr>\n",
       "  </tbody>\n",
       "</table>\n",
       "<p>5 rows × 700 columns</p>\n",
       "</div>"
      ],
      "text/plain": [
       "  Sample_id  DistxDay  Perturbance_scale  M00001  M00002  M00003  M00004  \\\n",
       "0       801  3.228803           0.142747    3099    1676    2036    1487   \n",
       "1       802  1.028776           0.172027    2863    1582    2056    1293   \n",
       "2       803  1.356918           0.069490    3042    1521    1936    1488   \n",
       "3       804  0.524372           0.063865    2702    1515    1917    1378   \n",
       "4       805  3.319021           0.141843    2818    1573    1970    1414   \n",
       "\n",
       "   M00005  M00006  M00007  ...  M00836  M00837  M00838  M00839  M00840  \\\n",
       "0     254     235     912  ...      33       1       2      68     442   \n",
       "1     191     315     729  ...       0       7       1      67     401   \n",
       "2     240     352     871  ...      11       0       4      89     463   \n",
       "3     220     289     759  ...       4       0       1      69     527   \n",
       "4     195     325     729  ...       3       8      10      54     432   \n",
       "\n",
       "   M00841  M00842  M00843  M00844  M00845  \n",
       "0     663     147     148     545     737  \n",
       "1     667     129     149     507     791  \n",
       "2     697     126     133     579     821  \n",
       "3     683     137     161     627     831  \n",
       "4     724     155     142     498     688  \n",
       "\n",
       "[5 rows x 700 columns]"
      ]
     },
     "execution_count": 27,
     "metadata": {},
     "output_type": "execute_result"
    }
   ],
   "source": [
    "my_data.head()"
   ]
  },
  {
   "cell_type": "code",
   "execution_count": 28,
   "metadata": {},
   "outputs": [],
   "source": [
    "from sklearn.model_selection import StratifiedKFold\n",
    "skf = StratifiedKFold(n_splits=5)"
   ]
  },
  {
   "cell_type": "markdown",
   "metadata": {},
   "source": [
    "## Step 3: Try out Random Forest (within the 5 - Fold CV setup)"
   ]
  },
  {
   "cell_type": "code",
   "execution_count": 29,
   "metadata": {},
   "outputs": [],
   "source": [
    "from sklearn.model_selection import StratifiedKFold\n",
    "skf = StratifiedKFold(n_splits=5)"
   ]
  },
  {
   "cell_type": "code",
   "execution_count": 30,
   "metadata": {},
   "outputs": [],
   "source": [
    "from sklearn.model_selection import cross_val_predict\n",
    "from sklearn.metrics import accuracy_score\n",
    "from sklearn.metrics import roc_auc_score\n",
    "from sklearn.ensemble import RandomForestRegressor\n",
    "import matplotlib.pyplot as plt\n",
    "from collections import OrderedDict"
   ]
  },
  {
   "cell_type": "code",
   "execution_count": 31,
   "metadata": {},
   "outputs": [],
   "source": [
    "seed = 42"
   ]
  },
  {
   "cell_type": "code",
   "execution_count": 32,
   "metadata": {},
   "outputs": [],
   "source": [
    "X, y = my_data.drop(columns=['Sample_id', 'DistxDay']), my_data.DistxDay"
   ]
  },
  {
   "cell_type": "code",
   "execution_count": 33,
   "metadata": {},
   "outputs": [
    {
     "data": {
      "text/html": [
       "<div>\n",
       "<style scoped>\n",
       "    .dataframe tbody tr th:only-of-type {\n",
       "        vertical-align: middle;\n",
       "    }\n",
       "\n",
       "    .dataframe tbody tr th {\n",
       "        vertical-align: top;\n",
       "    }\n",
       "\n",
       "    .dataframe thead th {\n",
       "        text-align: right;\n",
       "    }\n",
       "</style>\n",
       "<table border=\"1\" class=\"dataframe\">\n",
       "  <thead>\n",
       "    <tr style=\"text-align: right;\">\n",
       "      <th></th>\n",
       "      <th>Perturbance_scale</th>\n",
       "      <th>M00001</th>\n",
       "      <th>M00002</th>\n",
       "      <th>M00003</th>\n",
       "      <th>M00004</th>\n",
       "      <th>M00005</th>\n",
       "      <th>M00006</th>\n",
       "      <th>M00007</th>\n",
       "      <th>M00008</th>\n",
       "      <th>M00009</th>\n",
       "      <th>...</th>\n",
       "      <th>M00836</th>\n",
       "      <th>M00837</th>\n",
       "      <th>M00838</th>\n",
       "      <th>M00839</th>\n",
       "      <th>M00840</th>\n",
       "      <th>M00841</th>\n",
       "      <th>M00842</th>\n",
       "      <th>M00843</th>\n",
       "      <th>M00844</th>\n",
       "      <th>M00845</th>\n",
       "    </tr>\n",
       "  </thead>\n",
       "  <tbody>\n",
       "    <tr>\n",
       "      <th>0</th>\n",
       "      <td>0.142747</td>\n",
       "      <td>3099</td>\n",
       "      <td>1676</td>\n",
       "      <td>2036</td>\n",
       "      <td>1487</td>\n",
       "      <td>254</td>\n",
       "      <td>235</td>\n",
       "      <td>912</td>\n",
       "      <td>286</td>\n",
       "      <td>1604</td>\n",
       "      <td>...</td>\n",
       "      <td>33</td>\n",
       "      <td>1</td>\n",
       "      <td>2</td>\n",
       "      <td>68</td>\n",
       "      <td>442</td>\n",
       "      <td>663</td>\n",
       "      <td>147</td>\n",
       "      <td>148</td>\n",
       "      <td>545</td>\n",
       "      <td>737</td>\n",
       "    </tr>\n",
       "    <tr>\n",
       "      <th>1</th>\n",
       "      <td>0.172027</td>\n",
       "      <td>2863</td>\n",
       "      <td>1582</td>\n",
       "      <td>2056</td>\n",
       "      <td>1293</td>\n",
       "      <td>191</td>\n",
       "      <td>315</td>\n",
       "      <td>729</td>\n",
       "      <td>405</td>\n",
       "      <td>1914</td>\n",
       "      <td>...</td>\n",
       "      <td>0</td>\n",
       "      <td>7</td>\n",
       "      <td>1</td>\n",
       "      <td>67</td>\n",
       "      <td>401</td>\n",
       "      <td>667</td>\n",
       "      <td>129</td>\n",
       "      <td>149</td>\n",
       "      <td>507</td>\n",
       "      <td>791</td>\n",
       "    </tr>\n",
       "    <tr>\n",
       "      <th>2</th>\n",
       "      <td>0.069490</td>\n",
       "      <td>3042</td>\n",
       "      <td>1521</td>\n",
       "      <td>1936</td>\n",
       "      <td>1488</td>\n",
       "      <td>240</td>\n",
       "      <td>352</td>\n",
       "      <td>871</td>\n",
       "      <td>399</td>\n",
       "      <td>1963</td>\n",
       "      <td>...</td>\n",
       "      <td>11</td>\n",
       "      <td>0</td>\n",
       "      <td>4</td>\n",
       "      <td>89</td>\n",
       "      <td>463</td>\n",
       "      <td>697</td>\n",
       "      <td>126</td>\n",
       "      <td>133</td>\n",
       "      <td>579</td>\n",
       "      <td>821</td>\n",
       "    </tr>\n",
       "    <tr>\n",
       "      <th>3</th>\n",
       "      <td>0.063865</td>\n",
       "      <td>2702</td>\n",
       "      <td>1515</td>\n",
       "      <td>1917</td>\n",
       "      <td>1378</td>\n",
       "      <td>220</td>\n",
       "      <td>289</td>\n",
       "      <td>759</td>\n",
       "      <td>390</td>\n",
       "      <td>2036</td>\n",
       "      <td>...</td>\n",
       "      <td>4</td>\n",
       "      <td>0</td>\n",
       "      <td>1</td>\n",
       "      <td>69</td>\n",
       "      <td>527</td>\n",
       "      <td>683</td>\n",
       "      <td>137</td>\n",
       "      <td>161</td>\n",
       "      <td>627</td>\n",
       "      <td>831</td>\n",
       "    </tr>\n",
       "    <tr>\n",
       "      <th>4</th>\n",
       "      <td>0.141843</td>\n",
       "      <td>2818</td>\n",
       "      <td>1573</td>\n",
       "      <td>1970</td>\n",
       "      <td>1414</td>\n",
       "      <td>195</td>\n",
       "      <td>325</td>\n",
       "      <td>729</td>\n",
       "      <td>400</td>\n",
       "      <td>1855</td>\n",
       "      <td>...</td>\n",
       "      <td>3</td>\n",
       "      <td>8</td>\n",
       "      <td>10</td>\n",
       "      <td>54</td>\n",
       "      <td>432</td>\n",
       "      <td>724</td>\n",
       "      <td>155</td>\n",
       "      <td>142</td>\n",
       "      <td>498</td>\n",
       "      <td>688</td>\n",
       "    </tr>\n",
       "  </tbody>\n",
       "</table>\n",
       "<p>5 rows × 698 columns</p>\n",
       "</div>"
      ],
      "text/plain": [
       "   Perturbance_scale  M00001  M00002  M00003  M00004  M00005  M00006  M00007  \\\n",
       "0           0.142747    3099    1676    2036    1487     254     235     912   \n",
       "1           0.172027    2863    1582    2056    1293     191     315     729   \n",
       "2           0.069490    3042    1521    1936    1488     240     352     871   \n",
       "3           0.063865    2702    1515    1917    1378     220     289     759   \n",
       "4           0.141843    2818    1573    1970    1414     195     325     729   \n",
       "\n",
       "   M00008  M00009  ...  M00836  M00837  M00838  M00839  M00840  M00841  \\\n",
       "0     286    1604  ...      33       1       2      68     442     663   \n",
       "1     405    1914  ...       0       7       1      67     401     667   \n",
       "2     399    1963  ...      11       0       4      89     463     697   \n",
       "3     390    2036  ...       4       0       1      69     527     683   \n",
       "4     400    1855  ...       3       8      10      54     432     724   \n",
       "\n",
       "   M00842  M00843  M00844  M00845  \n",
       "0     147     148     545     737  \n",
       "1     129     149     507     791  \n",
       "2     126     133     579     821  \n",
       "3     137     161     627     831  \n",
       "4     155     142     498     688  \n",
       "\n",
       "[5 rows x 698 columns]"
      ]
     },
     "execution_count": 33,
     "metadata": {},
     "output_type": "execute_result"
    }
   ],
   "source": [
    "X.head()"
   ]
  },
  {
   "cell_type": "code",
   "execution_count": 34,
   "metadata": {},
   "outputs": [],
   "source": [
    "from sklearn.model_selection import cross_val_score\n",
    "from sklearn.model_selection import KFold\n",
    "from sklearn.model_selection import cross_validate\n",
    "import random\n",
    "import math\n",
    "seed = 42\n",
    "X, y = my_data.drop(columns=['Sample_id', 'DistxDay']), my_data.DistxDay\n",
    "kf = KFold(n_splits=5)"
   ]
  },
  {
   "cell_type": "code",
   "execution_count": 35,
   "metadata": {},
   "outputs": [
    {
     "name": "stdout",
     "output_type": "stream",
     "text": [
      "Avg kfold neg MSE: -1.1872046987664837\n"
     ]
    }
   ],
   "source": [
    "# Max_depth = 2, max_features = \"log2\"\n",
    "RF_1 = RandomForestRegressor(random_state=seed, max_depth=2, n_estimators= 100, \n",
    "                            oob_score=True, max_features = \"log2\")\n",
    "result_negMSE_1 = cross_val_score(RF_1, X, y, cv = kf, scoring=\"neg_mean_absolute_error\")\n",
    "print(\"Avg kfold neg MSE: {}\".format(result_negMSE_1.mean())) #Print average accuracy"
   ]
  },
  {
   "cell_type": "code",
   "execution_count": 36,
   "metadata": {},
   "outputs": [
    {
     "name": "stdout",
     "output_type": "stream",
     "text": [
      "Avg kfold R2 Score: -1.329\n"
     ]
    }
   ],
   "source": [
    "# R-squared (R2) score for the regression\n",
    "result_r2 = cross_val_score(RF_1, X, y, cv=kf, scoring=\"r2\")\n",
    "avg_r2 = round(result_r2.mean(), 3)\n",
    "print(\"Avg kfold R2 Score: {}\".format(avg_r2))"
   ]
  },
  {
   "cell_type": "code",
   "execution_count": 37,
   "metadata": {},
   "outputs": [
    {
     "name": "stdout",
     "output_type": "stream",
     "text": [
      "Feature: M00212, Mean Spearman's rho ± std on Training Data: -0.60 ± 0.09 (-0.70, -0.51)\n",
      "Feature: M00841, Mean Spearman's rho ± std on Training Data: -0.52 ± 0.08 (-0.59, -0.44)\n",
      "Feature: M00383, Mean Spearman's rho ± std on Training Data: nan ± nan (nan, nan)\n",
      "Feature: M00523, Mean Spearman's rho ± std on Training Data: 0.01 ± 0.17 (-0.16, 0.18)\n",
      "Feature: M00790, Mean Spearman's rho ± std on Training Data: -0.58 ± 0.06 (-0.64, -0.52)\n",
      "Feature: M00261, Mean Spearman's rho ± std on Training Data: -0.21 ± 0.22 (-0.43, 0.01)\n",
      "Feature: M00806, Mean Spearman's rho ± std on Training Data: -0.38 ± 0.08 (-0.46, -0.30)\n",
      "Feature: M00217, Mean Spearman's rho ± std on Training Data: -0.31 ± 0.06 (-0.38, -0.25)\n",
      "Feature: M00333, Mean Spearman's rho ± std on Training Data: 0.26 ± 0.12 (0.14, 0.38)\n",
      "Feature: M00202, Mean Spearman's rho ± std on Training Data: 0.38 ± 0.11 (0.27, 0.49)\n"
     ]
    },
    {
     "name": "stderr",
     "output_type": "stream",
     "text": [
      "/Users/Jessica/.local/lib/python3.7/site-packages/scipy/stats/stats.py:4196: SpearmanRConstantInputWarning: An input array is constant; the correlation coefficent is not defined.\n",
      "  warnings.warn(SpearmanRConstantInputWarning())\n"
     ]
    }
   ],
   "source": [
    "# Get the Spearman's rho for the training data in each cross-validation fold\n",
    "# Correlating V1-V2 distance and feature baseline abundance\n",
    "from sklearn.model_selection import KFold\n",
    "from scipy.stats import spearmanr\n",
    "import numpy as np\n",
    "\n",
    "seed = 42\n",
    "X, y = my_data.drop(columns=['Sample_id','DistxDay']), my_data.DistxDay\n",
    "kf = KFold(n_splits=5, random_state=seed, shuffle=True)\n",
    "\n",
    "# Specify the top 10 features \n",
    "selected_features = ['M00212',\n",
    " 'M00841',\n",
    " 'M00383',\n",
    " 'M00523',\n",
    " 'M00790',\n",
    " 'M00261',\n",
    " 'M00806',\n",
    " 'M00217',\n",
    " 'M00333',\n",
    " 'M00202']\n",
    "\n",
    "# Initialize lists to store Spearman's rho values for selected features\n",
    "# Initializes a dictionary where each feature in selected_features is a key, and the corresponding value is an empty list \n",
    "spearman_rho_per_feature = {feature: [] for feature in selected_features}\n",
    "\n",
    "for train_index, test_index in kf.split(X):\n",
    "    X_train, X_test = X.iloc[train_index], X.iloc[test_index]\n",
    "    y_train, y_test = y.iloc[train_index], y.iloc[test_index]\n",
    "\n",
    "    for feature in selected_features:\n",
    "        rho, _ = spearmanr(X_train[feature], y_train)\n",
    "        spearman_rho_per_feature[feature].append(rho)\n",
    "\n",
    "# Print mean, std, and range for each selected feature\n",
    "for feature in selected_features:\n",
    "    mean_rho = np.mean(spearman_rho_per_feature[feature])\n",
    "    std_rho = np.std(spearman_rho_per_feature[feature])\n",
    "    range_str = \"({:.2f}, {:.2f})\".format(mean_rho - std_rho, mean_rho + std_rho)\n",
    "    print(\"Feature: {}, Mean Spearman's rho ± std on Training Data: {:.2f} ± {:.2f} {}\".format(feature, mean_rho, std_rho, range_str))"
   ]
  },
  {
   "cell_type": "markdown",
   "metadata": {},
   "source": [
    "### Correlate real Distxday and preidicted Distxday to check model performance"
   ]
  },
  {
   "cell_type": "code",
   "execution_count": 19,
   "metadata": {},
   "outputs": [],
   "source": [
    "from sklearn.model_selection import cross_val_predict\n",
    "from scipy.stats import spearmanr\n",
    "#from scipy.stats import pearsonr"
   ]
  },
  {
   "cell_type": "code",
   "execution_count": 20,
   "metadata": {},
   "outputs": [],
   "source": [
    "# Get cross-validated predictions for each data point\n",
    "y_pred = cross_val_predict(RF_1, X, y, cv=kf)"
   ]
  },
  {
   "cell_type": "code",
   "execution_count": 21,
   "metadata": {},
   "outputs": [],
   "source": [
    "#y_pred"
   ]
  },
  {
   "cell_type": "code",
   "execution_count": 17,
   "metadata": {},
   "outputs": [],
   "source": [
    "#y"
   ]
  },
  {
   "cell_type": "code",
   "execution_count": 18,
   "metadata": {},
   "outputs": [],
   "source": [
    "# Calculate the Spearman correlation coefficient for the actual vs. predicted across all individuals\n",
    "correlation, p_value = spearmanr(y, y_pred)"
   ]
  },
  {
   "cell_type": "code",
   "execution_count": 19,
   "metadata": {},
   "outputs": [
    {
     "name": "stdout",
     "output_type": "stream",
     "text": [
      "Spearman correlation coefficient for all individuals: -0.461\n",
      "P-value for the Spearman correlation: 0.047\n"
     ]
    }
   ],
   "source": [
    "print(f\"Spearman correlation coefficient for all individuals: {correlation:.3f}\")\n",
    "print(f\"P-value for the Spearman correlation: {p_value:.3f}\")"
   ]
  },
  {
   "cell_type": "code",
   "execution_count": 20,
   "metadata": {},
   "outputs": [
    {
     "data": {
      "text/plain": [
       "Text(9.32571428571429, 20.225465329614867, 'Spearman correlation: -0.46')"
      ]
     },
     "execution_count": 20,
     "metadata": {},
     "output_type": "execute_result"
    },
    {
     "data": {
      "image/png": "[encoded data removed]",
      "text/plain": [
       "<Figure size 720x576 with 1 Axes>"
      ]
     },
     "metadata": {
      "needs_background": "light"
     },
     "output_type": "display_data"
    }
   ],
   "source": [
    "plt.figure(figsize=(10, 8))  # Set the size of the plot\n",
    "plt.scatter(y, y_pred, alpha=0.5)  # Plot y vs. y_pred\n",
    "\n",
    "plt.title('Actual vs. Predicted Values')\n",
    "plt.xlabel('Actual Values')\n",
    "plt.ylabel('Predicted Values')\n",
    "\n",
    "# Optionally, you can annotate the Spearman correlation on the plot\n",
    "corr, _ = spearmanr(y, y_pred)\n",
    "plt.text(min(y), max(y_pred), f'Spearman correlation: {corr:.2f}', fontsize=12)\n"
   ]
  },
  {
   "cell_type": "markdown",
   "metadata": {},
   "source": [
    "## Step 4: Permutation\n",
    "**First shuffle DistxDay against other columns, and then do random forest. Repeat this 1000 times**"
   ]
  },
  {
   "cell_type": "code",
   "execution_count": 14,
   "metadata": {},
   "outputs": [],
   "source": [
    "# Permutation\n",
    "from collections import OrderedDict\n",
    "\n",
    "seed=42\n",
    "kf = KFold(n_splits=5)\n",
    "# Max_depth = 2, max_features = \"log2\", n_estimators=100, the same setting as the one above\n",
    "RF_shuffle = RandomForestRegressor(random_state=seed, max_depth=2, n_estimators= 100, \n",
    "                            oob_score=False, max_features = \"log2\")\n",
    "\n",
    "permu_times = 1000\n",
    "\n",
    "#Create an empty array first\n",
    "#https://stackoverflow.com/questions/568962/how-do-i-create-an-empty-array-matrix-in-numpy\n",
    "permutation_negMSE=a = np.empty(shape=(permu_times,1))\n",
    "\n",
    "for i in range(1, permu_times + 1):\n",
    "        #First copy my_data using pandas.DataFrame.copy (the correct way to do this!)\n",
    "        #https://moonbooks.org/Articles/How-to-copy-a-dataframe-with-pandas-in-python-/\n",
    "        shuffled_data = my_data.copy()\n",
    "\n",
    "        #Then shuffle data\n",
    "        shuffled_data['DistxDay'] = shuffled_data['DistxDay'].sample(frac=1, random_state=i).reset_index(drop=True)\n",
    "        \n",
    "        #Then run random forest\n",
    "        X_shuffle, y_shuffle = shuffled_data.drop(columns=['Sample_id','DistxDay']), shuffled_data.DistxDay\n",
    "        result_negMSE_shuffle = cross_val_score(RF_shuffle, X_shuffle, y_shuffle, cv = kf, scoring=\"neg_mean_absolute_error\")\n",
    "        \n",
    "        # Record the neg MSE for each permutation\n",
    "        negMSE=result_negMSE_shuffle.mean() #Print average negMSE\n",
    "        permutation_negMSE[i-1]=negMSE"
   ]
  },
  {
   "cell_type": "code",
   "execution_count": 15,
   "metadata": {},
   "outputs": [
    {
     "data": {
      "text/plain": [
       "1000"
      ]
     },
     "execution_count": 15,
     "metadata": {},
     "output_type": "execute_result"
    }
   ],
   "source": [
    "len(permutation_negMSE)"
   ]
  },
  {
   "cell_type": "code",
   "execution_count": 16,
   "metadata": {},
   "outputs": [
    {
     "data": {
      "text/plain": [
       "Text(0.5, 1.0, 'Permutation negative MSE histogram')"
      ]
     },
     "execution_count": 16,
     "metadata": {},
     "output_type": "execute_result"
    },
    {
     "data": {
      "image/png": "[encoded data removed]",
      "text/plain": [
       "<Figure size 432x288 with 1 Axes>"
      ]
     },
     "metadata": {
      "needs_background": "light"
     },
     "output_type": "display_data"
    }
   ],
   "source": [
    "# Plot a histogram\n",
    "binwidth=0.005\n",
    "plt.hist(permutation_negMSE, bins=np.arange(min(permutation_negMSE), max(permutation_negMSE) \n",
    "                                            + binwidth, binwidth))\n",
    "plt.title(\"Permutation negative MSE histogram\") "
   ]
  },
  {
   "cell_type": "code",
   "execution_count": 17,
   "metadata": {},
   "outputs": [
    {
     "data": {
      "image/png": "[encoded data removed]",
      "text/plain": [
       "<Figure size 432x288 with 1 Axes>"
      ]
     },
     "metadata": {
      "needs_background": "light"
     },
     "output_type": "display_data"
    }
   ],
   "source": [
    "# Calculate area under histogram to get (some sort of) p value\n",
    "values, bins, _ = plt.hist(permutation_negMSE)\n",
    "plt.title(\"Permutation negative MSE histogram\") \n",
    "area = sum(np.diff(bins)*values)"
   ]
  },
  {
   "cell_type": "code",
   "execution_count": 18,
   "metadata": {},
   "outputs": [
    {
     "data": {
      "text/plain": [
       "-0.9316925634219893"
      ]
     },
     "execution_count": 18,
     "metadata": {},
     "output_type": "execute_result"
    }
   ],
   "source": [
    "# What is the p = 0.05 threshold?\n",
    "np.percentile(permutation_negMSE, 95)"
   ]
  },
  {
   "cell_type": "markdown",
   "metadata": {},
   "source": [
    "## Step 5: Random Forest (using leave-one-out cross-validation)"
   ]
  },
  {
   "cell_type": "code",
   "execution_count": 38,
   "metadata": {},
   "outputs": [],
   "source": [
    "from sklearn.model_selection import LeaveOneOut\n",
    "from sklearn.ensemble import RandomForestRegressor\n",
    "from sklearn.metrics import mean_absolute_error\n",
    "import numpy as np\n",
    "\n",
    "seed = 42\n",
    "X, y = my_data.drop(columns=['Sample_id','DistxDay']), my_data.DistxDay\n",
    "\n",
    "# Initialize LeaveOneOut object\n",
    "loo = LeaveOneOut()\n",
    "\n",
    "# Initialize an array of zeros to hold feature importances\n",
    "# X.shape[1]: This is the number of columns (features)\n",
    "# loo.get_n_splits(X): This is the number of splits in LOOCV\n",
    "individual_feature_importances = np.zeros((X.shape[1], loo.get_n_splits(X)))\n",
    "\n",
    "# Initialize an empty list to hold the negative MAE scores\n",
    "neg_mae_scores_loo = []\n",
    "\n",
    "# Initialize an array to store all LOOCV predictions (for correlation of y and y_pred later)\n",
    "y_preds_array = np.zeros(len(y))\n",
    "\n",
    "# Loop over the LOOCV folds\n",
    "for fold, (train_index, test_index) in enumerate(loo.split(X)):\n",
    "    # Split data\n",
    "    X_train, X_test = X.iloc[train_index], X.iloc[test_index]\n",
    "    y_train, y_test = y.iloc[train_index], y.iloc[test_index]\n",
    "    \n",
    "    # Initialize the model with the same hyperparameters\n",
    "    RF = RandomForestRegressor(random_state=seed, max_depth=2, n_estimators=100,\n",
    "                               oob_score=True, max_features=\"log2\")\n",
    "    # Fit the model\n",
    "    RF.fit(X_train, y_train)\n",
    "    \n",
    "    # Predict on the test set\n",
    "    y_pred = RF.predict(X_test)\n",
    "    y_preds_array[test_index] = y_pred\n",
    "    \n",
    "    # Calculate the MAE for the current fold and append it to the list\n",
    "    mae = mean_absolute_error(y_test, y_pred)\n",
    "    neg_mae_scores_loo.append(-mae)  # We negate the MAE to follow your requirement\n",
    "    \n",
    "    # Accumulate feature importances for this fold\n",
    "    individual_feature_importances[:, fold] = RF.feature_importances_\n",
    "\n",
    "# Calculate median of feature importances\n",
    "median_importances = np.median(individual_feature_importances, axis=1)\n",
    "\n",
    "# Sort the mean feature importances in descending order and get the indices\n",
    "sorted_median_idx = np.argsort(median_importances)[::-1]\n",
    "\n",
    "# Get the names of the top 10 features based on mean importance\n",
    "top_10_median_feature_names = X.columns[sorted_median_idx][:10]\n",
    "\n",
    "# Get the mean importance scores of the top 10 features\n",
    "top_10_median_importances = median_importances[sorted_median_idx][:10]\n",
    "\n",
    "# After collecting all predictions, calculate the Spearman correlation\n",
    "correlation, p_value = spearmanr(y, y_preds_array)"
   ]
  },
  {
   "cell_type": "code",
   "execution_count": 39,
   "metadata": {},
   "outputs": [
    {
     "name": "stdout",
     "output_type": "stream",
     "text": [
      "Average negative MAE:  -1.0902473454342592\n"
     ]
    }
   ],
   "source": [
    "# Print out the negative MAE scores for each fold\n",
    "#print(\"Negative MAE scores for each fold: \", neg_mae_scores_loo)\n",
    "\n",
    "# The average negative MAE score across all folds\n",
    "print(\"Average negative MAE: \", np.mean(neg_mae_scores_loo))"
   ]
  },
  {
   "cell_type": "code",
   "execution_count": 40,
   "metadata": {},
   "outputs": [
    {
     "data": {
      "text/plain": [
       "(698, 19)"
      ]
     },
     "execution_count": 40,
     "metadata": {},
     "output_type": "execute_result"
    }
   ],
   "source": [
    "individual_feature_importances.shape"
   ]
  },
  {
   "cell_type": "code",
   "execution_count": 41,
   "metadata": {},
   "outputs": [
    {
     "name": "stdout",
     "output_type": "stream",
     "text": [
      "M00790: 0.021230267754769782\n",
      "M00841: 0.01710604357319382\n",
      "M00449: 0.014498435840934439\n",
      "M00489: 0.01434643645460511\n",
      "M00115: 0.012838368107147566\n",
      "M00403: 0.012231215124549149\n",
      "M00169: 0.012098682041168776\n",
      "M00600: 0.009597835763925786\n",
      "M00354: 0.009322315443710651\n",
      "M00212: 0.008984452103821532\n"
     ]
    }
   ],
   "source": [
    "# Print the top 10 features and their importances\n",
    "# Use zip because top_10_feature_names and top_10_importances are two iterables that we want to loop over simultaneously.\n",
    "for name, importance in zip(top_10_median_feature_names, top_10_median_importances):\n",
    "    print(f\"{name}: {importance}\")"
   ]
  },
  {
   "cell_type": "code",
   "execution_count": 42,
   "metadata": {},
   "outputs": [
    {
     "name": "stdout",
     "output_type": "stream",
     "text": [
      "Spearman correlation: -0.207\n",
      "P-value: 0.395\n"
     ]
    }
   ],
   "source": [
    "#Print the correlation rho and p-value\n",
    "print(f\"Spearman correlation: {correlation:.3f}\")\n",
    "print(f\"P-value: {p_value:.3f}\")\n"
   ]
  },
  {
   "cell_type": "markdown",
   "metadata": {},
   "source": [
    "## Step 4: Permutation for LOOCV\n",
    "**First shuffle Dist_V1V2 against other columns, and then do random forest. Repeat this 1000 times**"
   ]
  },
  {
   "cell_type": "code",
   "execution_count": 43,
   "metadata": {},
   "outputs": [
    {
     "name": "stdout",
     "output_type": "stream",
     "text": [
      "Current iteration: 0\n",
      "Current iteration: 50\n",
      "Current iteration: 100\n",
      "Current iteration: 150\n",
      "Current iteration: 200\n",
      "Current iteration: 250\n",
      "Current iteration: 300\n",
      "Current iteration: 350\n",
      "Current iteration: 400\n",
      "Current iteration: 450\n",
      "Current iteration: 500\n",
      "Current iteration: 550\n",
      "Current iteration: 600\n",
      "Current iteration: 650\n",
      "Current iteration: 700\n",
      "Current iteration: 750\n",
      "Current iteration: 800\n",
      "Current iteration: 850\n",
      "Current iteration: 900\n",
      "Current iteration: 950\n"
     ]
    }
   ],
   "source": [
    "# Define the number of permutations\n",
    "permu_times = 1000\n",
    "\n",
    "# Create an empty array to store the neg MAE for each permutation\n",
    "permutation_negMAE_loo = np.empty(permu_times)\n",
    "\n",
    "# Initialize LOO cross-validation\n",
    "loo = LeaveOneOut()\n",
    "\n",
    "# Initialize the random forest with the specified settings\n",
    "RF_shuffle_loo = RandomForestRegressor(random_state=seed, max_depth=2, n_estimators=100,\n",
    "                                       oob_score=False, max_features=\"log2\")\n",
    "\n",
    "# Run the permutation test with LOO CV\n",
    "for i in range(permu_times):\n",
    "    \n",
    "    # Print the value of i at every 50th iteration so that I know the progress\n",
    "    # % is modulo calculation\n",
    "    if i % 50 == 0:\n",
    "        print(f\"Current iteration: {i}\")\n",
    "    \n",
    "    # Shuffle the 'DistxDay' column\n",
    "    shuffled_target = my_data['DistxDay'].sample(frac=1, random_state=i).reset_index(drop=True)\n",
    "    \n",
    "    # Prepare the data for cross-validation\n",
    "    X, y_shuffled = my_data.drop(columns=['Sample_id','DistxDay']), shuffled_target\n",
    "    \n",
    "    # Variable to accumulate the mean absolute error\n",
    "    mae_sum = 0\n",
    "    \n",
    "    # Perform LOO cross-validation\n",
    "    for train_index, test_index in loo.split(X):\n",
    "        # Split the data into train and test for the current fold\n",
    "        X_train, X_test = X.iloc[train_index], X.iloc[test_index]\n",
    "        y_train, y_test = y_shuffled.iloc[train_index], y_shuffled.iloc[test_index]\n",
    "        \n",
    "        # Fit the model\n",
    "        RF_shuffle_loo.fit(X_train, y_train)\n",
    "        \n",
    "        # Make predictions\n",
    "        y_pred = RF_shuffle_loo.predict(X_test)\n",
    "        \n",
    "        # Calculate the MAE for the current fold and accumulate it\n",
    "        mae_sum += mean_absolute_error(y_test, y_pred)\n",
    "    \n",
    "    # Calculate the average MAE over all folds and store the negative value\n",
    "    permutation_negMAE_loo[i] = -mae_sum / loo.get_n_splits(X)"
   ]
  },
  {
   "cell_type": "code",
   "execution_count": 44,
   "metadata": {},
   "outputs": [
    {
     "data": {
      "text/plain": [
       "1000"
      ]
     },
     "execution_count": 44,
     "metadata": {},
     "output_type": "execute_result"
    }
   ],
   "source": [
    "len(permutation_negMAE_loo)"
   ]
  },
  {
   "cell_type": "code",
   "execution_count": 45,
   "metadata": {},
   "outputs": [
    {
     "data": {
      "image/png": "[encoded data removed]",
      "text/plain": [
       "<Figure size 432x288 with 1 Axes>"
      ]
     },
     "metadata": {
      "needs_background": "light"
     },
     "output_type": "display_data"
    }
   ],
   "source": [
    "# Calculate area under histogram to get (some sort of) p value\n",
    "values, bins, _ = plt.hist(permutation_negMAE_loo)\n",
    "plt.title(\"Permutation negative MSE histogram\") \n",
    "area = sum(np.diff(bins)*values)"
   ]
  },
  {
   "cell_type": "code",
   "execution_count": 46,
   "metadata": {},
   "outputs": [
    {
     "data": {
      "text/plain": [
       "-0.9466423512289798"
      ]
     },
     "execution_count": 46,
     "metadata": {},
     "output_type": "execute_result"
    }
   ],
   "source": [
    "# What is the p = 0.05 threshold?\n",
    "np.percentile(permutation_negMAE_loo, 95)"
   ]
  },
  {
   "cell_type": "markdown",
   "metadata": {},
   "source": [
    "#### See if the RF (LOOCV) is significant"
   ]
  },
  {
   "cell_type": "code",
   "execution_count": 47,
   "metadata": {},
   "outputs": [
    {
     "name": "stdout",
     "output_type": "stream",
     "text": [
      "Actual neg MAE (-1.0902473454342592) is smaller than 95% of the neg MAE from permutation (-0.9466423512289798)\n",
      "\u001b[1mRF is nonsignificant\u001b[0m\n"
     ]
    }
   ],
   "source": [
    "# Calculate the mean of the negative MAE scores from the actual LOOCV\n",
    "actual_neg_mae_mean = np.mean(neg_mae_scores_loo)\n",
    "\n",
    "# Calculate the 95th percentile of the negative MAE scores from the permutation test\n",
    "percentile_95_loo = np.percentile(permutation_negMAE_loo, 95)\n",
    "\n",
    "# Compare and print the result\n",
    "if actual_neg_mae_mean > percentile_95_loo: #sig\n",
    "    print(f\"Actual neg MAE ({actual_neg_mae_mean}) is larger than 95% of the neg MAE from permutation ({percentile_95_loo})\")\n",
    "    print(\"\\033[1mRF is significant\\033[0m\") #bold text\n",
    "else: #Nonsig\n",
    "    print(f\"Actual neg MAE ({actual_neg_mae_mean}) is smaller than 95% of the neg MAE from permutation ({percentile_95_loo})\")\n",
    "    print(\"\\033[1mRF is nonsignificant\\033[0m\") #bold text"
   ]
  },
  {
   "cell_type": "code",
   "execution_count": 48,
   "metadata": {},
   "outputs": [
    {
     "name": "stdout",
     "output_type": "stream",
     "text": [
      "The actual_neg_mae_mean is in the 0.688% percentile of the permutation distribution, so the p value is 0.688\n"
     ]
    }
   ],
   "source": [
    "# Calculate the percentage of permutation_negMAE_loo that is less than or equal to actual_neg_mae_mean\n",
    "percentage_loo = np.mean(permutation_negMAE_loo <= actual_neg_mae_mean) * 100\n",
    "p_value_loo = round(1 - percentage_loo/100, 3)\n",
    "print(f\"The actual_neg_mae_mean is in the {p_value_loo}% percentile of the permutation distribution, so the p value is {p_value_loo}\")\n"
   ]
  },
  {
   "cell_type": "code",
   "execution_count": null,
   "metadata": {},
   "outputs": [],
   "source": []
  },
  {
   "cell_type": "code",
   "execution_count": null,
   "metadata": {},
   "outputs": [],
   "source": []
  }
 ],
 "metadata": {
  "kernelspec": {
   "display_name": "Python 3",
   "language": "python",
   "name": "python3"
  },
  "language_info": {
   "codemirror_mode": {
    "name": "ipython",
    "version": 3
   },
   "file_extension": ".py",
   "mimetype": "text/x-python",
   "name": "python",
   "nbconvert_exporter": "python",
   "pygments_lexer": "ipython3",
   "version": "3.7.3"
  }
 },
 "nbformat": 4,
 "nbformat_minor": 5
}
