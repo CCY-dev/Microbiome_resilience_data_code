{
 "cells": [
  {
   "cell_type": "markdown",
   "metadata": {},
   "source": [
    "# Permutation + a full part of LOOCV\n",
    "# Palleja & Suez species baseline random forest permutation, using interpolated data!!!\n",
    "## Using vegdist (Bray-Curtis). Both studies from NGless result and rarefied to 190!\n",
    "## LHS is distance * day, not distance!!\n",
    "## Time points are realgined between Suez and Palleja!!"
   ]
  },
  {
   "cell_type": "markdown",
   "metadata": {},
   "source": [
    "## 1. Exploratory Data Analysis"
   ]
  },
  {
   "cell_type": "code",
   "execution_count": 23,
   "metadata": {},
   "outputs": [],
   "source": [
    "import pandas as pd\n",
    "import numpy as np\n",
    "import matplotlib.pyplot as plt\n",
    "import seaborn as sns"
   ]
  },
  {
   "cell_type": "code",
   "execution_count": 24,
   "metadata": {},
   "outputs": [],
   "source": [
    "species = pd.read_csv(\"/Users/Jessica/Documents/Lab/Multiple_longitudinal/Microbe_resilience/Interpolate_missing_timepoint/Palleja_Suez_both_ngless_rarefy190_species_baseline_vegdist_bray_interpolated_realigned_timepoint_forML.txt\",\n",
    "                   delimiter = \"\\t\")"
   ]
  },
  {
   "cell_type": "code",
   "execution_count": 25,
   "metadata": {},
   "outputs": [
    {
     "data": {
      "text/html": [
       "<div>\n",
       "<style scoped>\n",
       "    .dataframe tbody tr th:only-of-type {\n",
       "        vertical-align: middle;\n",
       "    }\n",
       "\n",
       "    .dataframe tbody tr th {\n",
       "        vertical-align: top;\n",
       "    }\n",
       "\n",
       "    .dataframe thead th {\n",
       "        text-align: right;\n",
       "    }\n",
       "</style>\n",
       "<table border=\"1\" class=\"dataframe\">\n",
       "  <thead>\n",
       "    <tr style=\"text-align: right;\">\n",
       "      <th></th>\n",
       "      <th>Sample_id</th>\n",
       "      <th>recovered_realigned_day</th>\n",
       "      <th>lowest_dist</th>\n",
       "      <th>DistxDay</th>\n",
       "      <th>Timepoint_realign</th>\n",
       "      <th>Study</th>\n",
       "      <th>Perturbance_scale</th>\n",
       "      <th>Shannon</th>\n",
       "      <th>Akkermansia.muciniphila._Akkermansia.muciniphila.CAG.154_Akkermansia.sp..UNK.MGS.1_Akkermansia.sp..54_46_Akkermansia.sp..Phil8_Akkermansia.muciniphila_</th>\n",
       "      <th>Alistipes.finegoldii._Alistipes.finegoldii.CAG.68_Alistipes.finegoldii_Alistipes.sp..HGB5_</th>\n",
       "      <th>...</th>\n",
       "      <th>Veillonella.parvula._Veillonella.parvula_Veillonella.sp..6_1_27_Veillonella.sp..3_1_44_</th>\n",
       "      <th>X_Eubacterium_.eligens._Candidatus.Gastranaerophilales.bacterium.HUM_14__Eubacterium_.eligens_</th>\n",
       "      <th>X_Eubacterium_.eligens._Eubacterium.eligens.CAG.72_Candidatus.Gastranaerophilales.bacterium.HUM_19__Eubacterium_.eligens_</th>\n",
       "      <th>X_Eubacterium_.hallii._Eubacterium.hallii.CAG.12_uncultured.Eubacterium.sp.__Eubacterium_.hallii_</th>\n",
       "      <th>X_Eubacterium_.rectale._Eubacterium.rectale.CAG.36_Eubacterium.sp..41_20__Eubacterium_.rectale_</th>\n",
       "      <th>X_Eubacterium_.siraeum._Eubacterium.siraeum.CAG.80__Eubacterium_.siraeum_</th>\n",
       "      <th>X_Ruminococcus_.torques</th>\n",
       "      <th>bacterium.LF.3._Coprobacillus.sp..CAG.235_bacterium.LF.3_Coprobacillus.sp..CAG.235_29_27_uncultured.Clostridium.sp._</th>\n",
       "      <th>uncultured.Blautia.sp.</th>\n",
       "      <th>uncultured.Clostridium.sp.</th>\n",
       "    </tr>\n",
       "  </thead>\n",
       "  <tbody>\n",
       "    <tr>\n",
       "      <th>0</th>\n",
       "      <td>801</td>\n",
       "      <td>56</td>\n",
       "      <td>0.397590</td>\n",
       "      <td>22.265060</td>\n",
       "      <td>Baseline</td>\n",
       "      <td>Suez</td>\n",
       "      <td>0.725490</td>\n",
       "      <td>2.976085</td>\n",
       "      <td>0</td>\n",
       "      <td>0</td>\n",
       "      <td>...</td>\n",
       "      <td>0</td>\n",
       "      <td>0</td>\n",
       "      <td>0</td>\n",
       "      <td>0</td>\n",
       "      <td>0</td>\n",
       "      <td>0</td>\n",
       "      <td>1</td>\n",
       "      <td>0</td>\n",
       "      <td>0</td>\n",
       "      <td>0</td>\n",
       "    </tr>\n",
       "    <tr>\n",
       "      <th>1</th>\n",
       "      <td>802</td>\n",
       "      <td>26</td>\n",
       "      <td>0.316294</td>\n",
       "      <td>8.223642</td>\n",
       "      <td>Baseline</td>\n",
       "      <td>Suez</td>\n",
       "      <td>0.567568</td>\n",
       "      <td>2.840323</td>\n",
       "      <td>0</td>\n",
       "      <td>1</td>\n",
       "      <td>...</td>\n",
       "      <td>0</td>\n",
       "      <td>0</td>\n",
       "      <td>0</td>\n",
       "      <td>1</td>\n",
       "      <td>0</td>\n",
       "      <td>0</td>\n",
       "      <td>0</td>\n",
       "      <td>0</td>\n",
       "      <td>1</td>\n",
       "      <td>0</td>\n",
       "    </tr>\n",
       "    <tr>\n",
       "      <th>2</th>\n",
       "      <td>803</td>\n",
       "      <td>38</td>\n",
       "      <td>0.354633</td>\n",
       "      <td>13.476038</td>\n",
       "      <td>Baseline</td>\n",
       "      <td>Suez</td>\n",
       "      <td>0.502994</td>\n",
       "      <td>3.127154</td>\n",
       "      <td>0</td>\n",
       "      <td>0</td>\n",
       "      <td>...</td>\n",
       "      <td>0</td>\n",
       "      <td>0</td>\n",
       "      <td>3</td>\n",
       "      <td>1</td>\n",
       "      <td>4</td>\n",
       "      <td>0</td>\n",
       "      <td>0</td>\n",
       "      <td>0</td>\n",
       "      <td>0</td>\n",
       "      <td>0</td>\n",
       "    </tr>\n",
       "    <tr>\n",
       "      <th>3</th>\n",
       "      <td>804</td>\n",
       "      <td>36</td>\n",
       "      <td>0.316770</td>\n",
       "      <td>11.403727</td>\n",
       "      <td>Baseline</td>\n",
       "      <td>Suez</td>\n",
       "      <td>0.640867</td>\n",
       "      <td>3.211491</td>\n",
       "      <td>0</td>\n",
       "      <td>0</td>\n",
       "      <td>...</td>\n",
       "      <td>0</td>\n",
       "      <td>0</td>\n",
       "      <td>3</td>\n",
       "      <td>1</td>\n",
       "      <td>3</td>\n",
       "      <td>0</td>\n",
       "      <td>1</td>\n",
       "      <td>0</td>\n",
       "      <td>0</td>\n",
       "      <td>0</td>\n",
       "    </tr>\n",
       "    <tr>\n",
       "      <th>4</th>\n",
       "      <td>805</td>\n",
       "      <td>46</td>\n",
       "      <td>0.585455</td>\n",
       "      <td>26.930909</td>\n",
       "      <td>Baseline</td>\n",
       "      <td>Suez</td>\n",
       "      <td>0.859922</td>\n",
       "      <td>2.979442</td>\n",
       "      <td>0</td>\n",
       "      <td>0</td>\n",
       "      <td>...</td>\n",
       "      <td>0</td>\n",
       "      <td>0</td>\n",
       "      <td>0</td>\n",
       "      <td>0</td>\n",
       "      <td>0</td>\n",
       "      <td>3</td>\n",
       "      <td>5</td>\n",
       "      <td>0</td>\n",
       "      <td>0</td>\n",
       "      <td>1</td>\n",
       "    </tr>\n",
       "  </tbody>\n",
       "</table>\n",
       "<p>5 rows × 136 columns</p>\n",
       "</div>"
      ],
      "text/plain": [
       "  Sample_id  recovered_realigned_day  lowest_dist   DistxDay  \\\n",
       "0       801                       56     0.397590  22.265060   \n",
       "1       802                       26     0.316294   8.223642   \n",
       "2       803                       38     0.354633  13.476038   \n",
       "3       804                       36     0.316770  11.403727   \n",
       "4       805                       46     0.585455  26.930909   \n",
       "\n",
       "  Timepoint_realign Study  Perturbance_scale   Shannon  \\\n",
       "0          Baseline  Suez           0.725490  2.976085   \n",
       "1          Baseline  Suez           0.567568  2.840323   \n",
       "2          Baseline  Suez           0.502994  3.127154   \n",
       "3          Baseline  Suez           0.640867  3.211491   \n",
       "4          Baseline  Suez           0.859922  2.979442   \n",
       "\n",
       "   Akkermansia.muciniphila._Akkermansia.muciniphila.CAG.154_Akkermansia.sp..UNK.MGS.1_Akkermansia.sp..54_46_Akkermansia.sp..Phil8_Akkermansia.muciniphila_  \\\n",
       "0                                                  0                                                                                                         \n",
       "1                                                  0                                                                                                         \n",
       "2                                                  0                                                                                                         \n",
       "3                                                  0                                                                                                         \n",
       "4                                                  0                                                                                                         \n",
       "\n",
       "   Alistipes.finegoldii._Alistipes.finegoldii.CAG.68_Alistipes.finegoldii_Alistipes.sp..HGB5_  \\\n",
       "0                                                  0                                            \n",
       "1                                                  1                                            \n",
       "2                                                  0                                            \n",
       "3                                                  0                                            \n",
       "4                                                  0                                            \n",
       "\n",
       "   ...  \\\n",
       "0  ...   \n",
       "1  ...   \n",
       "2  ...   \n",
       "3  ...   \n",
       "4  ...   \n",
       "\n",
       "   Veillonella.parvula._Veillonella.parvula_Veillonella.sp..6_1_27_Veillonella.sp..3_1_44_  \\\n",
       "0                                                  0                                         \n",
       "1                                                  0                                         \n",
       "2                                                  0                                         \n",
       "3                                                  0                                         \n",
       "4                                                  0                                         \n",
       "\n",
       "   X_Eubacterium_.eligens._Candidatus.Gastranaerophilales.bacterium.HUM_14__Eubacterium_.eligens_  \\\n",
       "0                                                  0                                                \n",
       "1                                                  0                                                \n",
       "2                                                  0                                                \n",
       "3                                                  0                                                \n",
       "4                                                  0                                                \n",
       "\n",
       "   X_Eubacterium_.eligens._Eubacterium.eligens.CAG.72_Candidatus.Gastranaerophilales.bacterium.HUM_19__Eubacterium_.eligens_  \\\n",
       "0                                                  0                                                                           \n",
       "1                                                  0                                                                           \n",
       "2                                                  3                                                                           \n",
       "3                                                  3                                                                           \n",
       "4                                                  0                                                                           \n",
       "\n",
       "   X_Eubacterium_.hallii._Eubacterium.hallii.CAG.12_uncultured.Eubacterium.sp.__Eubacterium_.hallii_  \\\n",
       "0                                                  0                                                   \n",
       "1                                                  1                                                   \n",
       "2                                                  1                                                   \n",
       "3                                                  1                                                   \n",
       "4                                                  0                                                   \n",
       "\n",
       "   X_Eubacterium_.rectale._Eubacterium.rectale.CAG.36_Eubacterium.sp..41_20__Eubacterium_.rectale_  \\\n",
       "0                                                  0                                                 \n",
       "1                                                  0                                                 \n",
       "2                                                  4                                                 \n",
       "3                                                  3                                                 \n",
       "4                                                  0                                                 \n",
       "\n",
       "   X_Eubacterium_.siraeum._Eubacterium.siraeum.CAG.80__Eubacterium_.siraeum_  \\\n",
       "0                                                  0                           \n",
       "1                                                  0                           \n",
       "2                                                  0                           \n",
       "3                                                  0                           \n",
       "4                                                  3                           \n",
       "\n",
       "   X_Ruminococcus_.torques  \\\n",
       "0                        1   \n",
       "1                        0   \n",
       "2                        0   \n",
       "3                        1   \n",
       "4                        5   \n",
       "\n",
       "   bacterium.LF.3._Coprobacillus.sp..CAG.235_bacterium.LF.3_Coprobacillus.sp..CAG.235_29_27_uncultured.Clostridium.sp._  \\\n",
       "0                                                  0                                                                      \n",
       "1                                                  0                                                                      \n",
       "2                                                  0                                                                      \n",
       "3                                                  0                                                                      \n",
       "4                                                  0                                                                      \n",
       "\n",
       "   uncultured.Blautia.sp.  uncultured.Clostridium.sp.  \n",
       "0                       0                           0  \n",
       "1                       1                           0  \n",
       "2                       0                           0  \n",
       "3                       0                           0  \n",
       "4                       0                           1  \n",
       "\n",
       "[5 rows x 136 columns]"
      ]
     },
     "execution_count": 25,
     "metadata": {},
     "output_type": "execute_result"
    }
   ],
   "source": [
    "species.head()"
   ]
  },
  {
   "cell_type": "code",
   "execution_count": 26,
   "metadata": {},
   "outputs": [
    {
     "name": "stdout",
     "output_type": "stream",
     "text": [
      "0     0\n",
      "1     0\n",
      "2     0\n",
      "3     0\n",
      "4     0\n",
      "5     0\n",
      "6     0\n",
      "7     0\n",
      "8     0\n",
      "9     0\n",
      "10    0\n",
      "11    0\n",
      "12    1\n",
      "13    0\n",
      "14    0\n",
      "15    0\n",
      "16    0\n",
      "17    0\n",
      "18    0\n",
      "Name: Bacteroides.caecimuris, dtype: int64\n"
     ]
    }
   ],
   "source": [
    "print(species['Bacteroides.caecimuris'])"
   ]
  },
  {
   "cell_type": "code",
   "execution_count": 27,
   "metadata": {},
   "outputs": [
    {
     "name": "stdout",
     "output_type": "stream",
     "text": [
      "Number of columns: 136\n"
     ]
    }
   ],
   "source": [
    "num_columns = species.shape[1]\n",
    "print(\"Number of columns:\", num_columns)"
   ]
  },
  {
   "cell_type": "markdown",
   "metadata": {},
   "source": [
    "## 2. Set up evaluation environment. Use stratified 5-fold CV to determine the accuracy of the model"
   ]
  },
  {
   "cell_type": "code",
   "execution_count": 28,
   "metadata": {},
   "outputs": [],
   "source": [
    "my_data = species.drop(columns=['recovered_realigned_day', 'lowest_dist', 'Timepoint_realign', 'Study'])"
   ]
  },
  {
   "cell_type": "code",
   "execution_count": 29,
   "metadata": {},
   "outputs": [
    {
     "data": {
      "text/html": [
       "<div>\n",
       "<style scoped>\n",
       "    .dataframe tbody tr th:only-of-type {\n",
       "        vertical-align: middle;\n",
       "    }\n",
       "\n",
       "    .dataframe tbody tr th {\n",
       "        vertical-align: top;\n",
       "    }\n",
       "\n",
       "    .dataframe thead th {\n",
       "        text-align: right;\n",
       "    }\n",
       "</style>\n",
       "<table border=\"1\" class=\"dataframe\">\n",
       "  <thead>\n",
       "    <tr style=\"text-align: right;\">\n",
       "      <th></th>\n",
       "      <th>Sample_id</th>\n",
       "      <th>DistxDay</th>\n",
       "      <th>Perturbance_scale</th>\n",
       "      <th>Shannon</th>\n",
       "      <th>Akkermansia.muciniphila._Akkermansia.muciniphila.CAG.154_Akkermansia.sp..UNK.MGS.1_Akkermansia.sp..54_46_Akkermansia.sp..Phil8_Akkermansia.muciniphila_</th>\n",
       "      <th>Alistipes.finegoldii._Alistipes.finegoldii.CAG.68_Alistipes.finegoldii_Alistipes.sp..HGB5_</th>\n",
       "      <th>Alistipes.finegoldii_onderdonkii._Alistipes.sp..CAG.29_Alistipes.sp..AL.1_Alistipes.finegoldii_Alistipes.onderdonkii_</th>\n",
       "      <th>Alistipes.obesi</th>\n",
       "      <th>Alistipes.putredinis._Alistipes.putredinis.CAG.67_Alistipes.putredinis_</th>\n",
       "      <th>Alistipes.shahii._Alistipes.sp..56_sp_Nov_56_25_Alistipes.shahii_</th>\n",
       "      <th>...</th>\n",
       "      <th>Veillonella.parvula._Veillonella.parvula_Veillonella.sp..6_1_27_Veillonella.sp..3_1_44_</th>\n",
       "      <th>X_Eubacterium_.eligens._Candidatus.Gastranaerophilales.bacterium.HUM_14__Eubacterium_.eligens_</th>\n",
       "      <th>X_Eubacterium_.eligens._Eubacterium.eligens.CAG.72_Candidatus.Gastranaerophilales.bacterium.HUM_19__Eubacterium_.eligens_</th>\n",
       "      <th>X_Eubacterium_.hallii._Eubacterium.hallii.CAG.12_uncultured.Eubacterium.sp.__Eubacterium_.hallii_</th>\n",
       "      <th>X_Eubacterium_.rectale._Eubacterium.rectale.CAG.36_Eubacterium.sp..41_20__Eubacterium_.rectale_</th>\n",
       "      <th>X_Eubacterium_.siraeum._Eubacterium.siraeum.CAG.80__Eubacterium_.siraeum_</th>\n",
       "      <th>X_Ruminococcus_.torques</th>\n",
       "      <th>bacterium.LF.3._Coprobacillus.sp..CAG.235_bacterium.LF.3_Coprobacillus.sp..CAG.235_29_27_uncultured.Clostridium.sp._</th>\n",
       "      <th>uncultured.Blautia.sp.</th>\n",
       "      <th>uncultured.Clostridium.sp.</th>\n",
       "    </tr>\n",
       "  </thead>\n",
       "  <tbody>\n",
       "    <tr>\n",
       "      <th>0</th>\n",
       "      <td>801</td>\n",
       "      <td>22.265060</td>\n",
       "      <td>0.725490</td>\n",
       "      <td>2.976085</td>\n",
       "      <td>0</td>\n",
       "      <td>0</td>\n",
       "      <td>0</td>\n",
       "      <td>1</td>\n",
       "      <td>0</td>\n",
       "      <td>0</td>\n",
       "      <td>...</td>\n",
       "      <td>0</td>\n",
       "      <td>0</td>\n",
       "      <td>0</td>\n",
       "      <td>0</td>\n",
       "      <td>0</td>\n",
       "      <td>0</td>\n",
       "      <td>1</td>\n",
       "      <td>0</td>\n",
       "      <td>0</td>\n",
       "      <td>0</td>\n",
       "    </tr>\n",
       "    <tr>\n",
       "      <th>1</th>\n",
       "      <td>802</td>\n",
       "      <td>8.223642</td>\n",
       "      <td>0.567568</td>\n",
       "      <td>2.840323</td>\n",
       "      <td>0</td>\n",
       "      <td>1</td>\n",
       "      <td>0</td>\n",
       "      <td>0</td>\n",
       "      <td>0</td>\n",
       "      <td>0</td>\n",
       "      <td>...</td>\n",
       "      <td>0</td>\n",
       "      <td>0</td>\n",
       "      <td>0</td>\n",
       "      <td>1</td>\n",
       "      <td>0</td>\n",
       "      <td>0</td>\n",
       "      <td>0</td>\n",
       "      <td>0</td>\n",
       "      <td>1</td>\n",
       "      <td>0</td>\n",
       "    </tr>\n",
       "    <tr>\n",
       "      <th>2</th>\n",
       "      <td>803</td>\n",
       "      <td>13.476038</td>\n",
       "      <td>0.502994</td>\n",
       "      <td>3.127154</td>\n",
       "      <td>0</td>\n",
       "      <td>0</td>\n",
       "      <td>0</td>\n",
       "      <td>0</td>\n",
       "      <td>0</td>\n",
       "      <td>0</td>\n",
       "      <td>...</td>\n",
       "      <td>0</td>\n",
       "      <td>0</td>\n",
       "      <td>3</td>\n",
       "      <td>1</td>\n",
       "      <td>4</td>\n",
       "      <td>0</td>\n",
       "      <td>0</td>\n",
       "      <td>0</td>\n",
       "      <td>0</td>\n",
       "      <td>0</td>\n",
       "    </tr>\n",
       "    <tr>\n",
       "      <th>3</th>\n",
       "      <td>804</td>\n",
       "      <td>11.403727</td>\n",
       "      <td>0.640867</td>\n",
       "      <td>3.211491</td>\n",
       "      <td>0</td>\n",
       "      <td>0</td>\n",
       "      <td>0</td>\n",
       "      <td>0</td>\n",
       "      <td>0</td>\n",
       "      <td>0</td>\n",
       "      <td>...</td>\n",
       "      <td>0</td>\n",
       "      <td>0</td>\n",
       "      <td>3</td>\n",
       "      <td>1</td>\n",
       "      <td>3</td>\n",
       "      <td>0</td>\n",
       "      <td>1</td>\n",
       "      <td>0</td>\n",
       "      <td>0</td>\n",
       "      <td>0</td>\n",
       "    </tr>\n",
       "    <tr>\n",
       "      <th>4</th>\n",
       "      <td>805</td>\n",
       "      <td>26.930909</td>\n",
       "      <td>0.859922</td>\n",
       "      <td>2.979442</td>\n",
       "      <td>0</td>\n",
       "      <td>0</td>\n",
       "      <td>0</td>\n",
       "      <td>0</td>\n",
       "      <td>0</td>\n",
       "      <td>0</td>\n",
       "      <td>...</td>\n",
       "      <td>0</td>\n",
       "      <td>0</td>\n",
       "      <td>0</td>\n",
       "      <td>0</td>\n",
       "      <td>0</td>\n",
       "      <td>3</td>\n",
       "      <td>5</td>\n",
       "      <td>0</td>\n",
       "      <td>0</td>\n",
       "      <td>1</td>\n",
       "    </tr>\n",
       "  </tbody>\n",
       "</table>\n",
       "<p>5 rows × 132 columns</p>\n",
       "</div>"
      ],
      "text/plain": [
       "  Sample_id   DistxDay  Perturbance_scale   Shannon  \\\n",
       "0       801  22.265060           0.725490  2.976085   \n",
       "1       802   8.223642           0.567568  2.840323   \n",
       "2       803  13.476038           0.502994  3.127154   \n",
       "3       804  11.403727           0.640867  3.211491   \n",
       "4       805  26.930909           0.859922  2.979442   \n",
       "\n",
       "   Akkermansia.muciniphila._Akkermansia.muciniphila.CAG.154_Akkermansia.sp..UNK.MGS.1_Akkermansia.sp..54_46_Akkermansia.sp..Phil8_Akkermansia.muciniphila_  \\\n",
       "0                                                  0                                                                                                         \n",
       "1                                                  0                                                                                                         \n",
       "2                                                  0                                                                                                         \n",
       "3                                                  0                                                                                                         \n",
       "4                                                  0                                                                                                         \n",
       "\n",
       "   Alistipes.finegoldii._Alistipes.finegoldii.CAG.68_Alistipes.finegoldii_Alistipes.sp..HGB5_  \\\n",
       "0                                                  0                                            \n",
       "1                                                  1                                            \n",
       "2                                                  0                                            \n",
       "3                                                  0                                            \n",
       "4                                                  0                                            \n",
       "\n",
       "   Alistipes.finegoldii_onderdonkii._Alistipes.sp..CAG.29_Alistipes.sp..AL.1_Alistipes.finegoldii_Alistipes.onderdonkii_  \\\n",
       "0                                                  0                                                                       \n",
       "1                                                  0                                                                       \n",
       "2                                                  0                                                                       \n",
       "3                                                  0                                                                       \n",
       "4                                                  0                                                                       \n",
       "\n",
       "   Alistipes.obesi  \\\n",
       "0                1   \n",
       "1                0   \n",
       "2                0   \n",
       "3                0   \n",
       "4                0   \n",
       "\n",
       "   Alistipes.putredinis._Alistipes.putredinis.CAG.67_Alistipes.putredinis_  \\\n",
       "0                                                  0                         \n",
       "1                                                  0                         \n",
       "2                                                  0                         \n",
       "3                                                  0                         \n",
       "4                                                  0                         \n",
       "\n",
       "   Alistipes.shahii._Alistipes.sp..56_sp_Nov_56_25_Alistipes.shahii_  ...  \\\n",
       "0                                                  0                  ...   \n",
       "1                                                  0                  ...   \n",
       "2                                                  0                  ...   \n",
       "3                                                  0                  ...   \n",
       "4                                                  0                  ...   \n",
       "\n",
       "   Veillonella.parvula._Veillonella.parvula_Veillonella.sp..6_1_27_Veillonella.sp..3_1_44_  \\\n",
       "0                                                  0                                         \n",
       "1                                                  0                                         \n",
       "2                                                  0                                         \n",
       "3                                                  0                                         \n",
       "4                                                  0                                         \n",
       "\n",
       "   X_Eubacterium_.eligens._Candidatus.Gastranaerophilales.bacterium.HUM_14__Eubacterium_.eligens_  \\\n",
       "0                                                  0                                                \n",
       "1                                                  0                                                \n",
       "2                                                  0                                                \n",
       "3                                                  0                                                \n",
       "4                                                  0                                                \n",
       "\n",
       "   X_Eubacterium_.eligens._Eubacterium.eligens.CAG.72_Candidatus.Gastranaerophilales.bacterium.HUM_19__Eubacterium_.eligens_  \\\n",
       "0                                                  0                                                                           \n",
       "1                                                  0                                                                           \n",
       "2                                                  3                                                                           \n",
       "3                                                  3                                                                           \n",
       "4                                                  0                                                                           \n",
       "\n",
       "   X_Eubacterium_.hallii._Eubacterium.hallii.CAG.12_uncultured.Eubacterium.sp.__Eubacterium_.hallii_  \\\n",
       "0                                                  0                                                   \n",
       "1                                                  1                                                   \n",
       "2                                                  1                                                   \n",
       "3                                                  1                                                   \n",
       "4                                                  0                                                   \n",
       "\n",
       "   X_Eubacterium_.rectale._Eubacterium.rectale.CAG.36_Eubacterium.sp..41_20__Eubacterium_.rectale_  \\\n",
       "0                                                  0                                                 \n",
       "1                                                  0                                                 \n",
       "2                                                  4                                                 \n",
       "3                                                  3                                                 \n",
       "4                                                  0                                                 \n",
       "\n",
       "   X_Eubacterium_.siraeum._Eubacterium.siraeum.CAG.80__Eubacterium_.siraeum_  \\\n",
       "0                                                  0                           \n",
       "1                                                  0                           \n",
       "2                                                  0                           \n",
       "3                                                  0                           \n",
       "4                                                  3                           \n",
       "\n",
       "   X_Ruminococcus_.torques  \\\n",
       "0                        1   \n",
       "1                        0   \n",
       "2                        0   \n",
       "3                        1   \n",
       "4                        5   \n",
       "\n",
       "   bacterium.LF.3._Coprobacillus.sp..CAG.235_bacterium.LF.3_Coprobacillus.sp..CAG.235_29_27_uncultured.Clostridium.sp._  \\\n",
       "0                                                  0                                                                      \n",
       "1                                                  0                                                                      \n",
       "2                                                  0                                                                      \n",
       "3                                                  0                                                                      \n",
       "4                                                  0                                                                      \n",
       "\n",
       "   uncultured.Blautia.sp.  uncultured.Clostridium.sp.  \n",
       "0                       0                           0  \n",
       "1                       1                           0  \n",
       "2                       0                           0  \n",
       "3                       0                           0  \n",
       "4                       0                           1  \n",
       "\n",
       "[5 rows x 132 columns]"
      ]
     },
     "execution_count": 29,
     "metadata": {},
     "output_type": "execute_result"
    }
   ],
   "source": [
    "my_data.head()"
   ]
  },
  {
   "cell_type": "code",
   "execution_count": 30,
   "metadata": {},
   "outputs": [],
   "source": [
    "from sklearn.model_selection import StratifiedKFold\n",
    "skf = StratifiedKFold(n_splits=5)"
   ]
  },
  {
   "cell_type": "markdown",
   "metadata": {},
   "source": [
    "## Step 3: Try out Random Forest (within the 5 - Fold CV setup)"
   ]
  },
  {
   "cell_type": "code",
   "execution_count": 31,
   "metadata": {},
   "outputs": [],
   "source": [
    "from sklearn.model_selection import StratifiedKFold\n",
    "skf = StratifiedKFold(n_splits=5)"
   ]
  },
  {
   "cell_type": "code",
   "execution_count": 32,
   "metadata": {},
   "outputs": [],
   "source": [
    "from sklearn.model_selection import cross_val_predict\n",
    "from sklearn.metrics import accuracy_score\n",
    "from sklearn.metrics import roc_auc_score\n",
    "from sklearn.ensemble import RandomForestRegressor\n",
    "import matplotlib.pyplot as plt\n",
    "from collections import OrderedDict"
   ]
  },
  {
   "cell_type": "code",
   "execution_count": 33,
   "metadata": {},
   "outputs": [],
   "source": [
    "seed = 42"
   ]
  },
  {
   "cell_type": "code",
   "execution_count": 34,
   "metadata": {},
   "outputs": [],
   "source": [
    "X, y = my_data.drop(columns=['Sample_id', 'DistxDay']), my_data.DistxDay"
   ]
  },
  {
   "cell_type": "code",
   "execution_count": 35,
   "metadata": {},
   "outputs": [
    {
     "data": {
      "text/html": [
       "<div>\n",
       "<style scoped>\n",
       "    .dataframe tbody tr th:only-of-type {\n",
       "        vertical-align: middle;\n",
       "    }\n",
       "\n",
       "    .dataframe tbody tr th {\n",
       "        vertical-align: top;\n",
       "    }\n",
       "\n",
       "    .dataframe thead th {\n",
       "        text-align: right;\n",
       "    }\n",
       "</style>\n",
       "<table border=\"1\" class=\"dataframe\">\n",
       "  <thead>\n",
       "    <tr style=\"text-align: right;\">\n",
       "      <th></th>\n",
       "      <th>Perturbance_scale</th>\n",
       "      <th>Shannon</th>\n",
       "      <th>Akkermansia.muciniphila._Akkermansia.muciniphila.CAG.154_Akkermansia.sp..UNK.MGS.1_Akkermansia.sp..54_46_Akkermansia.sp..Phil8_Akkermansia.muciniphila_</th>\n",
       "      <th>Alistipes.finegoldii._Alistipes.finegoldii.CAG.68_Alistipes.finegoldii_Alistipes.sp..HGB5_</th>\n",
       "      <th>Alistipes.finegoldii_onderdonkii._Alistipes.sp..CAG.29_Alistipes.sp..AL.1_Alistipes.finegoldii_Alistipes.onderdonkii_</th>\n",
       "      <th>Alistipes.obesi</th>\n",
       "      <th>Alistipes.putredinis._Alistipes.putredinis.CAG.67_Alistipes.putredinis_</th>\n",
       "      <th>Alistipes.shahii._Alistipes.sp..56_sp_Nov_56_25_Alistipes.shahii_</th>\n",
       "      <th>Anaerostipes.hadrus._Lachnospiraceae.bacterium.CAG.25_Firmicutes.bacterium.CAG.552_39_19_Clostridiales.bacterium.Nov_37_41_Clostridium.sp..SS2_1_Anaerostipes.hadrus_Lachnospiraceae.bacterium.5_1_63FAA_</th>\n",
       "      <th>Anaerostipes.hadrus._uncultured.Eubacterium.sp._Anaerostipes.hadrus_</th>\n",
       "      <th>...</th>\n",
       "      <th>Veillonella.parvula._Veillonella.parvula_Veillonella.sp..6_1_27_Veillonella.sp..3_1_44_</th>\n",
       "      <th>X_Eubacterium_.eligens._Candidatus.Gastranaerophilales.bacterium.HUM_14__Eubacterium_.eligens_</th>\n",
       "      <th>X_Eubacterium_.eligens._Eubacterium.eligens.CAG.72_Candidatus.Gastranaerophilales.bacterium.HUM_19__Eubacterium_.eligens_</th>\n",
       "      <th>X_Eubacterium_.hallii._Eubacterium.hallii.CAG.12_uncultured.Eubacterium.sp.__Eubacterium_.hallii_</th>\n",
       "      <th>X_Eubacterium_.rectale._Eubacterium.rectale.CAG.36_Eubacterium.sp..41_20__Eubacterium_.rectale_</th>\n",
       "      <th>X_Eubacterium_.siraeum._Eubacterium.siraeum.CAG.80__Eubacterium_.siraeum_</th>\n",
       "      <th>X_Ruminococcus_.torques</th>\n",
       "      <th>bacterium.LF.3._Coprobacillus.sp..CAG.235_bacterium.LF.3_Coprobacillus.sp..CAG.235_29_27_uncultured.Clostridium.sp._</th>\n",
       "      <th>uncultured.Blautia.sp.</th>\n",
       "      <th>uncultured.Clostridium.sp.</th>\n",
       "    </tr>\n",
       "  </thead>\n",
       "  <tbody>\n",
       "    <tr>\n",
       "      <th>0</th>\n",
       "      <td>0.725490</td>\n",
       "      <td>2.976085</td>\n",
       "      <td>0</td>\n",
       "      <td>0</td>\n",
       "      <td>0</td>\n",
       "      <td>1</td>\n",
       "      <td>0</td>\n",
       "      <td>0</td>\n",
       "      <td>0</td>\n",
       "      <td>0</td>\n",
       "      <td>...</td>\n",
       "      <td>0</td>\n",
       "      <td>0</td>\n",
       "      <td>0</td>\n",
       "      <td>0</td>\n",
       "      <td>0</td>\n",
       "      <td>0</td>\n",
       "      <td>1</td>\n",
       "      <td>0</td>\n",
       "      <td>0</td>\n",
       "      <td>0</td>\n",
       "    </tr>\n",
       "    <tr>\n",
       "      <th>1</th>\n",
       "      <td>0.567568</td>\n",
       "      <td>2.840323</td>\n",
       "      <td>0</td>\n",
       "      <td>1</td>\n",
       "      <td>0</td>\n",
       "      <td>0</td>\n",
       "      <td>0</td>\n",
       "      <td>0</td>\n",
       "      <td>3</td>\n",
       "      <td>0</td>\n",
       "      <td>...</td>\n",
       "      <td>0</td>\n",
       "      <td>0</td>\n",
       "      <td>0</td>\n",
       "      <td>1</td>\n",
       "      <td>0</td>\n",
       "      <td>0</td>\n",
       "      <td>0</td>\n",
       "      <td>0</td>\n",
       "      <td>1</td>\n",
       "      <td>0</td>\n",
       "    </tr>\n",
       "    <tr>\n",
       "      <th>2</th>\n",
       "      <td>0.502994</td>\n",
       "      <td>3.127154</td>\n",
       "      <td>0</td>\n",
       "      <td>0</td>\n",
       "      <td>0</td>\n",
       "      <td>0</td>\n",
       "      <td>0</td>\n",
       "      <td>0</td>\n",
       "      <td>0</td>\n",
       "      <td>0</td>\n",
       "      <td>...</td>\n",
       "      <td>0</td>\n",
       "      <td>0</td>\n",
       "      <td>3</td>\n",
       "      <td>1</td>\n",
       "      <td>4</td>\n",
       "      <td>0</td>\n",
       "      <td>0</td>\n",
       "      <td>0</td>\n",
       "      <td>0</td>\n",
       "      <td>0</td>\n",
       "    </tr>\n",
       "    <tr>\n",
       "      <th>3</th>\n",
       "      <td>0.640867</td>\n",
       "      <td>3.211491</td>\n",
       "      <td>0</td>\n",
       "      <td>0</td>\n",
       "      <td>0</td>\n",
       "      <td>0</td>\n",
       "      <td>0</td>\n",
       "      <td>0</td>\n",
       "      <td>1</td>\n",
       "      <td>1</td>\n",
       "      <td>...</td>\n",
       "      <td>0</td>\n",
       "      <td>0</td>\n",
       "      <td>3</td>\n",
       "      <td>1</td>\n",
       "      <td>3</td>\n",
       "      <td>0</td>\n",
       "      <td>1</td>\n",
       "      <td>0</td>\n",
       "      <td>0</td>\n",
       "      <td>0</td>\n",
       "    </tr>\n",
       "    <tr>\n",
       "      <th>4</th>\n",
       "      <td>0.859922</td>\n",
       "      <td>2.979442</td>\n",
       "      <td>0</td>\n",
       "      <td>0</td>\n",
       "      <td>0</td>\n",
       "      <td>0</td>\n",
       "      <td>0</td>\n",
       "      <td>0</td>\n",
       "      <td>2</td>\n",
       "      <td>0</td>\n",
       "      <td>...</td>\n",
       "      <td>0</td>\n",
       "      <td>0</td>\n",
       "      <td>0</td>\n",
       "      <td>0</td>\n",
       "      <td>0</td>\n",
       "      <td>3</td>\n",
       "      <td>5</td>\n",
       "      <td>0</td>\n",
       "      <td>0</td>\n",
       "      <td>1</td>\n",
       "    </tr>\n",
       "  </tbody>\n",
       "</table>\n",
       "<p>5 rows × 130 columns</p>\n",
       "</div>"
      ],
      "text/plain": [
       "   Perturbance_scale   Shannon  \\\n",
       "0           0.725490  2.976085   \n",
       "1           0.567568  2.840323   \n",
       "2           0.502994  3.127154   \n",
       "3           0.640867  3.211491   \n",
       "4           0.859922  2.979442   \n",
       "\n",
       "   Akkermansia.muciniphila._Akkermansia.muciniphila.CAG.154_Akkermansia.sp..UNK.MGS.1_Akkermansia.sp..54_46_Akkermansia.sp..Phil8_Akkermansia.muciniphila_  \\\n",
       "0                                                  0                                                                                                         \n",
       "1                                                  0                                                                                                         \n",
       "2                                                  0                                                                                                         \n",
       "3                                                  0                                                                                                         \n",
       "4                                                  0                                                                                                         \n",
       "\n",
       "   Alistipes.finegoldii._Alistipes.finegoldii.CAG.68_Alistipes.finegoldii_Alistipes.sp..HGB5_  \\\n",
       "0                                                  0                                            \n",
       "1                                                  1                                            \n",
       "2                                                  0                                            \n",
       "3                                                  0                                            \n",
       "4                                                  0                                            \n",
       "\n",
       "   Alistipes.finegoldii_onderdonkii._Alistipes.sp..CAG.29_Alistipes.sp..AL.1_Alistipes.finegoldii_Alistipes.onderdonkii_  \\\n",
       "0                                                  0                                                                       \n",
       "1                                                  0                                                                       \n",
       "2                                                  0                                                                       \n",
       "3                                                  0                                                                       \n",
       "4                                                  0                                                                       \n",
       "\n",
       "   Alistipes.obesi  \\\n",
       "0                1   \n",
       "1                0   \n",
       "2                0   \n",
       "3                0   \n",
       "4                0   \n",
       "\n",
       "   Alistipes.putredinis._Alistipes.putredinis.CAG.67_Alistipes.putredinis_  \\\n",
       "0                                                  0                         \n",
       "1                                                  0                         \n",
       "2                                                  0                         \n",
       "3                                                  0                         \n",
       "4                                                  0                         \n",
       "\n",
       "   Alistipes.shahii._Alistipes.sp..56_sp_Nov_56_25_Alistipes.shahii_  \\\n",
       "0                                                  0                   \n",
       "1                                                  0                   \n",
       "2                                                  0                   \n",
       "3                                                  0                   \n",
       "4                                                  0                   \n",
       "\n",
       "   Anaerostipes.hadrus._Lachnospiraceae.bacterium.CAG.25_Firmicutes.bacterium.CAG.552_39_19_Clostridiales.bacterium.Nov_37_41_Clostridium.sp..SS2_1_Anaerostipes.hadrus_Lachnospiraceae.bacterium.5_1_63FAA_  \\\n",
       "0                                                  0                                                                                                                                                           \n",
       "1                                                  3                                                                                                                                                           \n",
       "2                                                  0                                                                                                                                                           \n",
       "3                                                  1                                                                                                                                                           \n",
       "4                                                  2                                                                                                                                                           \n",
       "\n",
       "   Anaerostipes.hadrus._uncultured.Eubacterium.sp._Anaerostipes.hadrus_  ...  \\\n",
       "0                                                  0                     ...   \n",
       "1                                                  0                     ...   \n",
       "2                                                  0                     ...   \n",
       "3                                                  1                     ...   \n",
       "4                                                  0                     ...   \n",
       "\n",
       "   Veillonella.parvula._Veillonella.parvula_Veillonella.sp..6_1_27_Veillonella.sp..3_1_44_  \\\n",
       "0                                                  0                                         \n",
       "1                                                  0                                         \n",
       "2                                                  0                                         \n",
       "3                                                  0                                         \n",
       "4                                                  0                                         \n",
       "\n",
       "   X_Eubacterium_.eligens._Candidatus.Gastranaerophilales.bacterium.HUM_14__Eubacterium_.eligens_  \\\n",
       "0                                                  0                                                \n",
       "1                                                  0                                                \n",
       "2                                                  0                                                \n",
       "3                                                  0                                                \n",
       "4                                                  0                                                \n",
       "\n",
       "   X_Eubacterium_.eligens._Eubacterium.eligens.CAG.72_Candidatus.Gastranaerophilales.bacterium.HUM_19__Eubacterium_.eligens_  \\\n",
       "0                                                  0                                                                           \n",
       "1                                                  0                                                                           \n",
       "2                                                  3                                                                           \n",
       "3                                                  3                                                                           \n",
       "4                                                  0                                                                           \n",
       "\n",
       "   X_Eubacterium_.hallii._Eubacterium.hallii.CAG.12_uncultured.Eubacterium.sp.__Eubacterium_.hallii_  \\\n",
       "0                                                  0                                                   \n",
       "1                                                  1                                                   \n",
       "2                                                  1                                                   \n",
       "3                                                  1                                                   \n",
       "4                                                  0                                                   \n",
       "\n",
       "   X_Eubacterium_.rectale._Eubacterium.rectale.CAG.36_Eubacterium.sp..41_20__Eubacterium_.rectale_  \\\n",
       "0                                                  0                                                 \n",
       "1                                                  0                                                 \n",
       "2                                                  4                                                 \n",
       "3                                                  3                                                 \n",
       "4                                                  0                                                 \n",
       "\n",
       "   X_Eubacterium_.siraeum._Eubacterium.siraeum.CAG.80__Eubacterium_.siraeum_  \\\n",
       "0                                                  0                           \n",
       "1                                                  0                           \n",
       "2                                                  0                           \n",
       "3                                                  0                           \n",
       "4                                                  3                           \n",
       "\n",
       "   X_Ruminococcus_.torques  \\\n",
       "0                        1   \n",
       "1                        0   \n",
       "2                        0   \n",
       "3                        1   \n",
       "4                        5   \n",
       "\n",
       "   bacterium.LF.3._Coprobacillus.sp..CAG.235_bacterium.LF.3_Coprobacillus.sp..CAG.235_29_27_uncultured.Clostridium.sp._  \\\n",
       "0                                                  0                                                                      \n",
       "1                                                  0                                                                      \n",
       "2                                                  0                                                                      \n",
       "3                                                  0                                                                      \n",
       "4                                                  0                                                                      \n",
       "\n",
       "   uncultured.Blautia.sp.  uncultured.Clostridium.sp.  \n",
       "0                       0                           0  \n",
       "1                       1                           0  \n",
       "2                       0                           0  \n",
       "3                       0                           0  \n",
       "4                       0                           1  \n",
       "\n",
       "[5 rows x 130 columns]"
      ]
     },
     "execution_count": 35,
     "metadata": {},
     "output_type": "execute_result"
    }
   ],
   "source": [
    "X.head()"
   ]
  },
  {
   "cell_type": "code",
   "execution_count": 36,
   "metadata": {},
   "outputs": [],
   "source": [
    "from sklearn.model_selection import cross_val_score\n",
    "from sklearn.model_selection import KFold\n",
    "from sklearn.model_selection import cross_validate\n",
    "import random\n",
    "import math\n",
    "seed = 42\n",
    "X, y = my_data.drop(columns=['Sample_id', 'DistxDay']), my_data.DistxDay\n",
    "kf = KFold(n_splits=5)"
   ]
  },
  {
   "cell_type": "code",
   "execution_count": 37,
   "metadata": {},
   "outputs": [
    {
     "name": "stdout",
     "output_type": "stream",
     "text": [
      "Avg kfold neg MSE: -4.991368357652799\n"
     ]
    }
   ],
   "source": [
    "# Max_depth = 10, max_features = \"log2\"\n",
    "RF_1 = RandomForestRegressor(random_state=seed, max_depth=10, n_estimators= 300, \n",
    "                            oob_score=True, max_features = \"log2\")\n",
    "result_negMSE_1 = cross_val_score(RF_1, X, y, cv = kf, scoring=\"neg_mean_absolute_error\")\n",
    "print(\"Avg kfold neg MSE: {}\".format(result_negMSE_1.mean())) #Print average accuracy\n",
    "output = cross_validate(RF_1, X, y, cv=kf, scoring = 'neg_mean_absolute_error', return_estimator =True)"
   ]
  },
  {
   "cell_type": "code",
   "execution_count": 38,
   "metadata": {},
   "outputs": [
    {
     "name": "stdout",
     "output_type": "stream",
     "text": [
      "Avg kfold R2 Score: -3.3\n"
     ]
    }
   ],
   "source": [
    "# R-squared (R2) score for the regression\n",
    "result_r2 = cross_val_score(RF_1, X, y, cv=kf, scoring=\"r2\")\n",
    "avg_r2 = round(result_r2.mean(), 3)\n",
    "print(\"Avg kfold R2 Score: {}\".format(avg_r2))"
   ]
  },
  {
   "cell_type": "code",
   "execution_count": 39,
   "metadata": {},
   "outputs": [
    {
     "name": "stdout",
     "output_type": "stream",
     "text": [
      "Feature: Prevotella.copri._Prevotella.copri.CAG.164_Prevotella.copri_, Mean Spearman's rho ± std on Training Data: -0.42 ± 0.04 (-0.45, -0.38)\n",
      "Feature: Prevotella.species.incertae.sedis, Mean Spearman's rho ± std on Training Data: -0.20 ± 0.16 (-0.36, -0.04)\n",
      "Feature: Roseburia.intestinalis._Roseburia.intestinalis.CAG.13_Roseburia.intestinalis_, Mean Spearman's rho ± std on Training Data: 0.64 ± 0.05 (0.59, 0.69)\n",
      "Feature: Ruminococcus.species.incertae.sedis, Mean Spearman's rho ± std on Training Data: -0.46 ± 0.10 (-0.57, -0.36)\n",
      "Feature: Bacteroides.caecimuris, Mean Spearman's rho ± std on Training Data: nan ± nan (nan, nan)\n",
      "Feature: Faecalibacterium.prausnitzii._uncultured.Faecalibacterium.sp._Faecalibacterium.prausnitzii_, Mean Spearman's rho ± std on Training Data: 0.31 ± 0.05 (0.26, 0.36)\n",
      "Feature: Ruminococcus.bicirculans._Ruminococcus.bicirculans_Ruminococcus.sp..CAG.57_Ruminococcus.sp..N15.MGS.57_uncultured.Ruminococcus.sp._, Mean Spearman's rho ± std on Training Data: 0.23 ± 0.12 (0.11, 0.35)\n",
      "Feature: Lachnospiraceae.species.incertae.sedis, Mean Spearman's rho ± std on Training Data: 0.51 ± 0.08 (0.43, 0.59)\n",
      "Feature: Bifidobacterium.ruminantium, Mean Spearman's rho ± std on Training Data: 0.26 ± 0.12 (0.14, 0.38)\n",
      "Feature: Faecalibacterium.sp.._Faecalibacterium.sp..CAG.74_Faecalibacterium.sp..CAG.74_58_120_, Mean Spearman's rho ± std on Training Data: 0.29 ± 0.06 (0.22, 0.35)\n"
     ]
    },
    {
     "name": "stderr",
     "output_type": "stream",
     "text": [
      "/Users/Jessica/.local/lib/python3.7/site-packages/scipy/stats/stats.py:4196: SpearmanRConstantInputWarning: An input array is constant; the correlation coefficent is not defined.\n",
      "  warnings.warn(SpearmanRConstantInputWarning())\n"
     ]
    }
   ],
   "source": [
    "# Get the Spearman's rho for the training data in each cross-validation fold\n",
    "# Correlating V1-V2 distance and feature baseline abundance\n",
    "from sklearn.model_selection import KFold\n",
    "from scipy.stats import spearmanr\n",
    "import numpy as np\n",
    "\n",
    "seed = 42\n",
    "X, y = my_data.drop(columns=['Sample_id','DistxDay']), my_data.DistxDay\n",
    "kf = KFold(n_splits=5, random_state=seed, shuffle=True)\n",
    "\n",
    "# Specify the top 10 features \n",
    "selected_features = ['Prevotella.copri._Prevotella.copri.CAG.164_Prevotella.copri_',\n",
    " 'Prevotella.species.incertae.sedis',\n",
    " 'Roseburia.intestinalis._Roseburia.intestinalis.CAG.13_Roseburia.intestinalis_',\n",
    " 'Ruminococcus.species.incertae.sedis',\n",
    " 'Bacteroides.caecimuris',\n",
    " 'Faecalibacterium.prausnitzii._uncultured.Faecalibacterium.sp._Faecalibacterium.prausnitzii_',\n",
    " 'Ruminococcus.bicirculans._Ruminococcus.bicirculans_Ruminococcus.sp..CAG.57_Ruminococcus.sp..N15.MGS.57_uncultured.Ruminococcus.sp._',\n",
    " 'Lachnospiraceae.species.incertae.sedis',\n",
    " 'Bifidobacterium.ruminantium',\n",
    " 'Faecalibacterium.sp.._Faecalibacterium.sp..CAG.74_Faecalibacterium.sp..CAG.74_58_120_']\n",
    "\n",
    "# Initialize lists to store Spearman's rho values for selected features\n",
    "# Initializes a dictionary where each feature in selected_features is a key, and the corresponding value is an empty list \n",
    "spearman_rho_per_feature = {feature: [] for feature in selected_features}\n",
    "\n",
    "for train_index, test_index in kf.split(X):\n",
    "    X_train, X_test = X.iloc[train_index], X.iloc[test_index]\n",
    "    y_train, y_test = y.iloc[train_index], y.iloc[test_index]\n",
    "\n",
    "    for feature in selected_features:\n",
    "        rho, _ = spearmanr(X_train[feature], y_train)\n",
    "        spearman_rho_per_feature[feature].append(rho)\n",
    "\n",
    "# Print mean, std, and range for each selected feature\n",
    "for feature in selected_features:\n",
    "    mean_rho = np.mean(spearman_rho_per_feature[feature])\n",
    "    std_rho = np.std(spearman_rho_per_feature[feature])\n",
    "    range_str = \"({:.2f}, {:.2f})\".format(mean_rho - std_rho, mean_rho + std_rho)\n",
    "    print(\"Feature: {}, Mean Spearman's rho ± std on Training Data: {:.2f} ± {:.2f} {}\".format(feature, mean_rho, std_rho, range_str))"
   ]
  },
  {
   "cell_type": "markdown",
   "metadata": {},
   "source": [
    "### Correlate real Distxday and preidicted Distxday to check model performance"
   ]
  },
  {
   "cell_type": "code",
   "execution_count": 14,
   "metadata": {},
   "outputs": [],
   "source": [
    "from sklearn.model_selection import cross_val_predict\n",
    "from scipy.stats import spearmanr\n",
    "#from scipy.stats import pearsonr"
   ]
  },
  {
   "cell_type": "code",
   "execution_count": 15,
   "metadata": {},
   "outputs": [],
   "source": [
    "# Get cross-validated predictions for each data point\n",
    "y_pred = cross_val_predict(RF_1, X, y, cv=kf)"
   ]
  },
  {
   "cell_type": "code",
   "execution_count": 16,
   "metadata": {},
   "outputs": [],
   "source": [
    "#y_pred"
   ]
  },
  {
   "cell_type": "code",
   "execution_count": 17,
   "metadata": {},
   "outputs": [],
   "source": [
    "#y"
   ]
  },
  {
   "cell_type": "code",
   "execution_count": 18,
   "metadata": {},
   "outputs": [],
   "source": [
    "# Calculate the Spearman correlation coefficient for the actual vs. predicted across all individuals\n",
    "correlation, p_value = spearmanr(y, y_pred)"
   ]
  },
  {
   "cell_type": "code",
   "execution_count": 19,
   "metadata": {},
   "outputs": [
    {
     "name": "stdout",
     "output_type": "stream",
     "text": [
      "Spearman correlation coefficient for all individuals: -0.356\n",
      "P-value for the Spearman correlation: 0.135\n"
     ]
    }
   ],
   "source": [
    "print(f\"Spearman correlation coefficient for all individuals: {correlation:.3f}\")\n",
    "print(f\"P-value for the Spearman correlation: {p_value:.3f}\")"
   ]
  },
  {
   "cell_type": "code",
   "execution_count": 20,
   "metadata": {},
   "outputs": [
    {
     "data": {
      "text/plain": [
       "Text(8.22364217252396, 23.612659877103038, 'Spearman correlation: -0.36')"
      ]
     },
     "execution_count": 20,
     "metadata": {},
     "output_type": "execute_result"
    },
    {
     "data": {
      "image/png": "[encoded data removed]",
      "text/plain": [
       "<Figure size 720x576 with 1 Axes>"
      ]
     },
     "metadata": {
      "needs_background": "light"
     },
     "output_type": "display_data"
    }
   ],
   "source": [
    "plt.figure(figsize=(10, 8))  # Set the size of the plot\n",
    "plt.scatter(y, y_pred, alpha=0.5)  # Plot y vs. y_pred\n",
    "\n",
    "plt.title('Actual vs. Predicted Values')\n",
    "plt.xlabel('Actual Values')\n",
    "plt.ylabel('Predicted Values')\n",
    "\n",
    "# Optionally, you can annotate the Spearman correlation on the plot\n",
    "corr, _ = spearmanr(y, y_pred)\n",
    "plt.text(min(y), max(y_pred), f'Spearman correlation: {corr:.2f}', fontsize=12)\n"
   ]
  },
  {
   "cell_type": "markdown",
   "metadata": {},
   "source": [
    "## Step 4: Permutation\n",
    "**First shuffle DistxDay against other columns, and then do random forest. Repeat this 1000 times**"
   ]
  },
  {
   "cell_type": "code",
   "execution_count": 14,
   "metadata": {},
   "outputs": [],
   "source": [
    "# Permutation\n",
    "from collections import OrderedDict\n",
    "\n",
    "seed=42\n",
    "kf = KFold(n_splits=5)\n",
    "# Max_depth = 10, max_features = \"log2\", n_estimators=300, the same setting as the one above\n",
    "RF_shuffle = RandomForestRegressor(random_state=seed, max_depth=10, n_estimators= 300, \n",
    "                            oob_score=False, max_features = \"log2\")\n",
    "\n",
    "permu_times = 1000\n",
    "\n",
    "#Create an empty array first\n",
    "#https://stackoverflow.com/questions/568962/how-do-i-create-an-empty-array-matrix-in-numpy\n",
    "permutation_negMSE=a = np.empty(shape=(permu_times,1))\n",
    "\n",
    "for i in range(1, permu_times + 1):\n",
    "        #First copy my_data using pandas.DataFrame.copy (the correct way to do this!)\n",
    "        #https://moonbooks.org/Articles/How-to-copy-a-dataframe-with-pandas-in-python-/\n",
    "        shuffled_data = my_data.copy()\n",
    "\n",
    "        #Then shuffle data\n",
    "        shuffled_data['DistxDay'] = shuffled_data['DistxDay'].sample(frac=1, random_state=i).reset_index(drop=True)\n",
    "        \n",
    "        #Then run random forest\n",
    "        X_shuffle, y_shuffle = shuffled_data.drop(columns=['Sample_id','DistxDay']), shuffled_data.DistxDay\n",
    "        result_negMSE_shuffle = cross_val_score(RF_shuffle, X_shuffle, y_shuffle, cv = kf, scoring=\"neg_mean_absolute_error\")\n",
    "        \n",
    "        # Record the neg MSE for each permutation\n",
    "        negMSE=result_negMSE_shuffle.mean() #Print average negMSE\n",
    "        permutation_negMSE[i-1]=negMSE"
   ]
  },
  {
   "cell_type": "code",
   "execution_count": 15,
   "metadata": {},
   "outputs": [
    {
     "data": {
      "text/plain": [
       "1000"
      ]
     },
     "execution_count": 15,
     "metadata": {},
     "output_type": "execute_result"
    }
   ],
   "source": [
    "len(permutation_negMSE)"
   ]
  },
  {
   "cell_type": "code",
   "execution_count": 16,
   "metadata": {},
   "outputs": [
    {
     "data": {
      "text/plain": [
       "Text(0.5, 1.0, 'Permutation negative MSE histogram')"
      ]
     },
     "execution_count": 16,
     "metadata": {},
     "output_type": "execute_result"
    },
    {
     "data": {
      "image/png": "[encoded data removed]",
      "text/plain": [
       "<Figure size 432x288 with 1 Axes>"
      ]
     },
     "metadata": {
      "needs_background": "light"
     },
     "output_type": "display_data"
    }
   ],
   "source": [
    "# Plot a histogram\n",
    "binwidth=0.005\n",
    "plt.hist(permutation_negMSE, bins=np.arange(min(permutation_negMSE), max(permutation_negMSE) \n",
    "                                            + binwidth, binwidth))\n",
    "plt.title(\"Permutation negative MSE histogram\") "
   ]
  },
  {
   "cell_type": "code",
   "execution_count": 17,
   "metadata": {},
   "outputs": [
    {
     "data": {
      "image/png": "[encoded data removed]",
      "text/plain": [
       "<Figure size 432x288 with 1 Axes>"
      ]
     },
     "metadata": {
      "needs_background": "light"
     },
     "output_type": "display_data"
    }
   ],
   "source": [
    "# Calculate area under histogram to get (some sort of) p value\n",
    "values, bins, _ = plt.hist(permutation_negMSE)\n",
    "plt.title(\"Permutation negative MSE histogram\") \n",
    "area = sum(np.diff(bins)*values)"
   ]
  },
  {
   "cell_type": "code",
   "execution_count": 18,
   "metadata": {},
   "outputs": [
    {
     "data": {
      "text/plain": [
       "-4.588391323430954"
      ]
     },
     "execution_count": 18,
     "metadata": {},
     "output_type": "execute_result"
    }
   ],
   "source": [
    "# What is the p = 0.05 threshold?\n",
    "np.percentile(permutation_negMSE, 95)"
   ]
  },
  {
   "cell_type": "markdown",
   "metadata": {},
   "source": [
    "## Step 5: Random Forest (using leave-one-out cross-validation)"
   ]
  },
  {
   "cell_type": "code",
   "execution_count": 40,
   "metadata": {},
   "outputs": [],
   "source": [
    "from sklearn.model_selection import LeaveOneOut\n",
    "from sklearn.ensemble import RandomForestRegressor\n",
    "from sklearn.metrics import mean_absolute_error\n",
    "import numpy as np\n",
    "\n",
    "seed = 42\n",
    "X, y = my_data.drop(columns=['Sample_id','DistxDay']), my_data.DistxDay\n",
    "\n",
    "# Initialize LeaveOneOut object\n",
    "loo = LeaveOneOut()\n",
    "\n",
    "# Initialize an array of zeros to hold feature importances\n",
    "# X.shape[1]: This is the number of columns (features)\n",
    "# loo.get_n_splits(X): This is the number of splits in LOOCV\n",
    "individual_feature_importances = np.zeros((X.shape[1], loo.get_n_splits(X)))\n",
    "\n",
    "# Initialize an empty list to hold the negative MAE scores\n",
    "neg_mae_scores_loo = []\n",
    "\n",
    "# Initialize an array to store all LOOCV predictions (for correlation of y and y_pred later)\n",
    "y_preds_array = np.zeros(len(y))\n",
    "\n",
    "# Loop over the LOOCV folds\n",
    "for fold, (train_index, test_index) in enumerate(loo.split(X)):\n",
    "    # Split data\n",
    "    X_train, X_test = X.iloc[train_index], X.iloc[test_index]\n",
    "    y_train, y_test = y.iloc[train_index], y.iloc[test_index]\n",
    "    \n",
    "    # Initialize the model with the same hyperparameters\n",
    "    RF = RandomForestRegressor(random_state=seed, max_depth=10, n_estimators=300,\n",
    "                               oob_score=True, max_features=\"log2\")\n",
    "    # Fit the model\n",
    "    RF.fit(X_train, y_train)\n",
    "    \n",
    "    # Predict on the test set\n",
    "    y_pred = RF.predict(X_test)\n",
    "    y_preds_array[test_index] = y_pred\n",
    "    \n",
    "    # Calculate the MAE for the current fold and append it to the list\n",
    "    mae = mean_absolute_error(y_test, y_pred)\n",
    "    neg_mae_scores_loo.append(-mae)  # We negate the MAE to follow your requirement\n",
    "    \n",
    "    # Accumulate feature importances for this fold\n",
    "    individual_feature_importances[:, fold] = RF.feature_importances_\n",
    "\n",
    "# Calculate median of feature importances\n",
    "median_importances = np.median(individual_feature_importances, axis=1)\n",
    "\n",
    "# Sort the mean feature importances in descending order and get the indices\n",
    "sorted_median_idx = np.argsort(median_importances)[::-1]\n",
    "\n",
    "# Get the names of the top 10 features based on mean importance\n",
    "top_10_median_feature_names = X.columns[sorted_median_idx][:10]\n",
    "\n",
    "# Get the mean importance scores of the top 10 features\n",
    "top_10_median_importances = median_importances[sorted_median_idx][:10]\n",
    "\n",
    "# After collecting all predictions, calculate the Spearman correlation\n",
    "correlation, p_value = spearmanr(y, y_preds_array)"
   ]
  },
  {
   "cell_type": "code",
   "execution_count": 41,
   "metadata": {},
   "outputs": [
    {
     "name": "stdout",
     "output_type": "stream",
     "text": [
      "Average negative MAE:  -4.756215968439663\n"
     ]
    }
   ],
   "source": [
    "# Print out the negative MAE scores for each fold\n",
    "#print(\"Negative MAE scores for each fold: \", neg_mae_scores_loo)\n",
    "\n",
    "# The average negative MAE score across all folds\n",
    "print(\"Average negative MAE: \", np.mean(neg_mae_scores_loo))"
   ]
  },
  {
   "cell_type": "code",
   "execution_count": 42,
   "metadata": {},
   "outputs": [
    {
     "data": {
      "text/plain": [
       "(130, 19)"
      ]
     },
     "execution_count": 42,
     "metadata": {},
     "output_type": "execute_result"
    }
   ],
   "source": [
    "individual_feature_importances.shape"
   ]
  },
  {
   "cell_type": "code",
   "execution_count": 43,
   "metadata": {},
   "outputs": [
    {
     "name": "stdout",
     "output_type": "stream",
     "text": [
      "Ruminococcaceae.species.incertae.sedis: 0.030807785910455413\n",
      "Prevotella.copri._Prevotella.copri.CAG.164_Prevotella.copri_: 0.02738408525490219\n",
      "Firmicutes.bacterium.CAG.341: 0.02561189649550548\n",
      "Ruminococcus.bicirculans._Ruminococcus.bicirculans_Ruminococcus.sp..CAG.57_Ruminococcus.sp..N15.MGS.57_uncultured.Ruminococcus.sp._: 0.025313178372068087\n",
      "Dorea.longicatena._Dorea.sp..42_8_Dorea.longicatena_: 0.02267492321928659\n",
      "Lachnospiraceae.species.incertae.sedis: 0.020476943326976724\n",
      "Roseburia.intestinalis._Roseburia.intestinalis.CAG.13_Roseburia.intestinalis_: 0.020272357605389035\n",
      "Prevotella.species.incertae.sedis: 0.0199837865885893\n",
      "Blautia.obeum_wexlerae._Ruminococcus.sp..CAG.9_Blautia.sp..Marseille.P2398_Ruminococcus.sp..CAG.9.related_41_34_Blautia.obeum_Blautia.wexlerae_Ruminococcus.sp..5_1_39BFAA_: 0.01964432636319325\n",
      "Bacteroides.caecimuris: 0.019387483906843004\n"
     ]
    }
   ],
   "source": [
    "# Print the top 10 features and their importances\n",
    "# Use zip because top_10_feature_names and top_10_importances are two iterables that we want to loop over simultaneously.\n",
    "for name, importance in zip(top_10_median_feature_names, top_10_median_importances):\n",
    "    print(f\"{name}: {importance}\")"
   ]
  },
  {
   "cell_type": "code",
   "execution_count": 44,
   "metadata": {},
   "outputs": [
    {
     "name": "stdout",
     "output_type": "stream",
     "text": [
      "Spearman correlation: 0.000\n",
      "P-value: 1.000\n"
     ]
    }
   ],
   "source": [
    "#Print the correlation rho and p-value\n",
    "print(f\"Spearman correlation: {correlation:.3f}\")\n",
    "print(f\"P-value: {p_value:.3f}\")\n"
   ]
  },
  {
   "cell_type": "markdown",
   "metadata": {},
   "source": [
    "## Step 4: Permutation for LOOCV\n",
    "**First shuffle Dist_V1V2 against other columns, and then do random forest. Repeat this 1000 times**"
   ]
  },
  {
   "cell_type": "code",
   "execution_count": 45,
   "metadata": {},
   "outputs": [
    {
     "name": "stdout",
     "output_type": "stream",
     "text": [
      "Current iteration: 0\n",
      "Current iteration: 50\n",
      "Current iteration: 100\n",
      "Current iteration: 150\n",
      "Current iteration: 200\n",
      "Current iteration: 250\n",
      "Current iteration: 300\n",
      "Current iteration: 350\n",
      "Current iteration: 400\n",
      "Current iteration: 450\n",
      "Current iteration: 500\n",
      "Current iteration: 550\n",
      "Current iteration: 600\n",
      "Current iteration: 650\n",
      "Current iteration: 700\n",
      "Current iteration: 750\n",
      "Current iteration: 800\n",
      "Current iteration: 850\n",
      "Current iteration: 900\n",
      "Current iteration: 950\n"
     ]
    }
   ],
   "source": [
    "# Define the number of permutations\n",
    "permu_times = 1000\n",
    "\n",
    "# Create an empty array to store the neg MAE for each permutation\n",
    "permutation_negMAE_loo = np.empty(permu_times)\n",
    "\n",
    "# Initialize LOO cross-validation\n",
    "loo = LeaveOneOut()\n",
    "\n",
    "# Initialize the random forest with the specified settings\n",
    "RF_shuffle_loo = RandomForestRegressor(random_state=seed, max_depth=10, n_estimators=300,\n",
    "                                       oob_score=False, max_features=\"log2\")\n",
    "\n",
    "# Run the permutation test with LOO CV\n",
    "for i in range(permu_times):\n",
    "    \n",
    "    # Print the value of i at every 50th iteration so that I know the progress\n",
    "    # % is modulo calculation\n",
    "    if i % 50 == 0:\n",
    "        print(f\"Current iteration: {i}\")\n",
    "    \n",
    "    # Shuffle the 'DistxDay' column\n",
    "    shuffled_target = my_data['DistxDay'].sample(frac=1, random_state=i).reset_index(drop=True)\n",
    "    \n",
    "    # Prepare the data for cross-validation\n",
    "    X, y_shuffled = my_data.drop(columns=['Sample_id','DistxDay']), shuffled_target\n",
    "    \n",
    "    # Variable to accumulate the mean absolute error\n",
    "    mae_sum = 0\n",
    "    \n",
    "    # Perform LOO cross-validation\n",
    "    for train_index, test_index in loo.split(X):\n",
    "        # Split the data into train and test for the current fold\n",
    "        X_train, X_test = X.iloc[train_index], X.iloc[test_index]\n",
    "        y_train, y_test = y_shuffled.iloc[train_index], y_shuffled.iloc[test_index]\n",
    "        \n",
    "        # Fit the model\n",
    "        RF_shuffle_loo.fit(X_train, y_train)\n",
    "        \n",
    "        # Make predictions\n",
    "        y_pred = RF_shuffle_loo.predict(X_test)\n",
    "        \n",
    "        # Calculate the MAE for the current fold and accumulate it\n",
    "        mae_sum += mean_absolute_error(y_test, y_pred)\n",
    "    \n",
    "    # Calculate the average MAE over all folds and store the negative value\n",
    "    permutation_negMAE_loo[i] = -mae_sum / loo.get_n_splits(X)"
   ]
  },
  {
   "cell_type": "code",
   "execution_count": 46,
   "metadata": {},
   "outputs": [
    {
     "data": {
      "text/plain": [
       "1000"
      ]
     },
     "execution_count": 46,
     "metadata": {},
     "output_type": "execute_result"
    }
   ],
   "source": [
    "len(permutation_negMAE_loo)"
   ]
  },
  {
   "cell_type": "code",
   "execution_count": 47,
   "metadata": {},
   "outputs": [
    {
     "data": {
      "image/png": "[encoded data removed]",
      "text/plain": [
       "<Figure size 432x288 with 1 Axes>"
      ]
     },
     "metadata": {
      "needs_background": "light"
     },
     "output_type": "display_data"
    }
   ],
   "source": [
    "# Calculate area under histogram to get (some sort of) p value\n",
    "values, bins, _ = plt.hist(permutation_negMAE_loo)\n",
    "plt.title(\"Permutation negative MSE histogram\") \n",
    "area = sum(np.diff(bins)*values)"
   ]
  },
  {
   "cell_type": "code",
   "execution_count": 48,
   "metadata": {},
   "outputs": [
    {
     "data": {
      "text/plain": [
       "-4.623854965652809"
      ]
     },
     "execution_count": 48,
     "metadata": {},
     "output_type": "execute_result"
    }
   ],
   "source": [
    "# What is the p = 0.05 threshold?\n",
    "np.percentile(permutation_negMAE_loo, 95)"
   ]
  },
  {
   "cell_type": "markdown",
   "metadata": {},
   "source": [
    "#### See if the RF (LOOCV) is significant"
   ]
  },
  {
   "cell_type": "code",
   "execution_count": 49,
   "metadata": {},
   "outputs": [
    {
     "name": "stdout",
     "output_type": "stream",
     "text": [
      "Actual neg MAE (-4.756215968439663) is smaller than 95% of the neg MAE from permutation (-4.623854965652809)\n",
      "\u001b[1mRF is nonsignificant\u001b[0m\n"
     ]
    }
   ],
   "source": [
    "# Calculate the mean of the negative MAE scores from the actual LOOCV\n",
    "actual_neg_mae_mean = np.mean(neg_mae_scores_loo)\n",
    "\n",
    "# Calculate the 95th percentile of the negative MAE scores from the permutation test\n",
    "percentile_95_loo = np.percentile(permutation_negMAE_loo, 95)\n",
    "\n",
    "# Compare and print the result\n",
    "if actual_neg_mae_mean > percentile_95_loo: #sig\n",
    "    print(f\"Actual neg MAE ({actual_neg_mae_mean}) is larger than 95% of the neg MAE from permutation ({percentile_95_loo})\")\n",
    "    print(\"\\033[1mRF is significant\\033[0m\") #bold text\n",
    "else: #Nonsig\n",
    "    print(f\"Actual neg MAE ({actual_neg_mae_mean}) is smaller than 95% of the neg MAE from permutation ({percentile_95_loo})\")\n",
    "    print(\"\\033[1mRF is nonsignificant\\033[0m\") #bold text"
   ]
  },
  {
   "cell_type": "code",
   "execution_count": 50,
   "metadata": {},
   "outputs": [
    {
     "name": "stdout",
     "output_type": "stream",
     "text": [
      "The actual_neg_mae_mean is in the 0.098% percentile of the permutation distribution, so the p value is 0.098\n"
     ]
    }
   ],
   "source": [
    "# Calculate the percentage of permutation_negMAE_loo that is less than or equal to actual_neg_mae_mean\n",
    "percentage_loo = np.mean(permutation_negMAE_loo <= actual_neg_mae_mean) * 100\n",
    "p_value_loo = round(1 - percentage_loo/100, 3)\n",
    "print(f\"The actual_neg_mae_mean is in the {p_value_loo}% percentile of the permutation distribution, so the p value is {p_value_loo}\")\n"
   ]
  },
  {
   "cell_type": "code",
   "execution_count": null,
   "metadata": {},
   "outputs": [],
   "source": []
  }
 ],
 "metadata": {
  "kernelspec": {
   "display_name": "Python 3",
   "language": "python",
   "name": "python3"
  },
  "language_info": {
   "codemirror_mode": {
    "name": "ipython",
    "version": 3
   },
   "file_extension": ".py",
   "mimetype": "text/x-python",
   "name": "python",
   "nbconvert_exporter": "python",
   "pygments_lexer": "ipython3",
   "version": "3.7.3"
  }
 },
 "nbformat": 4,
 "nbformat_minor": 5
}
