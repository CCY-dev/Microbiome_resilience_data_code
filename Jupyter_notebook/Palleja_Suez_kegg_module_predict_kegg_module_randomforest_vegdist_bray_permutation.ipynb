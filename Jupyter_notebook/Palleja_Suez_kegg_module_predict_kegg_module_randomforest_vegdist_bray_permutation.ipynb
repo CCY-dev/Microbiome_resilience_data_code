{
 "cells": [
  {
   "cell_type": "markdown",
   "metadata": {},
   "source": [
    "# Palleja & Suez kegg module at baseline v.s. V1-V2 distance of Kegg module random forest permutation + a full part of LOOCV"
   ]
  },
  {
   "cell_type": "markdown",
   "metadata": {},
   "source": [
    "## 1. Read in data"
   ]
  },
  {
   "cell_type": "code",
   "execution_count": 15,
   "metadata": {},
   "outputs": [],
   "source": [
    "import pandas as pd\n",
    "import numpy as np\n",
    "import matplotlib.pyplot as plt\n",
    "import seaborn as sns"
   ]
  },
  {
   "cell_type": "code",
   "execution_count": 16,
   "metadata": {},
   "outputs": [],
   "source": [
    "genus = pd.read_csv('/Users/Jessica/Documents/Lab/Multiple_longitudinal/Microbe_resilience/Palleja_Suez_kegg_module_baseline_predict_kegg_module_vegdist_bray_forML.txt',\n",
    "                   delimiter = \"\\t\")"
   ]
  },
  {
   "cell_type": "code",
   "execution_count": 17,
   "metadata": {},
   "outputs": [
    {
     "data": {
      "text/html": [
       "<div>\n",
       "<style scoped>\n",
       "    .dataframe tbody tr th:only-of-type {\n",
       "        vertical-align: middle;\n",
       "    }\n",
       "\n",
       "    .dataframe tbody tr th {\n",
       "        vertical-align: top;\n",
       "    }\n",
       "\n",
       "    .dataframe thead th {\n",
       "        text-align: right;\n",
       "    }\n",
       "</style>\n",
       "<table border=\"1\" class=\"dataframe\">\n",
       "  <thead>\n",
       "    <tr style=\"text-align: right;\">\n",
       "      <th></th>\n",
       "      <th>Study</th>\n",
       "      <th>ID</th>\n",
       "      <th>Dist_V1V2</th>\n",
       "      <th>Timepoint</th>\n",
       "      <th>Run</th>\n",
       "      <th>M00001</th>\n",
       "      <th>M00002</th>\n",
       "      <th>M00003</th>\n",
       "      <th>M00004</th>\n",
       "      <th>M00005</th>\n",
       "      <th>...</th>\n",
       "      <th>M00836</th>\n",
       "      <th>M00837</th>\n",
       "      <th>M00838</th>\n",
       "      <th>M00839</th>\n",
       "      <th>M00840</th>\n",
       "      <th>M00841</th>\n",
       "      <th>M00842</th>\n",
       "      <th>M00843</th>\n",
       "      <th>M00844</th>\n",
       "      <th>M00845</th>\n",
       "    </tr>\n",
       "  </thead>\n",
       "  <tbody>\n",
       "    <tr>\n",
       "      <th>0</th>\n",
       "      <td>Suez</td>\n",
       "      <td>603</td>\n",
       "      <td>0.062441</td>\n",
       "      <td>Baseline</td>\n",
       "      <td>ERR2749744</td>\n",
       "      <td>3158</td>\n",
       "      <td>1516</td>\n",
       "      <td>2044</td>\n",
       "      <td>1510</td>\n",
       "      <td>218</td>\n",
       "      <td>...</td>\n",
       "      <td>2</td>\n",
       "      <td>7</td>\n",
       "      <td>3</td>\n",
       "      <td>101</td>\n",
       "      <td>437</td>\n",
       "      <td>646</td>\n",
       "      <td>151</td>\n",
       "      <td>154</td>\n",
       "      <td>570</td>\n",
       "      <td>821</td>\n",
       "    </tr>\n",
       "    <tr>\n",
       "      <th>1</th>\n",
       "      <td>Suez</td>\n",
       "      <td>604</td>\n",
       "      <td>0.186243</td>\n",
       "      <td>Baseline</td>\n",
       "      <td>ERR2749783</td>\n",
       "      <td>2630</td>\n",
       "      <td>1457</td>\n",
       "      <td>1898</td>\n",
       "      <td>1344</td>\n",
       "      <td>190</td>\n",
       "      <td>...</td>\n",
       "      <td>4</td>\n",
       "      <td>1</td>\n",
       "      <td>0</td>\n",
       "      <td>50</td>\n",
       "      <td>515</td>\n",
       "      <td>738</td>\n",
       "      <td>152</td>\n",
       "      <td>128</td>\n",
       "      <td>547</td>\n",
       "      <td>889</td>\n",
       "    </tr>\n",
       "    <tr>\n",
       "      <th>2</th>\n",
       "      <td>Suez</td>\n",
       "      <td>605</td>\n",
       "      <td>0.194813</td>\n",
       "      <td>Baseline</td>\n",
       "      <td>ERR2749816</td>\n",
       "      <td>2727</td>\n",
       "      <td>1477</td>\n",
       "      <td>1850</td>\n",
       "      <td>1395</td>\n",
       "      <td>216</td>\n",
       "      <td>...</td>\n",
       "      <td>1</td>\n",
       "      <td>0</td>\n",
       "      <td>2</td>\n",
       "      <td>85</td>\n",
       "      <td>524</td>\n",
       "      <td>725</td>\n",
       "      <td>158</td>\n",
       "      <td>147</td>\n",
       "      <td>531</td>\n",
       "      <td>921</td>\n",
       "    </tr>\n",
       "    <tr>\n",
       "      <th>3</th>\n",
       "      <td>Suez</td>\n",
       "      <td>606</td>\n",
       "      <td>0.297473</td>\n",
       "      <td>Baseline</td>\n",
       "      <td>ERR2749856</td>\n",
       "      <td>2718</td>\n",
       "      <td>1498</td>\n",
       "      <td>1886</td>\n",
       "      <td>1349</td>\n",
       "      <td>233</td>\n",
       "      <td>...</td>\n",
       "      <td>0</td>\n",
       "      <td>0</td>\n",
       "      <td>0</td>\n",
       "      <td>62</td>\n",
       "      <td>470</td>\n",
       "      <td>674</td>\n",
       "      <td>146</td>\n",
       "      <td>142</td>\n",
       "      <td>515</td>\n",
       "      <td>778</td>\n",
       "    </tr>\n",
       "    <tr>\n",
       "      <th>4</th>\n",
       "      <td>Suez</td>\n",
       "      <td>704</td>\n",
       "      <td>0.274741</td>\n",
       "      <td>Baseline</td>\n",
       "      <td>ERR2750073</td>\n",
       "      <td>2879</td>\n",
       "      <td>1562</td>\n",
       "      <td>1964</td>\n",
       "      <td>1435</td>\n",
       "      <td>212</td>\n",
       "      <td>...</td>\n",
       "      <td>0</td>\n",
       "      <td>3</td>\n",
       "      <td>12</td>\n",
       "      <td>80</td>\n",
       "      <td>460</td>\n",
       "      <td>704</td>\n",
       "      <td>115</td>\n",
       "      <td>114</td>\n",
       "      <td>643</td>\n",
       "      <td>949</td>\n",
       "    </tr>\n",
       "  </tbody>\n",
       "</table>\n",
       "<p>5 rows × 698 columns</p>\n",
       "</div>"
      ],
      "text/plain": [
       "  Study   ID  Dist_V1V2 Timepoint         Run  M00001  M00002  M00003  M00004  \\\n",
       "0  Suez  603   0.062441  Baseline  ERR2749744    3158    1516    2044    1510   \n",
       "1  Suez  604   0.186243  Baseline  ERR2749783    2630    1457    1898    1344   \n",
       "2  Suez  605   0.194813  Baseline  ERR2749816    2727    1477    1850    1395   \n",
       "3  Suez  606   0.297473  Baseline  ERR2749856    2718    1498    1886    1349   \n",
       "4  Suez  704   0.274741  Baseline  ERR2750073    2879    1562    1964    1435   \n",
       "\n",
       "   M00005  ...  M00836  M00837  M00838  M00839  M00840  M00841  M00842  \\\n",
       "0     218  ...       2       7       3     101     437     646     151   \n",
       "1     190  ...       4       1       0      50     515     738     152   \n",
       "2     216  ...       1       0       2      85     524     725     158   \n",
       "3     233  ...       0       0       0      62     470     674     146   \n",
       "4     212  ...       0       3      12      80     460     704     115   \n",
       "\n",
       "   M00843  M00844  M00845  \n",
       "0     154     570     821  \n",
       "1     128     547     889  \n",
       "2     147     531     921  \n",
       "3     142     515     778  \n",
       "4     114     643     949  \n",
       "\n",
       "[5 rows x 698 columns]"
      ]
     },
     "execution_count": 17,
     "metadata": {},
     "output_type": "execute_result"
    }
   ],
   "source": [
    "genus.head()"
   ]
  },
  {
   "cell_type": "markdown",
   "metadata": {},
   "source": [
    "## 2. Set up evaluation environment. Use stratified 5-fold CV"
   ]
  },
  {
   "cell_type": "code",
   "execution_count": 18,
   "metadata": {},
   "outputs": [],
   "source": [
    "my_data = genus.drop(columns=['Timepoint', 'Study', \"Run\"])"
   ]
  },
  {
   "cell_type": "code",
   "execution_count": 19,
   "metadata": {},
   "outputs": [
    {
     "data": {
      "text/html": [
       "<div>\n",
       "<style scoped>\n",
       "    .dataframe tbody tr th:only-of-type {\n",
       "        vertical-align: middle;\n",
       "    }\n",
       "\n",
       "    .dataframe tbody tr th {\n",
       "        vertical-align: top;\n",
       "    }\n",
       "\n",
       "    .dataframe thead th {\n",
       "        text-align: right;\n",
       "    }\n",
       "</style>\n",
       "<table border=\"1\" class=\"dataframe\">\n",
       "  <thead>\n",
       "    <tr style=\"text-align: right;\">\n",
       "      <th></th>\n",
       "      <th>ID</th>\n",
       "      <th>Dist_V1V2</th>\n",
       "      <th>M00001</th>\n",
       "      <th>M00002</th>\n",
       "      <th>M00003</th>\n",
       "      <th>M00004</th>\n",
       "      <th>M00005</th>\n",
       "      <th>M00006</th>\n",
       "      <th>M00007</th>\n",
       "      <th>M00008</th>\n",
       "      <th>...</th>\n",
       "      <th>M00836</th>\n",
       "      <th>M00837</th>\n",
       "      <th>M00838</th>\n",
       "      <th>M00839</th>\n",
       "      <th>M00840</th>\n",
       "      <th>M00841</th>\n",
       "      <th>M00842</th>\n",
       "      <th>M00843</th>\n",
       "      <th>M00844</th>\n",
       "      <th>M00845</th>\n",
       "    </tr>\n",
       "  </thead>\n",
       "  <tbody>\n",
       "    <tr>\n",
       "      <th>0</th>\n",
       "      <td>603</td>\n",
       "      <td>0.062441</td>\n",
       "      <td>3158</td>\n",
       "      <td>1516</td>\n",
       "      <td>2044</td>\n",
       "      <td>1510</td>\n",
       "      <td>218</td>\n",
       "      <td>304</td>\n",
       "      <td>908</td>\n",
       "      <td>360</td>\n",
       "      <td>...</td>\n",
       "      <td>2</td>\n",
       "      <td>7</td>\n",
       "      <td>3</td>\n",
       "      <td>101</td>\n",
       "      <td>437</td>\n",
       "      <td>646</td>\n",
       "      <td>151</td>\n",
       "      <td>154</td>\n",
       "      <td>570</td>\n",
       "      <td>821</td>\n",
       "    </tr>\n",
       "    <tr>\n",
       "      <th>1</th>\n",
       "      <td>604</td>\n",
       "      <td>0.186243</td>\n",
       "      <td>2630</td>\n",
       "      <td>1457</td>\n",
       "      <td>1898</td>\n",
       "      <td>1344</td>\n",
       "      <td>190</td>\n",
       "      <td>345</td>\n",
       "      <td>768</td>\n",
       "      <td>433</td>\n",
       "      <td>...</td>\n",
       "      <td>4</td>\n",
       "      <td>1</td>\n",
       "      <td>0</td>\n",
       "      <td>50</td>\n",
       "      <td>515</td>\n",
       "      <td>738</td>\n",
       "      <td>152</td>\n",
       "      <td>128</td>\n",
       "      <td>547</td>\n",
       "      <td>889</td>\n",
       "    </tr>\n",
       "    <tr>\n",
       "      <th>2</th>\n",
       "      <td>605</td>\n",
       "      <td>0.194813</td>\n",
       "      <td>2727</td>\n",
       "      <td>1477</td>\n",
       "      <td>1850</td>\n",
       "      <td>1395</td>\n",
       "      <td>216</td>\n",
       "      <td>385</td>\n",
       "      <td>773</td>\n",
       "      <td>437</td>\n",
       "      <td>...</td>\n",
       "      <td>1</td>\n",
       "      <td>0</td>\n",
       "      <td>2</td>\n",
       "      <td>85</td>\n",
       "      <td>524</td>\n",
       "      <td>725</td>\n",
       "      <td>158</td>\n",
       "      <td>147</td>\n",
       "      <td>531</td>\n",
       "      <td>921</td>\n",
       "    </tr>\n",
       "    <tr>\n",
       "      <th>3</th>\n",
       "      <td>606</td>\n",
       "      <td>0.297473</td>\n",
       "      <td>2718</td>\n",
       "      <td>1498</td>\n",
       "      <td>1886</td>\n",
       "      <td>1349</td>\n",
       "      <td>233</td>\n",
       "      <td>399</td>\n",
       "      <td>709</td>\n",
       "      <td>512</td>\n",
       "      <td>...</td>\n",
       "      <td>0</td>\n",
       "      <td>0</td>\n",
       "      <td>0</td>\n",
       "      <td>62</td>\n",
       "      <td>470</td>\n",
       "      <td>674</td>\n",
       "      <td>146</td>\n",
       "      <td>142</td>\n",
       "      <td>515</td>\n",
       "      <td>778</td>\n",
       "    </tr>\n",
       "    <tr>\n",
       "      <th>4</th>\n",
       "      <td>704</td>\n",
       "      <td>0.274741</td>\n",
       "      <td>2879</td>\n",
       "      <td>1562</td>\n",
       "      <td>1964</td>\n",
       "      <td>1435</td>\n",
       "      <td>212</td>\n",
       "      <td>421</td>\n",
       "      <td>748</td>\n",
       "      <td>454</td>\n",
       "      <td>...</td>\n",
       "      <td>0</td>\n",
       "      <td>3</td>\n",
       "      <td>12</td>\n",
       "      <td>80</td>\n",
       "      <td>460</td>\n",
       "      <td>704</td>\n",
       "      <td>115</td>\n",
       "      <td>114</td>\n",
       "      <td>643</td>\n",
       "      <td>949</td>\n",
       "    </tr>\n",
       "  </tbody>\n",
       "</table>\n",
       "<p>5 rows × 695 columns</p>\n",
       "</div>"
      ],
      "text/plain": [
       "    ID  Dist_V1V2  M00001  M00002  M00003  M00004  M00005  M00006  M00007  \\\n",
       "0  603   0.062441    3158    1516    2044    1510     218     304     908   \n",
       "1  604   0.186243    2630    1457    1898    1344     190     345     768   \n",
       "2  605   0.194813    2727    1477    1850    1395     216     385     773   \n",
       "3  606   0.297473    2718    1498    1886    1349     233     399     709   \n",
       "4  704   0.274741    2879    1562    1964    1435     212     421     748   \n",
       "\n",
       "   M00008  ...  M00836  M00837  M00838  M00839  M00840  M00841  M00842  \\\n",
       "0     360  ...       2       7       3     101     437     646     151   \n",
       "1     433  ...       4       1       0      50     515     738     152   \n",
       "2     437  ...       1       0       2      85     524     725     158   \n",
       "3     512  ...       0       0       0      62     470     674     146   \n",
       "4     454  ...       0       3      12      80     460     704     115   \n",
       "\n",
       "   M00843  M00844  M00845  \n",
       "0     154     570     821  \n",
       "1     128     547     889  \n",
       "2     147     531     921  \n",
       "3     142     515     778  \n",
       "4     114     643     949  \n",
       "\n",
       "[5 rows x 695 columns]"
      ]
     },
     "execution_count": 19,
     "metadata": {},
     "output_type": "execute_result"
    }
   ],
   "source": [
    "my_data.head()"
   ]
  },
  {
   "cell_type": "code",
   "execution_count": 20,
   "metadata": {},
   "outputs": [],
   "source": [
    "from sklearn.model_selection import StratifiedKFold\n",
    "skf = StratifiedKFold(n_splits=5)"
   ]
  },
  {
   "cell_type": "markdown",
   "metadata": {},
   "source": [
    "## Step 3: Try out Random Forest (within the 5 - Fold CV setup)"
   ]
  },
  {
   "cell_type": "code",
   "execution_count": 21,
   "metadata": {},
   "outputs": [],
   "source": [
    "from sklearn.model_selection import cross_val_predict\n",
    "from sklearn.metrics import accuracy_score\n",
    "from sklearn.metrics import roc_auc_score\n",
    "from sklearn.ensemble import RandomForestRegressor\n",
    "import matplotlib.pyplot as plt\n",
    "from collections import OrderedDict"
   ]
  },
  {
   "cell_type": "code",
   "execution_count": 22,
   "metadata": {},
   "outputs": [],
   "source": [
    "seed = 42"
   ]
  },
  {
   "cell_type": "code",
   "execution_count": 23,
   "metadata": {},
   "outputs": [],
   "source": [
    "X, y = my_data.drop(columns=['ID','Dist_V1V2']), my_data.Dist_V1V2"
   ]
  },
  {
   "cell_type": "code",
   "execution_count": 24,
   "metadata": {},
   "outputs": [
    {
     "data": {
      "text/html": [
       "<div>\n",
       "<style scoped>\n",
       "    .dataframe tbody tr th:only-of-type {\n",
       "        vertical-align: middle;\n",
       "    }\n",
       "\n",
       "    .dataframe tbody tr th {\n",
       "        vertical-align: top;\n",
       "    }\n",
       "\n",
       "    .dataframe thead th {\n",
       "        text-align: right;\n",
       "    }\n",
       "</style>\n",
       "<table border=\"1\" class=\"dataframe\">\n",
       "  <thead>\n",
       "    <tr style=\"text-align: right;\">\n",
       "      <th></th>\n",
       "      <th>M00001</th>\n",
       "      <th>M00002</th>\n",
       "      <th>M00003</th>\n",
       "      <th>M00004</th>\n",
       "      <th>M00005</th>\n",
       "      <th>M00006</th>\n",
       "      <th>M00007</th>\n",
       "      <th>M00008</th>\n",
       "      <th>M00009</th>\n",
       "      <th>M00010</th>\n",
       "      <th>...</th>\n",
       "      <th>M00836</th>\n",
       "      <th>M00837</th>\n",
       "      <th>M00838</th>\n",
       "      <th>M00839</th>\n",
       "      <th>M00840</th>\n",
       "      <th>M00841</th>\n",
       "      <th>M00842</th>\n",
       "      <th>M00843</th>\n",
       "      <th>M00844</th>\n",
       "      <th>M00845</th>\n",
       "    </tr>\n",
       "  </thead>\n",
       "  <tbody>\n",
       "    <tr>\n",
       "      <th>0</th>\n",
       "      <td>3158</td>\n",
       "      <td>1516</td>\n",
       "      <td>2044</td>\n",
       "      <td>1510</td>\n",
       "      <td>218</td>\n",
       "      <td>304</td>\n",
       "      <td>908</td>\n",
       "      <td>360</td>\n",
       "      <td>1943</td>\n",
       "      <td>753</td>\n",
       "      <td>...</td>\n",
       "      <td>2</td>\n",
       "      <td>7</td>\n",
       "      <td>3</td>\n",
       "      <td>101</td>\n",
       "      <td>437</td>\n",
       "      <td>646</td>\n",
       "      <td>151</td>\n",
       "      <td>154</td>\n",
       "      <td>570</td>\n",
       "      <td>821</td>\n",
       "    </tr>\n",
       "    <tr>\n",
       "      <th>1</th>\n",
       "      <td>2630</td>\n",
       "      <td>1457</td>\n",
       "      <td>1898</td>\n",
       "      <td>1344</td>\n",
       "      <td>190</td>\n",
       "      <td>345</td>\n",
       "      <td>768</td>\n",
       "      <td>433</td>\n",
       "      <td>2098</td>\n",
       "      <td>638</td>\n",
       "      <td>...</td>\n",
       "      <td>4</td>\n",
       "      <td>1</td>\n",
       "      <td>0</td>\n",
       "      <td>50</td>\n",
       "      <td>515</td>\n",
       "      <td>738</td>\n",
       "      <td>152</td>\n",
       "      <td>128</td>\n",
       "      <td>547</td>\n",
       "      <td>889</td>\n",
       "    </tr>\n",
       "    <tr>\n",
       "      <th>2</th>\n",
       "      <td>2727</td>\n",
       "      <td>1477</td>\n",
       "      <td>1850</td>\n",
       "      <td>1395</td>\n",
       "      <td>216</td>\n",
       "      <td>385</td>\n",
       "      <td>773</td>\n",
       "      <td>437</td>\n",
       "      <td>2112</td>\n",
       "      <td>694</td>\n",
       "      <td>...</td>\n",
       "      <td>1</td>\n",
       "      <td>0</td>\n",
       "      <td>2</td>\n",
       "      <td>85</td>\n",
       "      <td>524</td>\n",
       "      <td>725</td>\n",
       "      <td>158</td>\n",
       "      <td>147</td>\n",
       "      <td>531</td>\n",
       "      <td>921</td>\n",
       "    </tr>\n",
       "    <tr>\n",
       "      <th>3</th>\n",
       "      <td>2718</td>\n",
       "      <td>1498</td>\n",
       "      <td>1886</td>\n",
       "      <td>1349</td>\n",
       "      <td>233</td>\n",
       "      <td>399</td>\n",
       "      <td>709</td>\n",
       "      <td>512</td>\n",
       "      <td>1933</td>\n",
       "      <td>749</td>\n",
       "      <td>...</td>\n",
       "      <td>0</td>\n",
       "      <td>0</td>\n",
       "      <td>0</td>\n",
       "      <td>62</td>\n",
       "      <td>470</td>\n",
       "      <td>674</td>\n",
       "      <td>146</td>\n",
       "      <td>142</td>\n",
       "      <td>515</td>\n",
       "      <td>778</td>\n",
       "    </tr>\n",
       "    <tr>\n",
       "      <th>4</th>\n",
       "      <td>2879</td>\n",
       "      <td>1562</td>\n",
       "      <td>1964</td>\n",
       "      <td>1435</td>\n",
       "      <td>212</td>\n",
       "      <td>421</td>\n",
       "      <td>748</td>\n",
       "      <td>454</td>\n",
       "      <td>2137</td>\n",
       "      <td>690</td>\n",
       "      <td>...</td>\n",
       "      <td>0</td>\n",
       "      <td>3</td>\n",
       "      <td>12</td>\n",
       "      <td>80</td>\n",
       "      <td>460</td>\n",
       "      <td>704</td>\n",
       "      <td>115</td>\n",
       "      <td>114</td>\n",
       "      <td>643</td>\n",
       "      <td>949</td>\n",
       "    </tr>\n",
       "  </tbody>\n",
       "</table>\n",
       "<p>5 rows × 693 columns</p>\n",
       "</div>"
      ],
      "text/plain": [
       "   M00001  M00002  M00003  M00004  M00005  M00006  M00007  M00008  M00009  \\\n",
       "0    3158    1516    2044    1510     218     304     908     360    1943   \n",
       "1    2630    1457    1898    1344     190     345     768     433    2098   \n",
       "2    2727    1477    1850    1395     216     385     773     437    2112   \n",
       "3    2718    1498    1886    1349     233     399     709     512    1933   \n",
       "4    2879    1562    1964    1435     212     421     748     454    2137   \n",
       "\n",
       "   M00010  ...  M00836  M00837  M00838  M00839  M00840  M00841  M00842  \\\n",
       "0     753  ...       2       7       3     101     437     646     151   \n",
       "1     638  ...       4       1       0      50     515     738     152   \n",
       "2     694  ...       1       0       2      85     524     725     158   \n",
       "3     749  ...       0       0       0      62     470     674     146   \n",
       "4     690  ...       0       3      12      80     460     704     115   \n",
       "\n",
       "   M00843  M00844  M00845  \n",
       "0     154     570     821  \n",
       "1     128     547     889  \n",
       "2     147     531     921  \n",
       "3     142     515     778  \n",
       "4     114     643     949  \n",
       "\n",
       "[5 rows x 693 columns]"
      ]
     },
     "execution_count": 24,
     "metadata": {},
     "output_type": "execute_result"
    }
   ],
   "source": [
    "X.head()"
   ]
  },
  {
   "cell_type": "code",
   "execution_count": 25,
   "metadata": {},
   "outputs": [],
   "source": [
    "from sklearn.model_selection import cross_val_score\n",
    "from sklearn.model_selection import KFold\n",
    "from sklearn.model_selection import cross_validate\n",
    "import random\n",
    "import math\n",
    "seed = 42\n",
    "X, y = my_data.drop(columns=['ID','Dist_V1V2']), my_data.Dist_V1V2\n",
    "kf = KFold(n_splits=5)"
   ]
  },
  {
   "cell_type": "code",
   "execution_count": 26,
   "metadata": {},
   "outputs": [
    {
     "name": "stdout",
     "output_type": "stream",
     "text": [
      "Avg kfold neg MSE: -0.07913757264111806\n"
     ]
    }
   ],
   "source": [
    "# Max_depth = 5, max_features = \"log2\"\n",
    "RF_1 = RandomForestRegressor(random_state=seed, max_depth=5, n_estimators= 1100, \n",
    "                            oob_score=True, max_features = \"log2\")\n",
    "result_negMSE_1 = cross_val_score(RF_1, X, y, cv = kf, scoring=\"neg_mean_absolute_error\")\n",
    "print(\"Avg kfold neg MSE: {}\".format(result_negMSE_1.mean())) #Print average negMSE"
   ]
  },
  {
   "cell_type": "code",
   "execution_count": 27,
   "metadata": {},
   "outputs": [
    {
     "name": "stdout",
     "output_type": "stream",
     "text": [
      "Avg kfold R2 Score: -0.944\n"
     ]
    }
   ],
   "source": [
    "# R-squared (R2) score for the regression\n",
    "result_r2 = cross_val_score(RF_1, X, y, cv=kf, scoring=\"r2\")\n",
    "avg_r2 = round(result_r2.mean(), 3)\n",
    "print(\"Avg kfold R2 Score: {}\".format(avg_r2))"
   ]
  },
  {
   "cell_type": "code",
   "execution_count": 28,
   "metadata": {},
   "outputs": [
    {
     "name": "stdout",
     "output_type": "stream",
     "text": [
      "Feature: M00716, Mean Spearman's rho ± std on Training Data: -0.70 ± 0.11 (-0.81, -0.59)\n",
      "Feature: M00227, Mean Spearman's rho ± std on Training Data: -0.75 ± 0.08 (-0.82, -0.67)\n",
      "Feature: M00700, Mean Spearman's rho ± std on Training Data: -0.59 ± 0.10 (-0.68, -0.49)\n",
      "Feature: M00342, Mean Spearman's rho ± std on Training Data: -0.68 ± 0.08 (-0.76, -0.60)\n",
      "Feature: M00645, Mean Spearman's rho ± std on Training Data: -0.54 ± 0.17 (-0.71, -0.37)\n",
      "Feature: M00280, Mean Spearman's rho ± std on Training Data: -0.76 ± 0.08 (-0.84, -0.68)\n",
      "Feature: M00219, Mean Spearman's rho ± std on Training Data: 0.54 ± 0.06 (0.48, 0.60)\n",
      "Feature: M00373, Mean Spearman's rho ± std on Training Data: 0.69 ± 0.07 (0.61, 0.76)\n",
      "Feature: M00425, Mean Spearman's rho ± std on Training Data: -0.57 ± 0.16 (-0.73, -0.41)\n",
      "Feature: M00841, Mean Spearman's rho ± std on Training Data: -0.68 ± 0.05 (-0.73, -0.64)\n"
     ]
    }
   ],
   "source": [
    "# Get the Spearman's rho for the training data in each cross-validation fold\n",
    "# Correlating V1-V2 distance and feature baseline abundance\n",
    "from sklearn.model_selection import KFold\n",
    "from scipy.stats import spearmanr\n",
    "import numpy as np\n",
    "\n",
    "seed = 42\n",
    "X, y = my_data.drop(columns=['ID','Dist_V1V2']), my_data.Dist_V1V2\n",
    "kf = KFold(n_splits=5, random_state=seed, shuffle=True)\n",
    "\n",
    "# Specify the top 10 features \n",
    "selected_features = ['M00716', 'M00227', 'M00700',\n",
    "                    'M00342', 'M00645', 'M00280',\n",
    "                    'M00219', 'M00373', 'M00425', 'M00841']\n",
    "\n",
    "# Initialize lists to store Spearman's rho values for selected features\n",
    "# Initializes a dictionary where each feature in selected_features is a key, and the corresponding value is an empty list \n",
    "spearman_rho_per_feature = {feature: [] for feature in selected_features}\n",
    "\n",
    "for train_index, test_index in kf.split(X):\n",
    "    X_train, X_test = X.iloc[train_index], X.iloc[test_index]\n",
    "    y_train, y_test = y.iloc[train_index], y.iloc[test_index]\n",
    "\n",
    "    for feature in selected_features:\n",
    "        rho, _ = spearmanr(X_train[feature], y_train)\n",
    "        spearman_rho_per_feature[feature].append(rho)\n",
    "\n",
    "# Print mean, std, and range for each selected feature\n",
    "for feature in selected_features:\n",
    "    mean_rho = np.mean(spearman_rho_per_feature[feature])\n",
    "    std_rho = np.std(spearman_rho_per_feature[feature])\n",
    "    range_str = \"({:.2f}, {:.2f})\".format(mean_rho - std_rho, mean_rho + std_rho)\n",
    "    print(\"Feature: {}, Mean Spearman's rho ± std on Training Data: {:.2f} ± {:.2f} {}\".format(feature, mean_rho, std_rho, range_str))"
   ]
  },
  {
   "cell_type": "markdown",
   "metadata": {},
   "source": [
    "### Correlate real Dist_V1V2 and preidicted Dist_V1V2 to check model performance"
   ]
  },
  {
   "cell_type": "code",
   "execution_count": 13,
   "metadata": {},
   "outputs": [],
   "source": [
    "from sklearn.model_selection import cross_val_predict\n",
    "from scipy.stats import spearmanr\n",
    "#from scipy.stats import pearsonr"
   ]
  },
  {
   "cell_type": "code",
   "execution_count": 14,
   "metadata": {},
   "outputs": [],
   "source": [
    "# Get cross-validated predictions for each data point\n",
    "y_pred = cross_val_predict(RF_1, X, y, cv=kf)"
   ]
  },
  {
   "cell_type": "code",
   "execution_count": 15,
   "metadata": {},
   "outputs": [],
   "source": [
    "#y_pred"
   ]
  },
  {
   "cell_type": "code",
   "execution_count": 16,
   "metadata": {},
   "outputs": [],
   "source": [
    "#y"
   ]
  },
  {
   "cell_type": "code",
   "execution_count": 17,
   "metadata": {},
   "outputs": [],
   "source": [
    "# Calculate the Spearman correlation coefficient for the actual vs. predicted across all individuals\n",
    "correlation, p_value = spearmanr(y, y_pred)"
   ]
  },
  {
   "cell_type": "code",
   "execution_count": 18,
   "metadata": {},
   "outputs": [
    {
     "name": "stdout",
     "output_type": "stream",
     "text": [
      "Spearman correlation coefficient for all individuals: 0.622\n",
      "P-value for the Spearman correlation: 0.006\n"
     ]
    }
   ],
   "source": [
    "print(f\"Spearman correlation coefficient for all individuals: {correlation:.3f}\")\n",
    "print(f\"P-value for the Spearman correlation: {p_value:.3f}\")"
   ]
  },
  {
   "cell_type": "code",
   "execution_count": 19,
   "metadata": {},
   "outputs": [
    {
     "data": {
      "text/plain": [
       "Text(0.0624410385419942, 0.29459009667294783, 'Spearman correlation: 0.62')"
      ]
     },
     "execution_count": 19,
     "metadata": {},
     "output_type": "execute_result"
    },
    {
     "data": {
      "image/png": "[encoded data removed]",
      "text/plain": [
       "<Figure size 720x576 with 1 Axes>"
      ]
     },
     "metadata": {
      "needs_background": "light"
     },
     "output_type": "display_data"
    }
   ],
   "source": [
    "plt.figure(figsize=(10, 8))  # Set the size of the plot\n",
    "plt.scatter(y, y_pred, alpha=0.5)  # Plot y vs. y_pred\n",
    "\n",
    "plt.title('Actual vs. Predicted Values')\n",
    "plt.xlabel('Actual Values')\n",
    "plt.ylabel('Predicted Values')\n",
    "\n",
    "# Optionally, you can annotate the Spearman correlation on the plot\n",
    "corr, _ = spearmanr(y, y_pred)\n",
    "plt.text(min(y), max(y_pred), f'Spearman correlation: {corr:.2f}', fontsize=12)\n"
   ]
  },
  {
   "cell_type": "markdown",
   "metadata": {},
   "source": [
    "**The random forest negMSE = -0.07913757264111806**"
   ]
  },
  {
   "cell_type": "markdown",
   "metadata": {},
   "source": [
    "## Step 4: Permutation\n",
    "**First shuffle Dist_V1V2 against other columns, and then do random forest. Repeat this 1000 times**"
   ]
  },
  {
   "cell_type": "code",
   "execution_count": 13,
   "metadata": {},
   "outputs": [],
   "source": [
    "# Permutation\n",
    "from collections import OrderedDict\n",
    "\n",
    "seed=42\n",
    "kf = KFold(n_splits=5)\n",
    "# Max_depth = 5, max_features = \"sqrt\", n_estimators=600, the same setting as the one above\n",
    "RF_shuffle = RandomForestRegressor(random_state=seed, max_depth=5, n_estimators= 1100, \n",
    "                            oob_score=False, max_features = \"log2\")\n",
    "\n",
    "permu_times = 1000\n",
    "\n",
    "#Create an empty array first\n",
    "#https://stackoverflow.com/questions/568962/how-do-i-create-an-empty-array-matrix-in-numpy\n",
    "permutation_negMSE=a = np.empty(shape=(permu_times,1))\n",
    "\n",
    "for i in range(1, permu_times + 1):\n",
    "        #First copy my_data using pandas.DataFrame.copy (the correct way to do this!)\n",
    "        #https://moonbooks.org/Articles/How-to-copy-a-dataframe-with-pandas-in-python-/\n",
    "        shuffled_data = my_data.copy()\n",
    "\n",
    "        #Then shuffle data\n",
    "        shuffled_data['Dist_V1V2'] = shuffled_data['Dist_V1V2'].sample(frac=1, random_state=i).reset_index(drop=True)\n",
    "        \n",
    "        #Then run random forest\n",
    "        X_shuffle, y_shuffle = shuffled_data.drop(columns=['ID','Dist_V1V2']), shuffled_data.Dist_V1V2\n",
    "        result_negMSE_shuffle = cross_val_score(RF_shuffle, X_shuffle, y_shuffle, cv = kf, scoring=\"neg_mean_absolute_error\")\n",
    "        \n",
    "        # Record the neg MSE for each permutation\n",
    "        negMSE=result_negMSE_shuffle.mean() #Print average negMSE\n",
    "        permutation_negMSE[i-1]=negMSE"
   ]
  },
  {
   "cell_type": "code",
   "execution_count": 14,
   "metadata": {},
   "outputs": [
    {
     "data": {
      "text/plain": [
       "1000"
      ]
     },
     "execution_count": 14,
     "metadata": {},
     "output_type": "execute_result"
    }
   ],
   "source": [
    "len(permutation_negMSE)"
   ]
  },
  {
   "cell_type": "code",
   "execution_count": 15,
   "metadata": {},
   "outputs": [
    {
     "data": {
      "text/plain": [
       "Text(0.5, 1.0, 'Permutation negative MSE histogram')"
      ]
     },
     "execution_count": 15,
     "metadata": {},
     "output_type": "execute_result"
    },
    {
     "data": {
      "image/png": "[encoded data removed]",
      "text/plain": [
       "<Figure size 432x288 with 1 Axes>"
      ]
     },
     "metadata": {
      "needs_background": "light"
     },
     "output_type": "display_data"
    }
   ],
   "source": [
    "# Plot a histogram\n",
    "binwidth=0.005\n",
    "plt.hist(permutation_negMSE, bins=np.arange(min(permutation_negMSE), max(permutation_negMSE) \n",
    "                                            + binwidth, binwidth))\n",
    "plt.title(\"Permutation negative MSE histogram\") "
   ]
  },
  {
   "cell_type": "code",
   "execution_count": 16,
   "metadata": {},
   "outputs": [
    {
     "data": {
      "image/png": "[encoded data removed]",
      "text/plain": [
       "<Figure size 432x288 with 1 Axes>"
      ]
     },
     "metadata": {
      "needs_background": "light"
     },
     "output_type": "display_data"
    }
   ],
   "source": [
    "# Calculate area under histogram to get (some sort of) p value\n",
    "values, bins, _ = plt.hist(permutation_negMSE)\n",
    "plt.title(\"Permutation negative MSE histogram\") \n",
    "area = sum(np.diff(bins)*values)"
   ]
  },
  {
   "cell_type": "code",
   "execution_count": 17,
   "metadata": {},
   "outputs": [
    {
     "data": {
      "text/plain": [
       "-0.08597614918355558"
      ]
     },
     "execution_count": 17,
     "metadata": {},
     "output_type": "execute_result"
    }
   ],
   "source": [
    "# What is the p = 0.05 threshold?\n",
    "np.percentile(permutation_negMSE, 95)"
   ]
  },
  {
   "cell_type": "markdown",
   "metadata": {},
   "source": [
    "## Step 5: Random Forest (using leave-one-out cross-validation)"
   ]
  },
  {
   "cell_type": "code",
   "execution_count": 29,
   "metadata": {},
   "outputs": [],
   "source": [
    "from sklearn.model_selection import LeaveOneOut\n",
    "from sklearn.ensemble import RandomForestRegressor\n",
    "from sklearn.metrics import mean_absolute_error\n",
    "import numpy as np\n",
    "\n",
    "seed = 42\n",
    "X, y = my_data.drop(columns=['ID','Dist_V1V2']), my_data.Dist_V1V2\n",
    "\n",
    "# Initialize LeaveOneOut object\n",
    "loo = LeaveOneOut()\n",
    "\n",
    "# Initialize an array of zeros to hold feature importances\n",
    "# X.shape[1]: This is the number of columns (features)\n",
    "# loo.get_n_splits(X): This is the number of splits in LOOCV\n",
    "individual_feature_importances = np.zeros((X.shape[1], loo.get_n_splits(X)))\n",
    "\n",
    "# Initialize an empty list to hold the negative MAE scores\n",
    "neg_mae_scores_loo = []\n",
    "\n",
    "# Initialize an array to store all LOOCV predictions (for correlation of y and y_pred later)\n",
    "y_preds_array = np.zeros(len(y))\n",
    "\n",
    "# Loop over the LOOCV folds\n",
    "for fold, (train_index, test_index) in enumerate(loo.split(X)):\n",
    "    # Split data\n",
    "    X_train, X_test = X.iloc[train_index], X.iloc[test_index]\n",
    "    y_train, y_test = y.iloc[train_index], y.iloc[test_index]\n",
    "    \n",
    "    # Initialize the model with the same hyperparameters\n",
    "    RF = RandomForestRegressor(random_state=seed, max_depth=5, n_estimators=1100,\n",
    "                               oob_score=True, max_features=\"log2\")\n",
    "    # Fit the model\n",
    "    RF.fit(X_train, y_train)\n",
    "    \n",
    "    # Predict on the test set\n",
    "    y_pred = RF.predict(X_test)\n",
    "    y_preds_array[test_index] = y_pred\n",
    "    \n",
    "    # Calculate the MAE for the current fold and append it to the list\n",
    "    mae = mean_absolute_error(y_test, y_pred)\n",
    "    neg_mae_scores_loo.append(-mae)  # We negate the MAE to follow your requirement\n",
    "    \n",
    "    # Accumulate feature importances for this fold\n",
    "    individual_feature_importances[:, fold] = RF.feature_importances_\n",
    "\n",
    "# Calculate median of feature importances\n",
    "median_importances = np.median(individual_feature_importances, axis=1)\n",
    "\n",
    "# Sort the mean feature importances in descending order and get the indices\n",
    "sorted_median_idx = np.argsort(median_importances)[::-1]\n",
    "\n",
    "# Get the names of the top 10 features based on mean importance\n",
    "top_10_median_feature_names = X.columns[sorted_median_idx][:10]\n",
    "\n",
    "# Get the mean importance scores of the top 10 features\n",
    "top_10_median_importances = median_importances[sorted_median_idx][:10]\n",
    "\n",
    "# After collecting all predictions, calculate the Spearman correlation\n",
    "correlation, p_value = spearmanr(y, y_preds_array)"
   ]
  },
  {
   "cell_type": "code",
   "execution_count": 31,
   "metadata": {},
   "outputs": [
    {
     "name": "stdout",
     "output_type": "stream",
     "text": [
      "Average negative MAE:  -0.08365408848472956\n"
     ]
    }
   ],
   "source": [
    "# Print out the negative MAE scores for each fold\n",
    "#print(\"Negative MAE scores for each fold: \", neg_mae_scores_loo)\n",
    "\n",
    "# The average negative MAE score across all folds\n",
    "print(\"Average negative MAE: \", np.mean(neg_mae_scores_loo))"
   ]
  },
  {
   "cell_type": "code",
   "execution_count": 30,
   "metadata": {},
   "outputs": [
    {
     "data": {
      "text/plain": [
       "(693, 18)"
      ]
     },
     "execution_count": 30,
     "metadata": {},
     "output_type": "execute_result"
    }
   ],
   "source": [
    "individual_feature_importances.shape"
   ]
  },
  {
   "cell_type": "code",
   "execution_count": 32,
   "metadata": {},
   "outputs": [
    {
     "name": "stdout",
     "output_type": "stream",
     "text": [
      "M00716: 0.010678126118488422\n",
      "M00227: 0.010549962599505653\n",
      "M00342: 0.010149469400652849\n",
      "M00219: 0.009530852265232993\n",
      "M00373: 0.009368813703000106\n",
      "M00645: 0.009358396307775341\n",
      "M00280: 0.008589288647437946\n",
      "M00700: 0.008422014370813592\n",
      "M00715: 0.007116983499098221\n",
      "M00741: 0.0069083003889553445\n"
     ]
    }
   ],
   "source": [
    "# Print the top 10 features and their importances\n",
    "# Use zip because top_10_feature_names and top_10_importances are two iterables that we want to loop over simultaneously.\n",
    "for name, importance in zip(top_10_median_feature_names, top_10_median_importances):\n",
    "    print(f\"{name}: {importance}\")"
   ]
  },
  {
   "cell_type": "code",
   "execution_count": 33,
   "metadata": {},
   "outputs": [
    {
     "name": "stdout",
     "output_type": "stream",
     "text": [
      "Spearman correlation: 0.538\n",
      "P-value: 0.021\n"
     ]
    }
   ],
   "source": [
    "#Print the correlation rho and p-value\n",
    "print(f\"Spearman correlation: {correlation:.3f}\")\n",
    "print(f\"P-value: {p_value:.3f}\")\n"
   ]
  },
  {
   "cell_type": "markdown",
   "metadata": {},
   "source": [
    "## Step 4: Permutation for LOOCV\n",
    "**First shuffle Dist_V1V2 against other columns, and then do random forest. Repeat this 1000 times**"
   ]
  },
  {
   "cell_type": "code",
   "execution_count": null,
   "metadata": {},
   "outputs": [
    {
     "name": "stdout",
     "output_type": "stream",
     "text": [
      "Current iteration: 0\n",
      "Current iteration: 50\n",
      "Current iteration: 100\n",
      "Current iteration: 150\n",
      "Current iteration: 200\n",
      "Current iteration: 250\n",
      "Current iteration: 300\n",
      "Current iteration: 350\n",
      "Current iteration: 400\n",
      "Current iteration: 450\n",
      "Current iteration: 500\n",
      "Current iteration: 550\n"
     ]
    }
   ],
   "source": [
    "# Define the number of permutations\n",
    "permu_times = 1000\n",
    "\n",
    "# Create an empty array to store the neg MAE for each permutation\n",
    "permutation_negMAE_loo = np.empty(permu_times)\n",
    "\n",
    "# Initialize LOO cross-validation\n",
    "loo = LeaveOneOut()\n",
    "\n",
    "# Initialize the random forest with the specified settings\n",
    "RF_shuffle_loo = RandomForestRegressor(random_state=seed, max_depth=5, n_estimators=100,\n",
    "                                       oob_score=False, max_features=\"log2\")\n",
    "\n",
    "# Run the permutation test with LOO CV\n",
    "for i in range(permu_times):\n",
    "    \n",
    "    # Print the value of i at every 50th iteration so that I know the progress\n",
    "    # % is modulo calculation\n",
    "    if i % 50 == 0:\n",
    "        print(f\"Current iteration: {i}\")\n",
    "    \n",
    "    # Shuffle the 'Dist_V1V2' column\n",
    "    shuffled_target = my_data['Dist_V1V2'].sample(frac=1, random_state=i).reset_index(drop=True)\n",
    "    \n",
    "    # Prepare the data for cross-validation\n",
    "    X, y_shuffled = my_data.drop(columns=['ID','Dist_V1V2']), shuffled_target\n",
    "    \n",
    "    # Variable to accumulate the mean absolute error\n",
    "    mae_sum = 0\n",
    "    \n",
    "    # Perform LOO cross-validation\n",
    "    for train_index, test_index in loo.split(X):\n",
    "        # Split the data into train and test for the current fold\n",
    "        X_train, X_test = X.iloc[train_index], X.iloc[test_index]\n",
    "        y_train, y_test = y_shuffled.iloc[train_index], y_shuffled.iloc[test_index]\n",
    "        \n",
    "        # Fit the model\n",
    "        RF_shuffle_loo.fit(X_train, y_train)\n",
    "        \n",
    "        # Make predictions\n",
    "        y_pred = RF_shuffle_loo.predict(X_test)\n",
    "        \n",
    "        # Calculate the MAE for the current fold and accumulate it\n",
    "        mae_sum += mean_absolute_error(y_test, y_pred)\n",
    "    \n",
    "    # Calculate the average MAE over all folds and store the negative value\n",
    "    permutation_negMAE_loo[i] = -mae_sum / loo.get_n_splits(X)"
   ]
  },
  {
   "cell_type": "code",
   "execution_count": null,
   "metadata": {},
   "outputs": [],
   "source": [
    "len(permutation_negMAE_loo)"
   ]
  },
  {
   "cell_type": "code",
   "execution_count": null,
   "metadata": {},
   "outputs": [],
   "source": [
    "# Calculate area under histogram to get (some sort of) p value\n",
    "values, bins, _ = plt.hist(permutation_negMAE_loo)\n",
    "plt.title(\"Permutation negative MSE histogram\") \n",
    "area = sum(np.diff(bins)*values)"
   ]
  },
  {
   "cell_type": "code",
   "execution_count": null,
   "metadata": {},
   "outputs": [],
   "source": [
    "# What is the p = 0.05 threshold?\n",
    "np.percentile(permutation_negMAE_loo, 95)"
   ]
  },
  {
   "cell_type": "markdown",
   "metadata": {},
   "source": [
    "#### See if the RF (LOOCV) is significant"
   ]
  },
  {
   "cell_type": "code",
   "execution_count": null,
   "metadata": {},
   "outputs": [],
   "source": [
    "# Calculate the mean of the negative MAE scores from the actual LOOCV\n",
    "actual_neg_mae_mean = np.mean(neg_mae_scores_loo)\n",
    "\n",
    "# Calculate the 95th percentile of the negative MAE scores from the permutation test\n",
    "percentile_95_loo = np.percentile(permutation_negMAE_loo, 95)\n",
    "\n",
    "# Compare and print the result\n",
    "if actual_neg_mae_mean > percentile_95_loo: #sig\n",
    "    print(f\"Actual neg MAE ({actual_neg_mae_mean}) is larger than 95% of the neg MAE from permutation ({percentile_95_loo})\")\n",
    "    print(\"\\033[1mRF is significant\\033[0m\") #bold text\n",
    "else: #Nonsig\n",
    "    print(f\"Actual neg MAE ({actual_neg_mae_mean}) is smaller than 95% of the neg MAE from permutation ({percentile_95_loo})\")\n",
    "    print(\"\\033[1mRF is nonsignificant\\033[0m\") #bold text"
   ]
  },
  {
   "cell_type": "code",
   "execution_count": null,
   "metadata": {},
   "outputs": [],
   "source": [
    "# Calculate the percentage of permutation_negMAE_loo that is less than or equal to actual_neg_mae_mean\n",
    "percentage_loo = np.mean(permutation_negMAE_loo <= actual_neg_mae_mean) * 100\n",
    "p_value_loo = round(1 - percentage_loo/100, 3)\n",
    "print(f\"The actual_neg_mae_mean is in the {p_value_loo}% percentile of the permutation distribution, so the p value is {p_value_loo}\")\n"
   ]
  },
  {
   "cell_type": "code",
   "execution_count": null,
   "metadata": {},
   "outputs": [],
   "source": []
  },
  {
   "cell_type": "code",
   "execution_count": null,
   "metadata": {},
   "outputs": [],
   "source": []
  }
 ],
 "metadata": {
  "kernelspec": {
   "display_name": "Python 3",
   "language": "python",
   "name": "python3"
  },
  "language_info": {
   "codemirror_mode": {
    "name": "ipython",
    "version": 3
   },
   "file_extension": ".py",
   "mimetype": "text/x-python",
   "name": "python",
   "nbconvert_exporter": "python",
   "pygments_lexer": "ipython3",
   "version": "3.7.3"
  }
 },
 "nbformat": 4,
 "nbformat_minor": 5
}
