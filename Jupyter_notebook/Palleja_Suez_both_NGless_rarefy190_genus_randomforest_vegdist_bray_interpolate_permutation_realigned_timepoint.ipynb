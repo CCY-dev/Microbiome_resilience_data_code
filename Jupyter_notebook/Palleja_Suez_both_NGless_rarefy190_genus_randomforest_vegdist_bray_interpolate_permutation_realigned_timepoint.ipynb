{
 "cells": [
  {
   "cell_type": "markdown",
   "metadata": {},
   "source": [
    "# Permutation + a full part of LOOCV\n",
    "# Palleja & Suez genus baseline random forest permutation, using interpolated data!!!\n",
    "## Using vegdist (Bray-Curtis). Both studies from NGless result and rarefied to 190!\n",
    "## LHS is distance * day, not distance!!\n",
    "## Time points are realgined between Suez and Palleja!!"
   ]
  },
  {
   "cell_type": "markdown",
   "metadata": {},
   "source": [
    "## 1. Exploratory Data Analysis"
   ]
  },
  {
   "cell_type": "code",
   "execution_count": 1,
   "metadata": {},
   "outputs": [
    {
     "name": "stderr",
     "output_type": "stream",
     "text": [
      "/Users/Jessica/anaconda3/lib/python3.7/site-packages/statsmodels/tools/_testing.py:19: FutureWarning: pandas.util.testing is deprecated. Use the functions in the public API at pandas.testing instead.\n",
      "  import pandas.util.testing as tm\n"
     ]
    }
   ],
   "source": [
    "import pandas as pd\n",
    "import numpy as np\n",
    "import matplotlib.pyplot as plt\n",
    "import seaborn as sns"
   ]
  },
  {
   "cell_type": "code",
   "execution_count": 2,
   "metadata": {},
   "outputs": [],
   "source": [
    "species = pd.read_csv(\"/Users/Jessica/Documents/Lab/Multiple_longitudinal/Microbe_resilience/Interpolate_missing_timepoint/Palleja_Suez_both_ngless_rarefy190_genus_baseline_vegdist_bray_interpolated_realigned_timepoint_forML.txt\",\n",
    "                   delimiter = \"\\t\")"
   ]
  },
  {
   "cell_type": "code",
   "execution_count": 3,
   "metadata": {},
   "outputs": [
    {
     "data": {
      "text/html": [
       "<div>\n",
       "<style scoped>\n",
       "    .dataframe tbody tr th:only-of-type {\n",
       "        vertical-align: middle;\n",
       "    }\n",
       "\n",
       "    .dataframe tbody tr th {\n",
       "        vertical-align: top;\n",
       "    }\n",
       "\n",
       "    .dataframe thead th {\n",
       "        text-align: right;\n",
       "    }\n",
       "</style>\n",
       "<table border=\"1\" class=\"dataframe\">\n",
       "  <thead>\n",
       "    <tr style=\"text-align: right;\">\n",
       "      <th></th>\n",
       "      <th>Sample_id</th>\n",
       "      <th>recovered_realigned_day</th>\n",
       "      <th>lowest_dist</th>\n",
       "      <th>DistxDay</th>\n",
       "      <th>Timepoint_realign</th>\n",
       "      <th>Study</th>\n",
       "      <th>Perturbance_scale</th>\n",
       "      <th>Shannon</th>\n",
       "      <th>Akkermansia</th>\n",
       "      <th>Alistipes</th>\n",
       "      <th>...</th>\n",
       "      <th>Phascolarctobacterium</th>\n",
       "      <th>Prevotella</th>\n",
       "      <th>Romboutsia</th>\n",
       "      <th>Roseburia</th>\n",
       "      <th>Ruminococcaceae.gen..incertae.sedis</th>\n",
       "      <th>Ruminococcus</th>\n",
       "      <th>Streptococcus</th>\n",
       "      <th>Succinivibrio</th>\n",
       "      <th>Sutterella</th>\n",
       "      <th>Veillonella</th>\n",
       "    </tr>\n",
       "  </thead>\n",
       "  <tbody>\n",
       "    <tr>\n",
       "      <th>0</th>\n",
       "      <td>801</td>\n",
       "      <td>55</td>\n",
       "      <td>0.277457</td>\n",
       "      <td>15.260116</td>\n",
       "      <td>Baseline</td>\n",
       "      <td>Suez</td>\n",
       "      <td>0.528736</td>\n",
       "      <td>2.400087</td>\n",
       "      <td>0</td>\n",
       "      <td>1</td>\n",
       "      <td>...</td>\n",
       "      <td>0</td>\n",
       "      <td>12</td>\n",
       "      <td>0</td>\n",
       "      <td>3</td>\n",
       "      <td>1</td>\n",
       "      <td>6</td>\n",
       "      <td>0</td>\n",
       "      <td>14</td>\n",
       "      <td>0</td>\n",
       "      <td>0</td>\n",
       "    </tr>\n",
       "    <tr>\n",
       "      <th>1</th>\n",
       "      <td>802</td>\n",
       "      <td>54</td>\n",
       "      <td>0.280702</td>\n",
       "      <td>15.157895</td>\n",
       "      <td>Baseline</td>\n",
       "      <td>Suez</td>\n",
       "      <td>0.532033</td>\n",
       "      <td>2.504997</td>\n",
       "      <td>0</td>\n",
       "      <td>1</td>\n",
       "      <td>...</td>\n",
       "      <td>4</td>\n",
       "      <td>54</td>\n",
       "      <td>0</td>\n",
       "      <td>4</td>\n",
       "      <td>2</td>\n",
       "      <td>9</td>\n",
       "      <td>1</td>\n",
       "      <td>0</td>\n",
       "      <td>0</td>\n",
       "      <td>0</td>\n",
       "    </tr>\n",
       "    <tr>\n",
       "      <th>2</th>\n",
       "      <td>803</td>\n",
       "      <td>34</td>\n",
       "      <td>0.274286</td>\n",
       "      <td>9.325714</td>\n",
       "      <td>Baseline</td>\n",
       "      <td>Suez</td>\n",
       "      <td>0.355556</td>\n",
       "      <td>2.768342</td>\n",
       "      <td>0</td>\n",
       "      <td>0</td>\n",
       "      <td>...</td>\n",
       "      <td>0</td>\n",
       "      <td>45</td>\n",
       "      <td>0</td>\n",
       "      <td>6</td>\n",
       "      <td>2</td>\n",
       "      <td>8</td>\n",
       "      <td>1</td>\n",
       "      <td>5</td>\n",
       "      <td>1</td>\n",
       "      <td>0</td>\n",
       "    </tr>\n",
       "    <tr>\n",
       "      <th>3</th>\n",
       "      <td>804</td>\n",
       "      <td>40</td>\n",
       "      <td>0.239437</td>\n",
       "      <td>9.577465</td>\n",
       "      <td>Baseline</td>\n",
       "      <td>Suez</td>\n",
       "      <td>0.329577</td>\n",
       "      <td>2.719110</td>\n",
       "      <td>0</td>\n",
       "      <td>0</td>\n",
       "      <td>...</td>\n",
       "      <td>0</td>\n",
       "      <td>57</td>\n",
       "      <td>1</td>\n",
       "      <td>7</td>\n",
       "      <td>0</td>\n",
       "      <td>12</td>\n",
       "      <td>0</td>\n",
       "      <td>2</td>\n",
       "      <td>1</td>\n",
       "      <td>0</td>\n",
       "    </tr>\n",
       "    <tr>\n",
       "      <th>4</th>\n",
       "      <td>805</td>\n",
       "      <td>48</td>\n",
       "      <td>0.502959</td>\n",
       "      <td>24.142012</td>\n",
       "      <td>Baseline</td>\n",
       "      <td>Suez</td>\n",
       "      <td>0.794020</td>\n",
       "      <td>2.904650</td>\n",
       "      <td>0</td>\n",
       "      <td>0</td>\n",
       "      <td>...</td>\n",
       "      <td>0</td>\n",
       "      <td>26</td>\n",
       "      <td>0</td>\n",
       "      <td>1</td>\n",
       "      <td>6</td>\n",
       "      <td>6</td>\n",
       "      <td>0</td>\n",
       "      <td>3</td>\n",
       "      <td>0</td>\n",
       "      <td>0</td>\n",
       "    </tr>\n",
       "  </tbody>\n",
       "</table>\n",
       "<p>5 rows × 66 columns</p>\n",
       "</div>"
      ],
      "text/plain": [
       "  Sample_id  recovered_realigned_day  lowest_dist   DistxDay  \\\n",
       "0       801                       55     0.277457  15.260116   \n",
       "1       802                       54     0.280702  15.157895   \n",
       "2       803                       34     0.274286   9.325714   \n",
       "3       804                       40     0.239437   9.577465   \n",
       "4       805                       48     0.502959  24.142012   \n",
       "\n",
       "  Timepoint_realign Study  Perturbance_scale   Shannon  Akkermansia  \\\n",
       "0          Baseline  Suez           0.528736  2.400087            0   \n",
       "1          Baseline  Suez           0.532033  2.504997            0   \n",
       "2          Baseline  Suez           0.355556  2.768342            0   \n",
       "3          Baseline  Suez           0.329577  2.719110            0   \n",
       "4          Baseline  Suez           0.794020  2.904650            0   \n",
       "\n",
       "   Alistipes  ...  Phascolarctobacterium  Prevotella  Romboutsia  Roseburia  \\\n",
       "0          1  ...                      0          12           0          3   \n",
       "1          1  ...                      4          54           0          4   \n",
       "2          0  ...                      0          45           0          6   \n",
       "3          0  ...                      0          57           1          7   \n",
       "4          0  ...                      0          26           0          1   \n",
       "\n",
       "   Ruminococcaceae.gen..incertae.sedis  Ruminococcus  Streptococcus  \\\n",
       "0                                    1             6              0   \n",
       "1                                    2             9              1   \n",
       "2                                    2             8              1   \n",
       "3                                    0            12              0   \n",
       "4                                    6             6              0   \n",
       "\n",
       "   Succinivibrio  Sutterella  Veillonella  \n",
       "0             14           0            0  \n",
       "1              0           0            0  \n",
       "2              5           1            0  \n",
       "3              2           1            0  \n",
       "4              3           0            0  \n",
       "\n",
       "[5 rows x 66 columns]"
      ]
     },
     "execution_count": 3,
     "metadata": {},
     "output_type": "execute_result"
    }
   ],
   "source": [
    "species.head()"
   ]
  },
  {
   "cell_type": "markdown",
   "metadata": {},
   "source": [
    "## 2. Set up evaluation environment. Use stratified 5-fold CV to determine the accuracy of the model"
   ]
  },
  {
   "cell_type": "code",
   "execution_count": 4,
   "metadata": {},
   "outputs": [],
   "source": [
    "my_data = species.drop(columns=['recovered_realigned_day', 'lowest_dist', 'Timepoint_realign', 'Study'])"
   ]
  },
  {
   "cell_type": "code",
   "execution_count": 5,
   "metadata": {},
   "outputs": [
    {
     "data": {
      "text/html": [
       "<div>\n",
       "<style scoped>\n",
       "    .dataframe tbody tr th:only-of-type {\n",
       "        vertical-align: middle;\n",
       "    }\n",
       "\n",
       "    .dataframe tbody tr th {\n",
       "        vertical-align: top;\n",
       "    }\n",
       "\n",
       "    .dataframe thead th {\n",
       "        text-align: right;\n",
       "    }\n",
       "</style>\n",
       "<table border=\"1\" class=\"dataframe\">\n",
       "  <thead>\n",
       "    <tr style=\"text-align: right;\">\n",
       "      <th></th>\n",
       "      <th>Sample_id</th>\n",
       "      <th>DistxDay</th>\n",
       "      <th>Perturbance_scale</th>\n",
       "      <th>Shannon</th>\n",
       "      <th>Akkermansia</th>\n",
       "      <th>Alistipes</th>\n",
       "      <th>Anaerostipes</th>\n",
       "      <th>Atopobiaceae.gen..incertae.sedis</th>\n",
       "      <th>Bacteria.gen..incertae.sedis</th>\n",
       "      <th>Bacteroidales.gen..incertae.sedis</th>\n",
       "      <th>...</th>\n",
       "      <th>Phascolarctobacterium</th>\n",
       "      <th>Prevotella</th>\n",
       "      <th>Romboutsia</th>\n",
       "      <th>Roseburia</th>\n",
       "      <th>Ruminococcaceae.gen..incertae.sedis</th>\n",
       "      <th>Ruminococcus</th>\n",
       "      <th>Streptococcus</th>\n",
       "      <th>Succinivibrio</th>\n",
       "      <th>Sutterella</th>\n",
       "      <th>Veillonella</th>\n",
       "    </tr>\n",
       "  </thead>\n",
       "  <tbody>\n",
       "    <tr>\n",
       "      <th>0</th>\n",
       "      <td>801</td>\n",
       "      <td>15.260116</td>\n",
       "      <td>0.528736</td>\n",
       "      <td>2.400087</td>\n",
       "      <td>0</td>\n",
       "      <td>1</td>\n",
       "      <td>0</td>\n",
       "      <td>0</td>\n",
       "      <td>0</td>\n",
       "      <td>1</td>\n",
       "      <td>...</td>\n",
       "      <td>0</td>\n",
       "      <td>12</td>\n",
       "      <td>0</td>\n",
       "      <td>3</td>\n",
       "      <td>1</td>\n",
       "      <td>6</td>\n",
       "      <td>0</td>\n",
       "      <td>14</td>\n",
       "      <td>0</td>\n",
       "      <td>0</td>\n",
       "    </tr>\n",
       "    <tr>\n",
       "      <th>1</th>\n",
       "      <td>802</td>\n",
       "      <td>15.157895</td>\n",
       "      <td>0.532033</td>\n",
       "      <td>2.504997</td>\n",
       "      <td>0</td>\n",
       "      <td>1</td>\n",
       "      <td>3</td>\n",
       "      <td>0</td>\n",
       "      <td>0</td>\n",
       "      <td>1</td>\n",
       "      <td>...</td>\n",
       "      <td>4</td>\n",
       "      <td>54</td>\n",
       "      <td>0</td>\n",
       "      <td>4</td>\n",
       "      <td>2</td>\n",
       "      <td>9</td>\n",
       "      <td>1</td>\n",
       "      <td>0</td>\n",
       "      <td>0</td>\n",
       "      <td>0</td>\n",
       "    </tr>\n",
       "    <tr>\n",
       "      <th>2</th>\n",
       "      <td>803</td>\n",
       "      <td>9.325714</td>\n",
       "      <td>0.355556</td>\n",
       "      <td>2.768342</td>\n",
       "      <td>0</td>\n",
       "      <td>0</td>\n",
       "      <td>0</td>\n",
       "      <td>1</td>\n",
       "      <td>0</td>\n",
       "      <td>0</td>\n",
       "      <td>...</td>\n",
       "      <td>0</td>\n",
       "      <td>45</td>\n",
       "      <td>0</td>\n",
       "      <td>6</td>\n",
       "      <td>2</td>\n",
       "      <td>8</td>\n",
       "      <td>1</td>\n",
       "      <td>5</td>\n",
       "      <td>1</td>\n",
       "      <td>0</td>\n",
       "    </tr>\n",
       "    <tr>\n",
       "      <th>3</th>\n",
       "      <td>804</td>\n",
       "      <td>9.577465</td>\n",
       "      <td>0.329577</td>\n",
       "      <td>2.719110</td>\n",
       "      <td>0</td>\n",
       "      <td>0</td>\n",
       "      <td>2</td>\n",
       "      <td>1</td>\n",
       "      <td>0</td>\n",
       "      <td>2</td>\n",
       "      <td>...</td>\n",
       "      <td>0</td>\n",
       "      <td>57</td>\n",
       "      <td>1</td>\n",
       "      <td>7</td>\n",
       "      <td>0</td>\n",
       "      <td>12</td>\n",
       "      <td>0</td>\n",
       "      <td>2</td>\n",
       "      <td>1</td>\n",
       "      <td>0</td>\n",
       "    </tr>\n",
       "    <tr>\n",
       "      <th>4</th>\n",
       "      <td>805</td>\n",
       "      <td>24.142012</td>\n",
       "      <td>0.794020</td>\n",
       "      <td>2.904650</td>\n",
       "      <td>0</td>\n",
       "      <td>0</td>\n",
       "      <td>2</td>\n",
       "      <td>1</td>\n",
       "      <td>5</td>\n",
       "      <td>2</td>\n",
       "      <td>...</td>\n",
       "      <td>0</td>\n",
       "      <td>26</td>\n",
       "      <td>0</td>\n",
       "      <td>1</td>\n",
       "      <td>6</td>\n",
       "      <td>6</td>\n",
       "      <td>0</td>\n",
       "      <td>3</td>\n",
       "      <td>0</td>\n",
       "      <td>0</td>\n",
       "    </tr>\n",
       "  </tbody>\n",
       "</table>\n",
       "<p>5 rows × 62 columns</p>\n",
       "</div>"
      ],
      "text/plain": [
       "  Sample_id   DistxDay  Perturbance_scale   Shannon  Akkermansia  Alistipes  \\\n",
       "0       801  15.260116           0.528736  2.400087            0          1   \n",
       "1       802  15.157895           0.532033  2.504997            0          1   \n",
       "2       803   9.325714           0.355556  2.768342            0          0   \n",
       "3       804   9.577465           0.329577  2.719110            0          0   \n",
       "4       805  24.142012           0.794020  2.904650            0          0   \n",
       "\n",
       "   Anaerostipes  Atopobiaceae.gen..incertae.sedis  \\\n",
       "0             0                                 0   \n",
       "1             3                                 0   \n",
       "2             0                                 1   \n",
       "3             2                                 1   \n",
       "4             2                                 1   \n",
       "\n",
       "   Bacteria.gen..incertae.sedis  Bacteroidales.gen..incertae.sedis  ...  \\\n",
       "0                             0                                  1  ...   \n",
       "1                             0                                  1  ...   \n",
       "2                             0                                  0  ...   \n",
       "3                             0                                  2  ...   \n",
       "4                             5                                  2  ...   \n",
       "\n",
       "   Phascolarctobacterium  Prevotella  Romboutsia  Roseburia  \\\n",
       "0                      0          12           0          3   \n",
       "1                      4          54           0          4   \n",
       "2                      0          45           0          6   \n",
       "3                      0          57           1          7   \n",
       "4                      0          26           0          1   \n",
       "\n",
       "   Ruminococcaceae.gen..incertae.sedis  Ruminococcus  Streptococcus  \\\n",
       "0                                    1             6              0   \n",
       "1                                    2             9              1   \n",
       "2                                    2             8              1   \n",
       "3                                    0            12              0   \n",
       "4                                    6             6              0   \n",
       "\n",
       "   Succinivibrio  Sutterella  Veillonella  \n",
       "0             14           0            0  \n",
       "1              0           0            0  \n",
       "2              5           1            0  \n",
       "3              2           1            0  \n",
       "4              3           0            0  \n",
       "\n",
       "[5 rows x 62 columns]"
      ]
     },
     "execution_count": 5,
     "metadata": {},
     "output_type": "execute_result"
    }
   ],
   "source": [
    "my_data.head()"
   ]
  },
  {
   "cell_type": "code",
   "execution_count": 6,
   "metadata": {},
   "outputs": [],
   "source": [
    "from sklearn.model_selection import StratifiedKFold\n",
    "skf = StratifiedKFold(n_splits=5)"
   ]
  },
  {
   "cell_type": "markdown",
   "metadata": {},
   "source": [
    "## Step 3: Try out Random Forest (within the 5 - Fold CV setup)"
   ]
  },
  {
   "cell_type": "code",
   "execution_count": 7,
   "metadata": {},
   "outputs": [],
   "source": [
    "from sklearn.model_selection import StratifiedKFold\n",
    "skf = StratifiedKFold(n_splits=5)"
   ]
  },
  {
   "cell_type": "code",
   "execution_count": 8,
   "metadata": {},
   "outputs": [],
   "source": [
    "from sklearn.model_selection import cross_val_predict\n",
    "from sklearn.metrics import accuracy_score\n",
    "from sklearn.metrics import roc_auc_score\n",
    "from sklearn.ensemble import RandomForestRegressor\n",
    "import matplotlib.pyplot as plt\n",
    "from collections import OrderedDict"
   ]
  },
  {
   "cell_type": "code",
   "execution_count": 9,
   "metadata": {},
   "outputs": [],
   "source": [
    "seed = 42"
   ]
  },
  {
   "cell_type": "code",
   "execution_count": 10,
   "metadata": {},
   "outputs": [],
   "source": [
    "X, y = my_data.drop(columns=['Sample_id', 'DistxDay']), my_data.DistxDay"
   ]
  },
  {
   "cell_type": "code",
   "execution_count": 11,
   "metadata": {},
   "outputs": [
    {
     "data": {
      "text/html": [
       "<div>\n",
       "<style scoped>\n",
       "    .dataframe tbody tr th:only-of-type {\n",
       "        vertical-align: middle;\n",
       "    }\n",
       "\n",
       "    .dataframe tbody tr th {\n",
       "        vertical-align: top;\n",
       "    }\n",
       "\n",
       "    .dataframe thead th {\n",
       "        text-align: right;\n",
       "    }\n",
       "</style>\n",
       "<table border=\"1\" class=\"dataframe\">\n",
       "  <thead>\n",
       "    <tr style=\"text-align: right;\">\n",
       "      <th></th>\n",
       "      <th>Perturbance_scale</th>\n",
       "      <th>Shannon</th>\n",
       "      <th>Akkermansia</th>\n",
       "      <th>Alistipes</th>\n",
       "      <th>Anaerostipes</th>\n",
       "      <th>Atopobiaceae.gen..incertae.sedis</th>\n",
       "      <th>Bacteria.gen..incertae.sedis</th>\n",
       "      <th>Bacteroidales.gen..incertae.sedis</th>\n",
       "      <th>Bacteroides</th>\n",
       "      <th>Barnesiella</th>\n",
       "      <th>...</th>\n",
       "      <th>Phascolarctobacterium</th>\n",
       "      <th>Prevotella</th>\n",
       "      <th>Romboutsia</th>\n",
       "      <th>Roseburia</th>\n",
       "      <th>Ruminococcaceae.gen..incertae.sedis</th>\n",
       "      <th>Ruminococcus</th>\n",
       "      <th>Streptococcus</th>\n",
       "      <th>Succinivibrio</th>\n",
       "      <th>Sutterella</th>\n",
       "      <th>Veillonella</th>\n",
       "    </tr>\n",
       "  </thead>\n",
       "  <tbody>\n",
       "    <tr>\n",
       "      <th>0</th>\n",
       "      <td>0.528736</td>\n",
       "      <td>2.400087</td>\n",
       "      <td>0</td>\n",
       "      <td>1</td>\n",
       "      <td>0</td>\n",
       "      <td>0</td>\n",
       "      <td>0</td>\n",
       "      <td>1</td>\n",
       "      <td>0</td>\n",
       "      <td>0</td>\n",
       "      <td>...</td>\n",
       "      <td>0</td>\n",
       "      <td>12</td>\n",
       "      <td>0</td>\n",
       "      <td>3</td>\n",
       "      <td>1</td>\n",
       "      <td>6</td>\n",
       "      <td>0</td>\n",
       "      <td>14</td>\n",
       "      <td>0</td>\n",
       "      <td>0</td>\n",
       "    </tr>\n",
       "    <tr>\n",
       "      <th>1</th>\n",
       "      <td>0.532033</td>\n",
       "      <td>2.504997</td>\n",
       "      <td>0</td>\n",
       "      <td>1</td>\n",
       "      <td>3</td>\n",
       "      <td>0</td>\n",
       "      <td>0</td>\n",
       "      <td>1</td>\n",
       "      <td>1</td>\n",
       "      <td>2</td>\n",
       "      <td>...</td>\n",
       "      <td>4</td>\n",
       "      <td>54</td>\n",
       "      <td>0</td>\n",
       "      <td>4</td>\n",
       "      <td>2</td>\n",
       "      <td>9</td>\n",
       "      <td>1</td>\n",
       "      <td>0</td>\n",
       "      <td>0</td>\n",
       "      <td>0</td>\n",
       "    </tr>\n",
       "    <tr>\n",
       "      <th>2</th>\n",
       "      <td>0.355556</td>\n",
       "      <td>2.768342</td>\n",
       "      <td>0</td>\n",
       "      <td>0</td>\n",
       "      <td>0</td>\n",
       "      <td>1</td>\n",
       "      <td>0</td>\n",
       "      <td>0</td>\n",
       "      <td>0</td>\n",
       "      <td>0</td>\n",
       "      <td>...</td>\n",
       "      <td>0</td>\n",
       "      <td>45</td>\n",
       "      <td>0</td>\n",
       "      <td>6</td>\n",
       "      <td>2</td>\n",
       "      <td>8</td>\n",
       "      <td>1</td>\n",
       "      <td>5</td>\n",
       "      <td>1</td>\n",
       "      <td>0</td>\n",
       "    </tr>\n",
       "    <tr>\n",
       "      <th>3</th>\n",
       "      <td>0.329577</td>\n",
       "      <td>2.719110</td>\n",
       "      <td>0</td>\n",
       "      <td>0</td>\n",
       "      <td>2</td>\n",
       "      <td>1</td>\n",
       "      <td>0</td>\n",
       "      <td>2</td>\n",
       "      <td>0</td>\n",
       "      <td>0</td>\n",
       "      <td>...</td>\n",
       "      <td>0</td>\n",
       "      <td>57</td>\n",
       "      <td>1</td>\n",
       "      <td>7</td>\n",
       "      <td>0</td>\n",
       "      <td>12</td>\n",
       "      <td>0</td>\n",
       "      <td>2</td>\n",
       "      <td>1</td>\n",
       "      <td>0</td>\n",
       "    </tr>\n",
       "    <tr>\n",
       "      <th>4</th>\n",
       "      <td>0.794020</td>\n",
       "      <td>2.904650</td>\n",
       "      <td>0</td>\n",
       "      <td>0</td>\n",
       "      <td>2</td>\n",
       "      <td>1</td>\n",
       "      <td>5</td>\n",
       "      <td>2</td>\n",
       "      <td>0</td>\n",
       "      <td>0</td>\n",
       "      <td>...</td>\n",
       "      <td>0</td>\n",
       "      <td>26</td>\n",
       "      <td>0</td>\n",
       "      <td>1</td>\n",
       "      <td>6</td>\n",
       "      <td>6</td>\n",
       "      <td>0</td>\n",
       "      <td>3</td>\n",
       "      <td>0</td>\n",
       "      <td>0</td>\n",
       "    </tr>\n",
       "  </tbody>\n",
       "</table>\n",
       "<p>5 rows × 60 columns</p>\n",
       "</div>"
      ],
      "text/plain": [
       "   Perturbance_scale   Shannon  Akkermansia  Alistipes  Anaerostipes  \\\n",
       "0           0.528736  2.400087            0          1             0   \n",
       "1           0.532033  2.504997            0          1             3   \n",
       "2           0.355556  2.768342            0          0             0   \n",
       "3           0.329577  2.719110            0          0             2   \n",
       "4           0.794020  2.904650            0          0             2   \n",
       "\n",
       "   Atopobiaceae.gen..incertae.sedis  Bacteria.gen..incertae.sedis  \\\n",
       "0                                 0                             0   \n",
       "1                                 0                             0   \n",
       "2                                 1                             0   \n",
       "3                                 1                             0   \n",
       "4                                 1                             5   \n",
       "\n",
       "   Bacteroidales.gen..incertae.sedis  Bacteroides  Barnesiella  ...  \\\n",
       "0                                  1            0            0  ...   \n",
       "1                                  1            1            2  ...   \n",
       "2                                  0            0            0  ...   \n",
       "3                                  2            0            0  ...   \n",
       "4                                  2            0            0  ...   \n",
       "\n",
       "   Phascolarctobacterium  Prevotella  Romboutsia  Roseburia  \\\n",
       "0                      0          12           0          3   \n",
       "1                      4          54           0          4   \n",
       "2                      0          45           0          6   \n",
       "3                      0          57           1          7   \n",
       "4                      0          26           0          1   \n",
       "\n",
       "   Ruminococcaceae.gen..incertae.sedis  Ruminococcus  Streptococcus  \\\n",
       "0                                    1             6              0   \n",
       "1                                    2             9              1   \n",
       "2                                    2             8              1   \n",
       "3                                    0            12              0   \n",
       "4                                    6             6              0   \n",
       "\n",
       "   Succinivibrio  Sutterella  Veillonella  \n",
       "0             14           0            0  \n",
       "1              0           0            0  \n",
       "2              5           1            0  \n",
       "3              2           1            0  \n",
       "4              3           0            0  \n",
       "\n",
       "[5 rows x 60 columns]"
      ]
     },
     "execution_count": 11,
     "metadata": {},
     "output_type": "execute_result"
    }
   ],
   "source": [
    "X.head()"
   ]
  },
  {
   "cell_type": "code",
   "execution_count": 12,
   "metadata": {},
   "outputs": [],
   "source": [
    "from sklearn.model_selection import cross_val_score\n",
    "from sklearn.model_selection import KFold\n",
    "from sklearn.model_selection import cross_validate\n",
    "import random\n",
    "import math\n",
    "seed = 42\n",
    "X, y = my_data.drop(columns=['Sample_id', 'DistxDay']), my_data.DistxDay\n",
    "kf = KFold(n_splits=5)"
   ]
  },
  {
   "cell_type": "code",
   "execution_count": 13,
   "metadata": {},
   "outputs": [
    {
     "name": "stdout",
     "output_type": "stream",
     "text": [
      "Avg kfold neg MSE: -5.108788518666008\n"
     ]
    }
   ],
   "source": [
    "# Max_depth = 2, max_features = \"log2\"\n",
    "RF_1 = RandomForestRegressor(random_state=seed, max_depth=2, n_estimators= 1050, \n",
    "                            oob_score=True, max_features = \"log2\")\n",
    "result_negMSE_1 = cross_val_score(RF_1, X, y, cv = kf, scoring=\"neg_mean_absolute_error\")\n",
    "print(\"Avg kfold neg MSE: {}\".format(result_negMSE_1.mean())) #Print average accuracy\n",
    "output = cross_validate(RF_1, X, y, cv=kf, scoring = 'neg_mean_absolute_error', return_estimator =True)"
   ]
  },
  {
   "cell_type": "code",
   "execution_count": 14,
   "metadata": {},
   "outputs": [
    {
     "name": "stdout",
     "output_type": "stream",
     "text": [
      "Avg kfold R2 Score: -2.251\n"
     ]
    }
   ],
   "source": [
    "# R-squared (R2) score for the regression\n",
    "result_r2 = cross_val_score(RF_1, X, y, cv=kf, scoring=\"r2\")\n",
    "avg_r2 = round(result_r2.mean(), 3)\n",
    "print(\"Avg kfold R2 Score: {}\".format(avg_r2))"
   ]
  },
  {
   "cell_type": "code",
   "execution_count": 15,
   "metadata": {},
   "outputs": [
    {
     "name": "stdout",
     "output_type": "stream",
     "text": [
      "Feature: Eubacterium, Mean Spearman's rho ± std on Training Data: -0.40 ± 0.14 (-0.54, -0.26)\n",
      "Feature: Lachnospiraceae.gen..incertae.sedis, Mean Spearman's rho ± std on Training Data: 0.40 ± 0.09 (0.31, 0.49)\n",
      "Feature: Prevotella, Mean Spearman's rho ± std on Training Data: -0.06 ± 0.08 (-0.14, 0.01)\n",
      "Feature: Perturbance_scale, Mean Spearman's rho ± std on Training Data: 0.47 ± 0.12 (0.36, 0.59)\n",
      "Feature: Shannon, Mean Spearman's rho ± std on Training Data: -0.35 ± 0.08 (-0.43, -0.26)\n",
      "Feature: Coprococcus, Mean Spearman's rho ± std on Training Data: -0.38 ± 0.11 (-0.49, -0.28)\n",
      "Feature: Ruminococcaceae.gen..incertae.sedis, Mean Spearman's rho ± std on Training Data: 0.35 ± 0.08 (0.27, 0.42)\n",
      "Feature: Barnesiella, Mean Spearman's rho ± std on Training Data: 0.12 ± 0.10 (0.02, 0.22)\n",
      "Feature: Holdemanella, Mean Spearman's rho ± std on Training Data: -0.46 ± 0.16 (-0.62, -0.29)\n",
      "Feature: Bifidobacterium, Mean Spearman's rho ± std on Training Data: -0.32 ± 0.11 (-0.43, -0.20)\n"
     ]
    }
   ],
   "source": [
    "# Get the Spearman's rho for the training data in each cross-validation fold\n",
    "# Correlating V1-V2 distance and feature baseline abundance\n",
    "from sklearn.model_selection import KFold\n",
    "from scipy.stats import spearmanr\n",
    "import numpy as np\n",
    "\n",
    "seed = 42\n",
    "X, y = my_data.drop(columns=['Sample_id','DistxDay']), my_data.DistxDay\n",
    "kf = KFold(n_splits=5, random_state=seed, shuffle=True)\n",
    "\n",
    "# Specify the top 10 features \n",
    "selected_features = ['Eubacterium',\n",
    " 'Lachnospiraceae.gen..incertae.sedis',\n",
    " 'Prevotella',\n",
    " 'Perturbance_scale',\n",
    " 'Shannon',\n",
    " 'Coprococcus',\n",
    " 'Ruminococcaceae.gen..incertae.sedis',\n",
    " 'Barnesiella',\n",
    " 'Holdemanella',\n",
    " 'Bifidobacterium']\n",
    "\n",
    "# Initialize lists to store Spearman's rho values for selected features\n",
    "# Initializes a dictionary where each feature in selected_features is a key, and the corresponding value is an empty list \n",
    "spearman_rho_per_feature = {feature: [] for feature in selected_features}\n",
    "\n",
    "for train_index, test_index in kf.split(X):\n",
    "    X_train, X_test = X.iloc[train_index], X.iloc[test_index]\n",
    "    y_train, y_test = y.iloc[train_index], y.iloc[test_index]\n",
    "\n",
    "    for feature in selected_features:\n",
    "        rho, _ = spearmanr(X_train[feature], y_train)\n",
    "        spearman_rho_per_feature[feature].append(rho)\n",
    "\n",
    "# Print mean, std, and range for each selected feature\n",
    "for feature in selected_features:\n",
    "    mean_rho = np.mean(spearman_rho_per_feature[feature])\n",
    "    std_rho = np.std(spearman_rho_per_feature[feature])\n",
    "    range_str = \"({:.2f}, {:.2f})\".format(mean_rho - std_rho, mean_rho + std_rho)\n",
    "    print(\"Feature: {}, Mean Spearman's rho ± std on Training Data: {:.2f} ± {:.2f} {}\".format(feature, mean_rho, std_rho, range_str))"
   ]
  },
  {
   "cell_type": "markdown",
   "metadata": {},
   "source": [
    "### Correlate real Distxday and preidicted Distxday to check model performance"
   ]
  },
  {
   "cell_type": "code",
   "execution_count": 14,
   "metadata": {},
   "outputs": [],
   "source": [
    "from sklearn.model_selection import cross_val_predict\n",
    "from scipy.stats import spearmanr\n",
    "#from scipy.stats import pearsonr"
   ]
  },
  {
   "cell_type": "code",
   "execution_count": 15,
   "metadata": {},
   "outputs": [],
   "source": [
    "# Get cross-validated predictions for each data point\n",
    "y_pred = cross_val_predict(RF_1, X, y, cv=kf)"
   ]
  },
  {
   "cell_type": "code",
   "execution_count": 16,
   "metadata": {},
   "outputs": [],
   "source": [
    "#y_pred"
   ]
  },
  {
   "cell_type": "code",
   "execution_count": 17,
   "metadata": {},
   "outputs": [],
   "source": [
    "#y"
   ]
  },
  {
   "cell_type": "code",
   "execution_count": 18,
   "metadata": {},
   "outputs": [],
   "source": [
    "# Calculate the Spearman correlation coefficient for the actual vs. predicted across all individuals\n",
    "correlation, p_value = spearmanr(y, y_pred)"
   ]
  },
  {
   "cell_type": "code",
   "execution_count": 19,
   "metadata": {},
   "outputs": [
    {
     "name": "stdout",
     "output_type": "stream",
     "text": [
      "Spearman correlation coefficient for all individuals: -0.461\n",
      "P-value for the Spearman correlation: 0.047\n"
     ]
    }
   ],
   "source": [
    "print(f\"Spearman correlation coefficient for all individuals: {correlation:.3f}\")\n",
    "print(f\"P-value for the Spearman correlation: {p_value:.3f}\")"
   ]
  },
  {
   "cell_type": "code",
   "execution_count": 20,
   "metadata": {},
   "outputs": [
    {
     "data": {
      "text/plain": [
       "Text(9.32571428571429, 20.225465329614867, 'Spearman correlation: -0.46')"
      ]
     },
     "execution_count": 20,
     "metadata": {},
     "output_type": "execute_result"
    },
    {
     "data": {
      "image/png": "[encoded data removed]",
      "text/plain": [
       "<Figure size 720x576 with 1 Axes>"
      ]
     },
     "metadata": {
      "needs_background": "light"
     },
     "output_type": "display_data"
    }
   ],
   "source": [
    "plt.figure(figsize=(10, 8))  # Set the size of the plot\n",
    "plt.scatter(y, y_pred, alpha=0.5)  # Plot y vs. y_pred\n",
    "\n",
    "plt.title('Actual vs. Predicted Values')\n",
    "plt.xlabel('Actual Values')\n",
    "plt.ylabel('Predicted Values')\n",
    "\n",
    "# Optionally, you can annotate the Spearman correlation on the plot\n",
    "corr, _ = spearmanr(y, y_pred)\n",
    "plt.text(min(y), max(y_pred), f'Spearman correlation: {corr:.2f}', fontsize=12)\n"
   ]
  },
  {
   "cell_type": "markdown",
   "metadata": {},
   "source": [
    "## Step 4: Permutation\n",
    "**First shuffle DistxDay against other columns, and then do random forest. Repeat this 1000 times**"
   ]
  },
  {
   "cell_type": "code",
   "execution_count": 14,
   "metadata": {},
   "outputs": [],
   "source": [
    "# Permutation\n",
    "from collections import OrderedDict\n",
    "\n",
    "seed=42\n",
    "kf = KFold(n_splits=5)\n",
    "# Max_depth = 2, max_features = \"log2\", n_estimators=1050, the same setting as the one above\n",
    "RF_shuffle = RandomForestRegressor(random_state=seed, max_depth=2, n_estimators= 1050, \n",
    "                            oob_score=False, max_features = \"log2\")\n",
    "\n",
    "permu_times = 1000\n",
    "\n",
    "#Create an empty array first\n",
    "#https://stackoverflow.com/questions/568962/how-do-i-create-an-empty-array-matrix-in-numpy\n",
    "permutation_negMSE=a = np.empty(shape=(permu_times,1))\n",
    "\n",
    "for i in range(1, permu_times + 1):\n",
    "        #First copy my_data using pandas.DataFrame.copy (the correct way to do this!)\n",
    "        #https://moonbooks.org/Articles/How-to-copy-a-dataframe-with-pandas-in-python-/\n",
    "        shuffled_data = my_data.copy()\n",
    "\n",
    "        #Then shuffle data\n",
    "        shuffled_data['DistxDay'] = shuffled_data['DistxDay'].sample(frac=1, random_state=i).reset_index(drop=True)\n",
    "        \n",
    "        #Then run random forest\n",
    "        X_shuffle, y_shuffle = shuffled_data.drop(columns=['Sample_id','DistxDay']), shuffled_data.DistxDay\n",
    "        result_negMSE_shuffle = cross_val_score(RF_shuffle, X_shuffle, y_shuffle, cv = kf, scoring=\"neg_mean_absolute_error\")\n",
    "        \n",
    "        # Record the neg MSE for each permutation\n",
    "        negMSE=result_negMSE_shuffle.mean() #Print average negMSE\n",
    "        permutation_negMSE[i-1]=negMSE"
   ]
  },
  {
   "cell_type": "code",
   "execution_count": 15,
   "metadata": {},
   "outputs": [
    {
     "data": {
      "text/plain": [
       "1000"
      ]
     },
     "execution_count": 15,
     "metadata": {},
     "output_type": "execute_result"
    }
   ],
   "source": [
    "len(permutation_negMSE)"
   ]
  },
  {
   "cell_type": "code",
   "execution_count": 16,
   "metadata": {},
   "outputs": [
    {
     "data": {
      "text/plain": [
       "Text(0.5, 1.0, 'Permutation negative MSE histogram')"
      ]
     },
     "execution_count": 16,
     "metadata": {},
     "output_type": "execute_result"
    },
    {
     "data": {
      "image/png": "[encoded data removed]",
      "text/plain": [
       "<Figure size 432x288 with 1 Axes>"
      ]
     },
     "metadata": {
      "needs_background": "light"
     },
     "output_type": "display_data"
    }
   ],
   "source": [
    "# Plot a histogram\n",
    "binwidth=0.005\n",
    "plt.hist(permutation_negMSE, bins=np.arange(min(permutation_negMSE), max(permutation_negMSE) \n",
    "                                            + binwidth, binwidth))\n",
    "plt.title(\"Permutation negative MSE histogram\") "
   ]
  },
  {
   "cell_type": "code",
   "execution_count": 17,
   "metadata": {},
   "outputs": [
    {
     "data": {
      "image/png": "[encoded data removed]",
      "text/plain": [
       "<Figure size 432x288 with 1 Axes>"
      ]
     },
     "metadata": {
      "needs_background": "light"
     },
     "output_type": "display_data"
    }
   ],
   "source": [
    "# Calculate area under histogram to get (some sort of) p value\n",
    "values, bins, _ = plt.hist(permutation_negMSE)\n",
    "plt.title(\"Permutation negative MSE histogram\") \n",
    "area = sum(np.diff(bins)*values)"
   ]
  },
  {
   "cell_type": "code",
   "execution_count": 18,
   "metadata": {},
   "outputs": [
    {
     "data": {
      "text/plain": [
       "-4.0234490543917785"
      ]
     },
     "execution_count": 18,
     "metadata": {},
     "output_type": "execute_result"
    }
   ],
   "source": [
    "# What is the p = 0.05 threshold?\n",
    "np.percentile(permutation_negMSE, 95)"
   ]
  },
  {
   "cell_type": "markdown",
   "metadata": {},
   "source": [
    "## Step 5: Random Forest (using leave-one-out cross-validation)"
   ]
  },
  {
   "cell_type": "code",
   "execution_count": 16,
   "metadata": {},
   "outputs": [],
   "source": [
    "from sklearn.model_selection import LeaveOneOut\n",
    "from sklearn.ensemble import RandomForestRegressor\n",
    "from sklearn.metrics import mean_absolute_error\n",
    "import numpy as np\n",
    "\n",
    "seed = 42\n",
    "X, y = my_data.drop(columns=['Sample_id','DistxDay']), my_data.DistxDay\n",
    "\n",
    "# Initialize LeaveOneOut object\n",
    "loo = LeaveOneOut()\n",
    "\n",
    "# Initialize an array of zeros to hold feature importances\n",
    "# X.shape[1]: This is the number of columns (features)\n",
    "# loo.get_n_splits(X): This is the number of splits in LOOCV\n",
    "individual_feature_importances = np.zeros((X.shape[1], loo.get_n_splits(X)))\n",
    "\n",
    "# Initialize an empty list to hold the negative MAE scores\n",
    "neg_mae_scores_loo = []\n",
    "\n",
    "# Initialize an array to store all LOOCV predictions (for correlation of y and y_pred later)\n",
    "y_preds_array = np.zeros(len(y))\n",
    "\n",
    "# Loop over the LOOCV folds\n",
    "for fold, (train_index, test_index) in enumerate(loo.split(X)):\n",
    "    # Split data\n",
    "    X_train, X_test = X.iloc[train_index], X.iloc[test_index]\n",
    "    y_train, y_test = y.iloc[train_index], y.iloc[test_index]\n",
    "    \n",
    "    # Initialize the model with the same hyperparameters\n",
    "    RF = RandomForestRegressor(random_state=seed, max_depth=2, n_estimators=1050,\n",
    "                               oob_score=True, max_features=\"log2\")\n",
    "    # Fit the model\n",
    "    RF.fit(X_train, y_train)\n",
    "    \n",
    "    # Predict on the test set\n",
    "    y_pred = RF.predict(X_test)\n",
    "    y_preds_array[test_index] = y_pred\n",
    "    \n",
    "    # Calculate the MAE for the current fold and append it to the list\n",
    "    mae = mean_absolute_error(y_test, y_pred)\n",
    "    neg_mae_scores_loo.append(-mae)  # We negate the MAE to follow your requirement\n",
    "    \n",
    "    # Accumulate feature importances for this fold\n",
    "    individual_feature_importances[:, fold] = RF.feature_importances_\n",
    "\n",
    "# Calculate median of feature importances\n",
    "median_importances = np.median(individual_feature_importances, axis=1)\n",
    "\n",
    "# Sort the mean feature importances in descending order and get the indices\n",
    "sorted_median_idx = np.argsort(median_importances)[::-1]\n",
    "\n",
    "# Get the names of the top 10 features based on mean importance\n",
    "top_10_median_feature_names = X.columns[sorted_median_idx][:10]\n",
    "\n",
    "# Get the mean importance scores of the top 10 features\n",
    "top_10_median_importances = median_importances[sorted_median_idx][:10]\n",
    "\n",
    "# After collecting all predictions, calculate the Spearman correlation\n",
    "correlation, p_value = spearmanr(y, y_preds_array)"
   ]
  },
  {
   "cell_type": "code",
   "execution_count": 17,
   "metadata": {},
   "outputs": [
    {
     "name": "stdout",
     "output_type": "stream",
     "text": [
      "Average negative MAE:  -4.52271868062485\n"
     ]
    }
   ],
   "source": [
    "# Print out the negative MAE scores for each fold\n",
    "#print(\"Negative MAE scores for each fold: \", neg_mae_scores_loo)\n",
    "\n",
    "# The average negative MAE score across all folds\n",
    "print(\"Average negative MAE: \", np.mean(neg_mae_scores_loo))"
   ]
  },
  {
   "cell_type": "code",
   "execution_count": 18,
   "metadata": {},
   "outputs": [
    {
     "data": {
      "text/plain": [
       "(60, 19)"
      ]
     },
     "execution_count": 18,
     "metadata": {},
     "output_type": "execute_result"
    }
   ],
   "source": [
    "individual_feature_importances.shape"
   ]
  },
  {
   "cell_type": "code",
   "execution_count": 19,
   "metadata": {},
   "outputs": [
    {
     "name": "stdout",
     "output_type": "stream",
     "text": [
      "Perturbance_scale: 0.060919087939054296\n",
      "Eubacterium: 0.060355505804252266\n",
      "Lachnospiraceae.gen..incertae.sedis: 0.05332989615769716\n",
      "Prevotella: 0.04665948815231903\n",
      "Shannon: 0.03858331417247382\n",
      "Bifidobacterium: 0.03648024679866582\n",
      "Coprococcus: 0.0333252283007333\n",
      "Holdemanella: 0.030315986057618552\n",
      "Ruminococcaceae.gen..incertae.sedis: 0.029762211086135058\n",
      "Faecalibacterium: 0.02849339387606805\n"
     ]
    }
   ],
   "source": [
    "# Print the top 10 features and their importances\n",
    "# Use zip because top_10_feature_names and top_10_importances are two iterables that we want to loop over simultaneously.\n",
    "for name, importance in zip(top_10_median_feature_names, top_10_median_importances):\n",
    "    print(f\"{name}: {importance}\")"
   ]
  },
  {
   "cell_type": "code",
   "execution_count": 20,
   "metadata": {},
   "outputs": [
    {
     "name": "stdout",
     "output_type": "stream",
     "text": [
      "Spearman correlation: -0.037\n",
      "P-value: 0.881\n"
     ]
    }
   ],
   "source": [
    "#Print the correlation rho and p-value\n",
    "print(f\"Spearman correlation: {correlation:.3f}\")\n",
    "print(f\"P-value: {p_value:.3f}\")\n"
   ]
  },
  {
   "cell_type": "markdown",
   "metadata": {},
   "source": [
    "## Step 4: Permutation for LOOCV\n",
    "**First shuffle Dist_V1V2 against other columns, and then do random forest. Repeat this 1000 times**"
   ]
  },
  {
   "cell_type": "code",
   "execution_count": 21,
   "metadata": {},
   "outputs": [
    {
     "name": "stdout",
     "output_type": "stream",
     "text": [
      "Current iteration: 0\n",
      "Current iteration: 50\n",
      "Current iteration: 100\n",
      "Current iteration: 150\n",
      "Current iteration: 200\n",
      "Current iteration: 250\n",
      "Current iteration: 300\n",
      "Current iteration: 350\n",
      "Current iteration: 400\n",
      "Current iteration: 450\n",
      "Current iteration: 500\n",
      "Current iteration: 550\n",
      "Current iteration: 600\n",
      "Current iteration: 650\n",
      "Current iteration: 700\n",
      "Current iteration: 750\n",
      "Current iteration: 800\n",
      "Current iteration: 850\n",
      "Current iteration: 900\n",
      "Current iteration: 950\n"
     ]
    }
   ],
   "source": [
    "# Define the number of permutations\n",
    "permu_times = 1000\n",
    "\n",
    "# Create an empty array to store the neg MAE for each permutation\n",
    "permutation_negMAE_loo = np.empty(permu_times)\n",
    "\n",
    "# Initialize LOO cross-validation\n",
    "loo = LeaveOneOut()\n",
    "\n",
    "# Initialize the random forest with the specified settings\n",
    "RF_shuffle_loo = RandomForestRegressor(random_state=seed, max_depth=2, n_estimators=1050,\n",
    "                                       oob_score=False, max_features=\"log2\")\n",
    "\n",
    "# Run the permutation test with LOO CV\n",
    "for i in range(permu_times):\n",
    "    \n",
    "    # Print the value of i at every 50th iteration so that I know the progress\n",
    "    # % is modulo calculation\n",
    "    if i % 50 == 0:\n",
    "        print(f\"Current iteration: {i}\")\n",
    "    \n",
    "    # Shuffle the 'DistxDay' column\n",
    "    shuffled_target = my_data['DistxDay'].sample(frac=1, random_state=i).reset_index(drop=True)\n",
    "    \n",
    "    # Prepare the data for cross-validation\n",
    "    X, y_shuffled = my_data.drop(columns=['Sample_id','DistxDay']), shuffled_target\n",
    "    \n",
    "    # Variable to accumulate the mean absolute error\n",
    "    mae_sum = 0\n",
    "    \n",
    "    # Perform LOO cross-validation\n",
    "    for train_index, test_index in loo.split(X):\n",
    "        # Split the data into train and test for the current fold\n",
    "        X_train, X_test = X.iloc[train_index], X.iloc[test_index]\n",
    "        y_train, y_test = y_shuffled.iloc[train_index], y_shuffled.iloc[test_index]\n",
    "        \n",
    "        # Fit the model\n",
    "        RF_shuffle_loo.fit(X_train, y_train)\n",
    "        \n",
    "        # Make predictions\n",
    "        y_pred = RF_shuffle_loo.predict(X_test)\n",
    "        \n",
    "        # Calculate the MAE for the current fold and accumulate it\n",
    "        mae_sum += mean_absolute_error(y_test, y_pred)\n",
    "    \n",
    "    # Calculate the average MAE over all folds and store the negative value\n",
    "    permutation_negMAE_loo[i] = -mae_sum / loo.get_n_splits(X)"
   ]
  },
  {
   "cell_type": "code",
   "execution_count": 22,
   "metadata": {},
   "outputs": [
    {
     "data": {
      "text/plain": [
       "1000"
      ]
     },
     "execution_count": 22,
     "metadata": {},
     "output_type": "execute_result"
    }
   ],
   "source": [
    "len(permutation_negMAE_loo)"
   ]
  },
  {
   "cell_type": "code",
   "execution_count": 23,
   "metadata": {},
   "outputs": [
    {
     "data": {
      "image/png": "[encoded data removed]",
      "text/plain": [
       "<Figure size 432x288 with 1 Axes>"
      ]
     },
     "metadata": {
      "needs_background": "light"
     },
     "output_type": "display_data"
    }
   ],
   "source": [
    "# Calculate area under histogram to get (some sort of) p value\n",
    "values, bins, _ = plt.hist(permutation_negMAE_loo)\n",
    "plt.title(\"Permutation negative MSE histogram\") \n",
    "area = sum(np.diff(bins)*values)"
   ]
  },
  {
   "cell_type": "code",
   "execution_count": 24,
   "metadata": {},
   "outputs": [
    {
     "data": {
      "text/plain": [
       "-4.11020916785005"
      ]
     },
     "execution_count": 24,
     "metadata": {},
     "output_type": "execute_result"
    }
   ],
   "source": [
    "# What is the p = 0.05 threshold?\n",
    "np.percentile(permutation_negMAE_loo, 95)"
   ]
  },
  {
   "cell_type": "markdown",
   "metadata": {},
   "source": [
    "#### See if the RF (LOOCV) is significant"
   ]
  },
  {
   "cell_type": "code",
   "execution_count": 25,
   "metadata": {},
   "outputs": [
    {
     "name": "stdout",
     "output_type": "stream",
     "text": [
      "Actual neg MAE (-4.52271868062485) is smaller than 95% of the neg MAE from permutation (-4.11020916785005)\n",
      "\u001b[1mRF is nonsignificant\u001b[0m\n"
     ]
    }
   ],
   "source": [
    "# Calculate the mean of the negative MAE scores from the actual LOOCV\n",
    "actual_neg_mae_mean = np.mean(neg_mae_scores_loo)\n",
    "\n",
    "# Calculate the 95th percentile of the negative MAE scores from the permutation test\n",
    "percentile_95_loo = np.percentile(permutation_negMAE_loo, 95)\n",
    "\n",
    "# Compare and print the result\n",
    "if actual_neg_mae_mean > percentile_95_loo: #sig\n",
    "    print(f\"Actual neg MAE ({actual_neg_mae_mean}) is larger than 95% of the neg MAE from permutation ({percentile_95_loo})\")\n",
    "    print(\"\\033[1mRF is significant\\033[0m\") #bold text\n",
    "else: #Nonsig\n",
    "    print(f\"Actual neg MAE ({actual_neg_mae_mean}) is smaller than 95% of the neg MAE from permutation ({percentile_95_loo})\")\n",
    "    print(\"\\033[1mRF is nonsignificant\\033[0m\") #bold text"
   ]
  },
  {
   "cell_type": "code",
   "execution_count": 26,
   "metadata": {},
   "outputs": [
    {
     "name": "stdout",
     "output_type": "stream",
     "text": [
      "The actual_neg_mae_mean is in the 0.437% percentile of the permutation distribution, so the p value is 0.437\n"
     ]
    }
   ],
   "source": [
    "# Calculate the percentage of permutation_negMAE_loo that is less than or equal to actual_neg_mae_mean\n",
    "percentage_loo = np.mean(permutation_negMAE_loo <= actual_neg_mae_mean) * 100\n",
    "p_value_loo = round(1 - percentage_loo/100, 3)\n",
    "print(f\"The actual_neg_mae_mean is in the {p_value_loo}% percentile of the permutation distribution, so the p value is {p_value_loo}\")\n"
   ]
  },
  {
   "cell_type": "code",
   "execution_count": null,
   "metadata": {},
   "outputs": [],
   "source": []
  }
 ],
 "metadata": {
  "kernelspec": {
   "display_name": "Python 3",
   "language": "python",
   "name": "python3"
  },
  "language_info": {
   "codemirror_mode": {
    "name": "ipython",
    "version": 3
   },
   "file_extension": ".py",
   "mimetype": "text/x-python",
   "name": "python",
   "nbconvert_exporter": "python",
   "pygments_lexer": "ipython3",
   "version": "3.7.3"
  }
 },
 "nbformat": 4,
 "nbformat_minor": 5
}
